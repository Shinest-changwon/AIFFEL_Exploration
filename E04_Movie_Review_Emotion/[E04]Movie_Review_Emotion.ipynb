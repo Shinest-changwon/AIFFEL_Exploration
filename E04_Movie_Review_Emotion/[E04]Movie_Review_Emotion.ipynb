{
 "cells": [
  {
   "cell_type": "markdown",
   "id": "outside-young",
   "metadata": {},
   "source": [
    "# Exploration 4. 네이버 영화 리뷰 감성분석"
   ]
  },
  {
   "cell_type": "markdown",
   "id": "confused-length",
   "metadata": {},
   "source": [
    "## <프로젝트 순서>\n",
    "### 1. 데이터 준비와 확인\n",
    "### 2. 데이터로더 구성\n",
    "### 3. 모델구성을 위한 데이터 분석 및 가공\n",
    "### 4. 모델구성\n",
    "### 5. 모델 훈련 개시\n",
    "### 6. Loss, Accuaracy 그래프 시각화\n",
    "### 7. 학습된 Embedding 레이어 분석\n",
    "### 8. 한국어 Word2Vec 임베딩 활용하여 성능개선\n",
    "### 9. 루브릭 평가 및 소감"
   ]
  },
  {
   "cell_type": "markdown",
   "id": "boxed-israeli",
   "metadata": {},
   "source": [
    "## 1. 데이터 준비와 확인"
   ]
  },
  {
   "cell_type": "code",
   "execution_count": 1,
   "id": "acoustic-activation",
   "metadata": {},
   "outputs": [
    {
     "data": {
      "text/html": [
       "<div>\n",
       "<style scoped>\n",
       "    .dataframe tbody tr th:only-of-type {\n",
       "        vertical-align: middle;\n",
       "    }\n",
       "\n",
       "    .dataframe tbody tr th {\n",
       "        vertical-align: top;\n",
       "    }\n",
       "\n",
       "    .dataframe thead th {\n",
       "        text-align: right;\n",
       "    }\n",
       "</style>\n",
       "<table border=\"1\" class=\"dataframe\">\n",
       "  <thead>\n",
       "    <tr style=\"text-align: right;\">\n",
       "      <th></th>\n",
       "      <th>id</th>\n",
       "      <th>document</th>\n",
       "      <th>label</th>\n",
       "    </tr>\n",
       "  </thead>\n",
       "  <tbody>\n",
       "    <tr>\n",
       "      <th>0</th>\n",
       "      <td>9976970</td>\n",
       "      <td>아 더빙.. 진짜 짜증나네요 목소리</td>\n",
       "      <td>0</td>\n",
       "    </tr>\n",
       "    <tr>\n",
       "      <th>1</th>\n",
       "      <td>3819312</td>\n",
       "      <td>흠...포스터보고 초딩영화줄....오버연기조차 가볍지 않구나</td>\n",
       "      <td>1</td>\n",
       "    </tr>\n",
       "    <tr>\n",
       "      <th>2</th>\n",
       "      <td>10265843</td>\n",
       "      <td>너무재밓었다그래서보는것을추천한다</td>\n",
       "      <td>0</td>\n",
       "    </tr>\n",
       "    <tr>\n",
       "      <th>3</th>\n",
       "      <td>9045019</td>\n",
       "      <td>교도소 이야기구먼 ..솔직히 재미는 없다..평점 조정</td>\n",
       "      <td>0</td>\n",
       "    </tr>\n",
       "    <tr>\n",
       "      <th>4</th>\n",
       "      <td>6483659</td>\n",
       "      <td>사이몬페그의 익살스런 연기가 돋보였던 영화!스파이더맨에서 늙어보이기만 했던 커스틴 ...</td>\n",
       "      <td>1</td>\n",
       "    </tr>\n",
       "  </tbody>\n",
       "</table>\n",
       "</div>"
      ],
      "text/plain": [
       "         id                                           document  label\n",
       "0   9976970                                아 더빙.. 진짜 짜증나네요 목소리      0\n",
       "1   3819312                  흠...포스터보고 초딩영화줄....오버연기조차 가볍지 않구나      1\n",
       "2  10265843                                  너무재밓었다그래서보는것을추천한다      0\n",
       "3   9045019                      교도소 이야기구먼 ..솔직히 재미는 없다..평점 조정      0\n",
       "4   6483659  사이몬페그의 익살스런 연기가 돋보였던 영화!스파이더맨에서 늙어보이기만 했던 커스틴 ...      1"
      ]
     },
     "execution_count": 1,
     "metadata": {},
     "output_type": "execute_result"
    }
   ],
   "source": [
    "import pandas as pd\n",
    "import urllib.request\n",
    "%matplotlib inline\n",
    "import matplotlib.pyplot as plt\n",
    "import re\n",
    "from konlpy.tag import Okt\n",
    "from tensorflow import keras\n",
    "from tensorflow.keras.preprocessing.text import Tokenizer\n",
    "import numpy as np\n",
    "from tensorflow.keras.preprocessing.sequence import pad_sequences\n",
    "from collections import Counter\n",
    "\n",
    "# 데이터를 읽어봅시다. \n",
    "train_data = pd.read_table('~/1.AIFFEL_Study/Exploration/E04_Movie_Review_Emotion/ratings_train.txt')\n",
    "test_data = pd.read_table('~/1.AIFFEL_Study/Exploration/E04_Movie_Review_Emotion/ratings_test.txt')\n",
    "\n",
    "train_data.head()"
   ]
  },
  {
   "cell_type": "markdown",
   "id": "amber-expense",
   "metadata": {},
   "source": [
    "## 2. 데이터 로터구성\n",
    "### <구현 기능>\n",
    "### 1) 데이터 중복 제거 - drop_duplicates활용\n",
    "### 2) NaN 결측치 제거 - dropna 활용\n",
    "### 3) 한국어 토크나이저로 토큰화 - Mecab().morphs 메소드 활용\n",
    "### 4) 불용어(Stopwords)제거 - Stopwords 리스트를 이용해 제거\n",
    "### 5) 사전 word_to_index 구성\n",
    "### 6) 텍스트 스트링을 사전 인덱스 스트링으로 변환\n",
    "### 7) X_train, y_train, X_test, y_test, word_to_index 리턴"
   ]
  },
  {
   "cell_type": "code",
   "execution_count": 2,
   "id": "associate-simon",
   "metadata": {},
   "outputs": [],
   "source": [
    "from konlpy.tag import Mecab\n",
    "tokenizer = Mecab() # 토크나이저 생성을 위한 Mecab() 활용\n",
    "stopwords = ['의','가','이','은','들','는','좀','잘','걍','과','도','를','으로','자','에','와','한','하다'] # 불용어 정의\n",
    "\n",
    "def load_data(train_data, test_data, num_words=10000):\n",
    "    # drop_duplicates: 중복 데이터 제거 메소드이며 subset은 처리할 열, 끝에 inplace는 중복 데이터 제거 후 원래 변수에 재할당하는 것\n",
    "    train_data.drop_duplicates(subset=['document'], inplace=True)\n",
    "    # 결측치 제거이며 how='any'는 무엇이든 결측치가 있다면 다 제거하는 것\n",
    "    train_data = train_data.dropna(how = 'any') \n",
    "    test_data.drop_duplicates(subset=['document'], inplace=True) \n",
    "    test_data = test_data.dropna(how = 'any') \n",
    "\n",
    "    X_train = []\n",
    "    for sentence in train_data['document']:\n",
    "        # Mecab().morphs 메소드는 한글 형태소 분석 방법 중 하나이다.\n",
    "        temp_X = tokenizer.morphs(sentence) # 토큰화\n",
    "        temp_X = [word for word in temp_X if not word in stopwords] # 불용어 제거\n",
    "        X_train.append(temp_X)\n",
    "\n",
    "    X_test = []\n",
    "    for sentence in test_data['document']:\n",
    "        temp_X = tokenizer.morphs(sentence) # 토큰화\n",
    "        temp_X = [word for word in temp_X if not word in stopwords] # 불용어 제거\n",
    "        X_test.append(temp_X)\n",
    "\n",
    "    # concatenate을 활용해 array를 합쳐주고 tolist로 리스트로 변환\n",
    "    words = np.concatenate(X_train).tolist()\n",
    "    # Counter()를 활용해 words리스트 안의 인자별 개수를 세서 [('text', 반복횟수)]\n",
    "    counter = Counter(words)\n",
    "    # 그리고 counter.most_common를 활용해 가장 많은 개수를 가진 인자부터 재배열한다.\n",
    "    # counter.most_common(k)에서 가장 개수가 많은 k개의 데이터를 얻을 수 있다.\n",
    "    counter = counter.most_common(10000-4)\n",
    "    \"\"\"\n",
    "    counter[:10] = \\\n",
    "    [('.', 159415),\n",
    "     ('영화', 57338),\n",
    "     ('다', 54971),\n",
    "     ('고', 47196),\n",
    "     ('하', 44376),\n",
    "     ('을', 29832),\n",
    "     ('보', 25603),\n",
    "     ('..', 22655),\n",
    "     ('게', 22161),\n",
    "     (',', 22047)]\n",
    "    \"\"\"\n",
    "    vocab = ['<PAD>', '<BOS>', '<UNK>', '<UNUSED>'] + [key for key, _ in counter]\n",
    "    \"\"\"\n",
    "    key for key,_ in counter[:10] = \\\n",
    "    .\n",
    "    영화\n",
    "    다\n",
    "    고\n",
    "    하\n",
    "    을\n",
    "    보\n",
    "    ..\n",
    "    게\n",
    "    ,\n",
    "    \"\"\"\n",
    "    word_to_index = {word:index for index, word in enumerate(vocab)}\n",
    "    \"\"\"\n",
    "    word_to_index = \\\n",
    "    {'<PAD>': 0,\n",
    "     '<BOS>': 1,\n",
    "     '<UNK>': 2,\n",
    "     '<UNUSED>': 3,\n",
    "     '.': 4,\n",
    "     '영화': 5,\n",
    "     '다': 6,\n",
    "     '고': 7,\n",
    "     '하': 8,\n",
    "     '을': 9,\n",
    "     ...,\n",
    "      '소녀': 992,\n",
    "     '느꼈': 993,\n",
    "     '끝내': 994,\n",
    "     '로맨틱': 995,\n",
    "     '조연': 996,\n",
    "     '천재': 997,\n",
    "     '아도': 998,\n",
    "     '쩔': 999,\n",
    "     ...}\n",
    "    \"\"\"\n",
    "\n",
    "    def wordlist_to_indexlist(wordlist):\n",
    "        return [word_to_index[word] if word in word_to_index else word_to_index['<UNK>'] for word in wordlist]\n",
    "\n",
    "    X_train = list(map(wordlist_to_indexlist, X_train))\n",
    "    X_test = list(map(wordlist_to_indexlist, X_test))\n",
    "\n",
    "    return X_train, np.array(list(train_data['label'])), X_test, np.array(list(test_data['label'])), word_to_index\n",
    "\n",
    "X_train, y_train, X_test, y_test, word_to_index = load_data(train_data, test_data)"
   ]
  },
  {
   "cell_type": "code",
   "execution_count": 3,
   "id": "juvenile-affiliate",
   "metadata": {},
   "outputs": [],
   "source": [
    "index_to_word = {index:word for word, index in word_to_index.items()}"
   ]
  },
  {
   "cell_type": "code",
   "execution_count": 4,
   "id": "legitimate-looking",
   "metadata": {},
   "outputs": [],
   "source": [
    "# 문장 1개를 활용할 딕셔너리와 함께 주면, 단어 인덱스 리스트 벡터로 변환해 주는 함수입니다. \n",
    "# 단, 모든 문장은 <BOS>로 시작하는 것으로 합니다. \n",
    "def get_encoded_sentence(sentence, word_to_index):\n",
    "    return [word_to_index['<BOS>']]+[word_to_index[word] if word in word_to_index else word_to_index['<UNK>'] for word in sentence.split()]\n",
    "\n",
    "# 여러 개의 문장 리스트를 한꺼번에 단어 인덱스 리스트 벡터로 encode해 주는 함수입니다. \n",
    "def get_encoded_sentences(sentences, word_to_index):\n",
    "    return [get_encoded_sentence(sentence, word_to_index) for sentence in sentences]\n",
    "\n",
    "# 숫자 벡터로 encode된 문장을 원래대로 decode하는 함수입니다. \n",
    "def get_decoded_sentence(encoded_sentence, index_to_word):\n",
    "    return ' '.join(index_to_word[index] if index in index_to_word else '<UNK>' for index in encoded_sentence[1:])  #[1:]를 통해 <BOS>를 제외\n",
    "\n",
    "# 여러개의 숫자 벡터로 encode된 문장을 한꺼번에 원래대로 decode하는 함수입니다. \n",
    "def get_decoded_sentences(encoded_sentences, index_to_word):\n",
    "    return [get_decoded_sentence(encoded_sentence, index_to_word) for encoded_sentence in encoded_sentences]"
   ]
  },
  {
   "cell_type": "markdown",
   "id": "sufficient-scheduling",
   "metadata": {},
   "source": [
    "# 3. 모델구성을 위한 데이터 분석 및 가공\n",
    "## - 데이터셋 내 문장 길이 분포\n",
    "## - 적절한 최대 문장 길이 지정\n",
    "## - keras.preprocessing.sequence.pad_sequences 을 활용한 패딩 추가"
   ]
  },
  {
   "cell_type": "code",
   "execution_count": 5,
   "id": "macro-chapter",
   "metadata": {},
   "outputs": [
    {
     "name": "stdout",
     "output_type": "stream",
     "text": [
      "문장길이 평균 :  15.96940191154864\n",
      "문장길이 최대 :  116\n",
      "문장길이 표준편차 :  12.843571191092\n",
      "pad_sequences maxlen :  41\n",
      "전체 문장의 0.9342988343341575%가 maxlen 설정값 이내에 포함됩니다. \n"
     ]
    }
   ],
   "source": [
    "total_data_text = list(X_train) + list(X_test)\n",
    "# 텍스트데이터 문장길이의 리스트를 생성한 후\n",
    "num_tokens = [len(tokens) for tokens in total_data_text]\n",
    "num_tokens = np.array(num_tokens)\n",
    "# 문장길이의 평균값, 최대값, 표준편차를 계산해 본다. \n",
    "print('문장길이 평균 : ', np.mean(num_tokens))\n",
    "print('문장길이 최대 : ', np.max(num_tokens))\n",
    "print('문장길이 표준편차 : ', np.std(num_tokens))\n",
    "\n",
    "# 예를들어, 최대 길이를 (평균 + 2*표준편차)로 한다면,  \n",
    "max_tokens = np.mean(num_tokens) + 2 * np.std(num_tokens)\n",
    "maxlen = int(max_tokens)\n",
    "print('pad_sequences maxlen : ', maxlen)\n",
    "print('전체 문장의 {}%가 maxlen 설정값 이내에 포함됩니다. '.format(np.sum(num_tokens < max_tokens) / len(num_tokens)))"
   ]
  },
  {
   "cell_type": "markdown",
   "id": "stupid-mandate",
   "metadata": {},
   "source": [
    "### padding 방식을 문장 뒷쪽('post')과 앞쪽('pre') 비교\n",
    "### RNN을 이용한 딥러닝 적용 시 성능 차이 있음\n",
    "### >>> 'pre'가 훨씬 유리(이유: RNN은 입력데이터가 순차적으로 처리, 가장 마지막 입력이 최종 state값에 가장 많은 영향을 끼침\n",
    "### 즉, 마지막 입력이 무의미해지는 padding방식인 'post'는 비효율적"
   ]
  },
  {
   "cell_type": "code",
   "execution_count": 6,
   "id": "automatic-database",
   "metadata": {},
   "outputs": [],
   "source": [
    "X_train = keras.preprocessing.sequence.pad_sequences(X_train,\n",
    "                                                        value=word_to_index[\"<PAD>\"],\n",
    "                                                        padding='pre',\n",
    "                                                        maxlen=maxlen)\n",
    "\n",
    "X_test = keras.preprocessing.sequence.pad_sequences(X_test,\n",
    "                                                       value=word_to_index[\"<PAD>\"],\n",
    "                                                       padding='pre',\n",
    "                                                       maxlen=maxlen)\n",
    "\n",
    "\n",
    "# X_train = keras.preprocessing.sequence.pad_sequences(X_train,\n",
    "#                                                         value=word_to_index[\"<PAD>\"],\n",
    "#                                                         padding='post',\n",
    "#                                                         maxlen=maxlen)\n",
    "\n",
    "# X_test = keras.preprocessing.sequence.pad_sequences(X_test,\n",
    "#                                                        value=word_to_index[\"<PAD>\"],\n",
    "#                                                        padding='post',\n",
    "#                                                        maxlen=maxlen)"
   ]
  },
  {
   "cell_type": "markdown",
   "id": "medium-queens",
   "metadata": {},
   "source": [
    "## Validation set 구성"
   ]
  },
  {
   "cell_type": "code",
   "execution_count": 7,
   "id": "polished-sunglasses",
   "metadata": {},
   "outputs": [
    {
     "name": "stdout",
     "output_type": "stream",
     "text": [
      "(136182, 41)\n",
      "(136182,)\n"
     ]
    }
   ],
   "source": [
    "# validation set 10000건 분리\n",
    "x_val = X_train[:10000]   \n",
    "y_val = y_train[:10000]\n",
    "\n",
    "# validation set을 제외한 나머지 15000건\n",
    "partial_X_train = X_train[10000:]  \n",
    "partial_y_train = y_train[10000:]\n",
    "\n",
    "print(partial_X_train.shape)\n",
    "print(partial_y_train.shape)"
   ]
  },
  {
   "cell_type": "markdown",
   "id": "legal-connectivity",
   "metadata": {},
   "source": [
    "   "
   ]
  },
  {
   "cell_type": "markdown",
   "id": "scientific-aerospace",
   "metadata": {},
   "source": [
    "# 4. 모델 구성"
   ]
  },
  {
   "cell_type": "markdown",
   "id": "failing-prerequisite",
   "metadata": {},
   "source": [
    "## 4-1. 첫 번째 모델 구성: RNN\n",
    "### 시퀀스(Sequence) 형태의 데이터를 처리하기에 최적인 모델, 텍스트는 시퀀스 형태\n",
    "#### 참고 - 시퀀스 형태: 입력이 시간축을 따라 발생하는 데이터"
   ]
  },
  {
   "cell_type": "code",
   "execution_count": 9,
   "id": "practical-breath",
   "metadata": {},
   "outputs": [
    {
     "name": "stdout",
     "output_type": "stream",
     "text": [
      "Model: \"sequential_1\"\n",
      "_________________________________________________________________\n",
      "Layer (type)                 Output Shape              Param #   \n",
      "=================================================================\n",
      "embedding_1 (Embedding)      (None, None, 16)          160000    \n",
      "_________________________________________________________________\n",
      "lstm_1 (LSTM)                (None, 8)                 800       \n",
      "_________________________________________________________________\n",
      "dense_2 (Dense)              (None, 8)                 72        \n",
      "_________________________________________________________________\n",
      "dense_3 (Dense)              (None, 1)                 9         \n",
      "=================================================================\n",
      "Total params: 160,881\n",
      "Trainable params: 160,881\n",
      "Non-trainable params: 0\n",
      "_________________________________________________________________\n"
     ]
    }
   ],
   "source": [
    "vocab_size = 10000    # 어휘 사전의 크기입니다(10,000개의 단어)\n",
    "word_vector_dim = 16  # 워드 벡터의 차원수 (변경가능한 하이퍼파라미터)\n",
    "\n",
    "# model 설계 - 딥러닝 모델 코드를 직접 작성해 주세요.\n",
    "model = keras.Sequential()\n",
    "model.add(keras.layers.Embedding(vocab_size, word_vector_dim, input_shape=(None,)))\n",
    "model.add(keras.layers.LSTM(8))   # 가장 널리 쓰이는 RNN인 LSTM 레이어를 사용하였습니다. 이때 LSTM state 벡터의 차원수는 8로 하였습니다. (변경가능)\n",
    "model.add(keras.layers.Dense(8, activation='relu'))\n",
    "model.add(keras.layers.Dense(1, activation='sigmoid'))  # 최종 출력은 긍정/부정을 나타내는 1dim 입니다.\n",
    "\n",
    "model.summary()"
   ]
  },
  {
   "cell_type": "markdown",
   "id": "unknown-spencer",
   "metadata": {},
   "source": [
    "# 5. 모델 훈련 및 평가"
   ]
  },
  {
   "cell_type": "markdown",
   "id": "dying-jackson",
   "metadata": {},
   "source": [
    "## 5-1. RNN 모델 훈련 및 평가"
   ]
  },
  {
   "cell_type": "code",
   "execution_count": 10,
   "id": "front-elements",
   "metadata": {},
   "outputs": [
    {
     "name": "stdout",
     "output_type": "stream",
     "text": [
      "Epoch 1/5\n",
      "266/266 [==============================] - 2s 6ms/step - loss: 0.5008 - accuracy: 0.7840 - val_loss: 0.3653 - val_accuracy: 0.8448\n",
      "Epoch 2/5\n",
      "266/266 [==============================] - 1s 5ms/step - loss: 0.3423 - accuracy: 0.8551 - val_loss: 0.3426 - val_accuracy: 0.8504\n",
      "Epoch 3/5\n",
      "266/266 [==============================] - 2s 6ms/step - loss: 0.3190 - accuracy: 0.8666 - val_loss: 0.3413 - val_accuracy: 0.8496\n",
      "Epoch 4/5\n",
      "266/266 [==============================] - 1s 5ms/step - loss: 0.3071 - accuracy: 0.8723 - val_loss: 0.3451 - val_accuracy: 0.8523\n",
      "Epoch 5/5\n",
      "266/266 [==============================] - 1s 5ms/step - loss: 0.2978 - accuracy: 0.8768 - val_loss: 0.3423 - val_accuracy: 0.8518\n"
     ]
    }
   ],
   "source": [
    "model.compile(optimizer='adam',\n",
    "              loss='binary_crossentropy',\n",
    "              metrics=['accuracy'])\n",
    "              \n",
    "epochs=5  # 몇 epoch를 훈련하면 좋을지 결과를 보면서 바꾸어 봅시다. \n",
    "\n",
    "history = model.fit(partial_X_train,\n",
    "                    partial_y_train,\n",
    "                    epochs=epochs,\n",
    "                    batch_size=512,\n",
    "                    validation_data=(x_val, y_val),\n",
    "                    verbose=1)"
   ]
  },
  {
   "cell_type": "markdown",
   "id": "environmental-sacrifice",
   "metadata": {},
   "source": [
    "### >>> 학습 결과: 검증 정확도 0.8518"
   ]
  },
  {
   "cell_type": "code",
   "execution_count": 11,
   "id": "indian-basics",
   "metadata": {},
   "outputs": [
    {
     "name": "stdout",
     "output_type": "stream",
     "text": [
      "1537/1537 - 2s - loss: 0.3562 - accuracy: 0.8482\n",
      "[0.3562356233596802, 0.8482006788253784]\n"
     ]
    }
   ],
   "source": [
    "# 학습이 끝난 모델 평가\n",
    "results = model.evaluate(X_test,  y_test, verbose=2)\n",
    "\n",
    "print(results)"
   ]
  },
  {
   "cell_type": "markdown",
   "id": "resident-verse",
   "metadata": {},
   "source": [
    "### >>> 평가 결과: 정확도 0.8482"
   ]
  },
  {
   "cell_type": "markdown",
   "id": "statistical-virus",
   "metadata": {},
   "source": [
    "# 6. Loss, Accuarcy 그래프 시각화"
   ]
  },
  {
   "cell_type": "markdown",
   "id": "champion-dealing",
   "metadata": {},
   "source": [
    "### model.fit() 진행 시 매 epoch마다 train/validation loss, accuracy 등이  history에 저장됨.\n",
    "### 이를 활용해 그래프를 그릴 수 있다."
   ]
  },
  {
   "cell_type": "code",
   "execution_count": 12,
   "id": "wanted-campbell",
   "metadata": {
    "scrolled": true
   },
   "outputs": [
    {
     "name": "stdout",
     "output_type": "stream",
     "text": [
      "dict_keys(['loss', 'accuracy', 'val_loss', 'val_accuracy'])\n"
     ]
    }
   ],
   "source": [
    "history_dict = history.history\n",
    "print(history_dict.keys()) # epoch에 따른 그래프를 그려볼 수 있는 항목들"
   ]
  },
  {
   "cell_type": "markdown",
   "id": "complex-assault",
   "metadata": {},
   "source": [
    "## 6-1-1. RNN 모델의 Train, Validation의 loss 그래프"
   ]
  },
  {
   "cell_type": "code",
   "execution_count": 13,
   "id": "apparent-mobility",
   "metadata": {},
   "outputs": [
    {
     "data": {
      "image/png": "[encoded data removed]",
      "text/plain": [
       "<Figure size 432x288 with 1 Axes>"
      ]
     },
     "metadata": {
      "needs_background": "light"
     },
     "output_type": "display_data"
    }
   ],
   "source": [
    "import matplotlib.pyplot as plt\n",
    "\n",
    "acc = history_dict['accuracy']\n",
    "val_acc = history_dict['val_accuracy']\n",
    "loss = history_dict['loss']\n",
    "val_loss = history_dict['val_loss']\n",
    "\n",
    "epochs = range(1, len(acc) + 1)\n",
    "\n",
    "# \"bo\"는 \"파란색 점\"입니다\n",
    "plt.plot(epochs, loss, 'bo', label='Training loss')\n",
    "# b는 \"파란 실선\"입니다\n",
    "plt.plot(epochs, val_loss, 'b', label='Validation loss')\n",
    "plt.title('Training and validation loss')\n",
    "plt.xlabel('Epochs')\n",
    "plt.ylabel('Loss')\n",
    "plt.legend()\n",
    "\n",
    "plt.show()"
   ]
  },
  {
   "cell_type": "markdown",
   "id": "endangered-plenty",
   "metadata": {},
   "source": [
    "## 6-1-2. RNN 모델의 Train, Validation의 Accuarcy 그래프"
   ]
  },
  {
   "cell_type": "code",
   "execution_count": 14,
   "id": "conceptual-integration",
   "metadata": {
    "scrolled": false
   },
   "outputs": [
    {
     "data": {
      "image/png": "[encoded data removed]",
      "text/plain": [
       "<Figure size 432x288 with 1 Axes>"
      ]
     },
     "metadata": {
      "needs_background": "light"
     },
     "output_type": "display_data"
    }
   ],
   "source": [
    "plt.clf()   # 그림을 초기화합니다\n",
    "\n",
    "plt.plot(epochs, acc, 'bo', label='Training acc')\n",
    "plt.plot(epochs, val_acc, 'b', label='Validation acc')\n",
    "plt.title('Training and validation accuracy')\n",
    "plt.xlabel('Epochs')\n",
    "plt.ylabel('Accuracy')\n",
    "plt.legend()\n",
    "\n",
    "plt.show()"
   ]
  },
  {
   "cell_type": "markdown",
   "id": "entire-shooting",
   "metadata": {},
   "source": [
    "## RNN 모델의 평가 결과\n",
    "### 1) 학습과 평가 모두 정확도 약 85%\n",
    "### 2) epoch 변화에 따른 정확도는 2를 초과하자 Train과 Validation이 많이 벌어지는 경향 확인\n",
    "### >> epoch=2가 최적으로 판단됨."
   ]
  },
  {
   "cell_type": "markdown",
   "id": "overall-exploration",
   "metadata": {},
   "source": [
    "  \n",
    "  \n",
    "  "
   ]
  },
  {
   "cell_type": "markdown",
   "id": "brave-suspect",
   "metadata": {},
   "source": [
    "## 4-2. 두 번째 모델 구성: 1D-CNN\n",
    "### 문장 전체를 한꺼번에 한 방향으로 길이 7짜리 필터로 스캐닝하면서 7단어 이내에서 발견되는 특징을 추출하여 그것으로 문장을 분류하는 방식\n",
    "### CNN 계열은 RNN 계열보다 병렬처리가 효율적이기 때문에 학습속도도 훨씬 빠르게 진행된다는 장점"
   ]
  },
  {
   "cell_type": "code",
   "execution_count": 15,
   "id": "based-drive",
   "metadata": {},
   "outputs": [
    {
     "name": "stdout",
     "output_type": "stream",
     "text": [
      "Model: \"sequential_2\"\n",
      "_________________________________________________________________\n",
      "Layer (type)                 Output Shape              Param #   \n",
      "=================================================================\n",
      "embedding_2 (Embedding)      (None, None, 16)          160000    \n",
      "_________________________________________________________________\n",
      "conv1d (Conv1D)              (None, None, 16)          1808      \n",
      "_________________________________________________________________\n",
      "max_pooling1d (MaxPooling1D) (None, None, 16)          0         \n",
      "_________________________________________________________________\n",
      "conv1d_1 (Conv1D)            (None, None, 16)          1808      \n",
      "_________________________________________________________________\n",
      "global_max_pooling1d (Global (None, 16)                0         \n",
      "_________________________________________________________________\n",
      "dense_4 (Dense)              (None, 8)                 136       \n",
      "_________________________________________________________________\n",
      "dense_5 (Dense)              (None, 1)                 9         \n",
      "=================================================================\n",
      "Total params: 163,761\n",
      "Trainable params: 163,761\n",
      "Non-trainable params: 0\n",
      "_________________________________________________________________\n"
     ]
    }
   ],
   "source": [
    "vocab_size = 10000  # 어휘 사전의 크기입니다(10000개의 단어)\n",
    "word_vector_dim = 16   # 단어 하나를 표현하는 임베딩 벡터의 차원수입니다. \n",
    "\n",
    "model = keras.Sequential()\n",
    "model.add(keras.layers.Embedding(vocab_size, word_vector_dim, input_shape=(None,)))\n",
    "model.add(keras.layers.Conv1D(16, 7, activation='relu'))\n",
    "model.add(keras.layers.MaxPooling1D(5))\n",
    "model.add(keras.layers.Conv1D(16, 7, activation='relu'))\n",
    "model.add(keras.layers.GlobalMaxPooling1D())\n",
    "model.add(keras.layers.Dense(8, activation='relu'))\n",
    "model.add(keras.layers.Dense(1, activation='sigmoid'))  # 최종 출력은 긍정/부정을 나타내는 1dim 입니다.\n",
    "\n",
    "model.summary()"
   ]
  },
  {
   "cell_type": "markdown",
   "id": "eastern-trout",
   "metadata": {},
   "source": [
    "## 5-2. 1D-CNN 모델 훈련 및 평가"
   ]
  },
  {
   "cell_type": "code",
   "execution_count": 16,
   "id": "progressive-instruction",
   "metadata": {
    "scrolled": true
   },
   "outputs": [
    {
     "name": "stdout",
     "output_type": "stream",
     "text": [
      "Epoch 1/5\n",
      "266/266 [==============================] - 8s 29ms/step - loss: 0.4816 - accuracy: 0.7527 - val_loss: 0.3448 - val_accuracy: 0.8494\n",
      "Epoch 2/5\n",
      "266/266 [==============================] - 1s 5ms/step - loss: 0.3258 - accuracy: 0.8605 - val_loss: 0.3354 - val_accuracy: 0.8560\n",
      "Epoch 3/5\n",
      "266/266 [==============================] - 1s 5ms/step - loss: 0.2942 - accuracy: 0.8779 - val_loss: 0.3276 - val_accuracy: 0.8587\n",
      "Epoch 4/5\n",
      "266/266 [==============================] - 1s 5ms/step - loss: 0.2674 - accuracy: 0.8912 - val_loss: 0.3359 - val_accuracy: 0.8556\n",
      "Epoch 5/5\n",
      "266/266 [==============================] - 1s 5ms/step - loss: 0.2374 - accuracy: 0.9062 - val_loss: 0.3471 - val_accuracy: 0.8542\n"
     ]
    }
   ],
   "source": [
    "model.compile(optimizer='adam',\n",
    "              loss='binary_crossentropy',\n",
    "              metrics=['accuracy'])\n",
    "              \n",
    "epochs=5  # 몇 epoch를 훈련하면 좋을지 결과를 보면서 바꾸어 봅시다. \n",
    "\n",
    "history = model.fit(partial_X_train,\n",
    "                    partial_y_train,\n",
    "                    epochs=epochs,\n",
    "                    batch_size=512,\n",
    "                    validation_data=(x_val, y_val),\n",
    "                    verbose=1)"
   ]
  },
  {
   "cell_type": "markdown",
   "id": "regional-allah",
   "metadata": {},
   "source": [
    "### >>> 학습 결과: 검증 정확도 0.8542"
   ]
  },
  {
   "cell_type": "code",
   "execution_count": 17,
   "id": "smart-airport",
   "metadata": {},
   "outputs": [
    {
     "name": "stdout",
     "output_type": "stream",
     "text": [
      "1537/1537 - 4s - loss: 0.3611 - accuracy: 0.8479\n",
      "[0.3610732853412628, 0.84787517786026]\n"
     ]
    }
   ],
   "source": [
    "# 학습이 끝난 모델 평가\n",
    "results = model.evaluate(X_test,  y_test, verbose=2)\n",
    "\n",
    "print(results)"
   ]
  },
  {
   "cell_type": "markdown",
   "id": "divine-reunion",
   "metadata": {},
   "source": [
    "### >>> 평가 결과: 정확도 0.8479"
   ]
  },
  {
   "cell_type": "code",
   "execution_count": 18,
   "id": "controlling-acting",
   "metadata": {
    "scrolled": true
   },
   "outputs": [
    {
     "name": "stdout",
     "output_type": "stream",
     "text": [
      "dict_keys(['loss', 'accuracy', 'val_loss', 'val_accuracy'])\n"
     ]
    }
   ],
   "source": [
    "history_dict = history.history\n",
    "print(history_dict.keys()) # epoch에 따른 그래프를 그려볼 수 있는 항목들"
   ]
  },
  {
   "cell_type": "markdown",
   "id": "virgin-agriculture",
   "metadata": {},
   "source": [
    "## 6-2-1. 1D-CNN 모델의 Train, Validation의 loss 그래프"
   ]
  },
  {
   "cell_type": "code",
   "execution_count": 19,
   "id": "prospective-survey",
   "metadata": {},
   "outputs": [
    {
     "data": {
      "image/png": "[encoded data removed]",
      "text/plain": [
       "<Figure size 432x288 with 1 Axes>"
      ]
     },
     "metadata": {
      "needs_background": "light"
     },
     "output_type": "display_data"
    }
   ],
   "source": [
    "import matplotlib.pyplot as plt\n",
    "\n",
    "acc = history_dict['accuracy']\n",
    "val_acc = history_dict['val_accuracy']\n",
    "loss = history_dict['loss']\n",
    "val_loss = history_dict['val_loss']\n",
    "\n",
    "epochs = range(1, len(acc) + 1)\n",
    "\n",
    "# \"bo\"는 \"파란색 점\"입니다\n",
    "plt.plot(epochs, loss, 'bo', label='Training loss')\n",
    "# b는 \"파란 실선\"입니다\n",
    "plt.plot(epochs, val_loss, 'b', label='Validation loss')\n",
    "plt.title('Training and validation loss')\n",
    "plt.xlabel('Epochs')\n",
    "plt.ylabel('Loss')\n",
    "plt.legend()\n",
    "\n",
    "plt.show()"
   ]
  },
  {
   "cell_type": "markdown",
   "id": "second-surface",
   "metadata": {},
   "source": [
    "## 6-2-2. 1D-CNN 모델의 Train, Validation의 Accuarcy 그래프"
   ]
  },
  {
   "cell_type": "code",
   "execution_count": 20,
   "id": "empty-analysis",
   "metadata": {
    "scrolled": false
   },
   "outputs": [
    {
     "data": {
      "image/png": "[encoded data removed]",
      "text/plain": [
       "<Figure size 432x288 with 1 Axes>"
      ]
     },
     "metadata": {
      "needs_background": "light"
     },
     "output_type": "display_data"
    }
   ],
   "source": [
    "plt.clf()   # 그림을 초기화합니다\n",
    "\n",
    "plt.plot(epochs, acc, 'bo', label='Training acc')\n",
    "plt.plot(epochs, val_acc, 'b', label='Validation acc')\n",
    "plt.title('Training and validation accuracy')\n",
    "plt.xlabel('Epochs')\n",
    "plt.ylabel('Accuracy')\n",
    "plt.legend()\n",
    "\n",
    "plt.show()"
   ]
  },
  {
   "cell_type": "markdown",
   "id": "dutch-obligation",
   "metadata": {},
   "source": [
    "## 1D-CNN 모델의 평가 결과\n",
    "### 1) 학습, 평가 정확도: 약 85%\n",
    "### 2) epoch변화에 따라 RNN과 마찬가지로 epoch가 2를 넘어가자 Train, Validation의 차이가 났다.\n",
    "### 3) >> 정확도, epoch 변화 양상에 따른 정확도 변화가 RNN과 유사함"
   ]
  },
  {
   "cell_type": "markdown",
   "id": "wireless-company",
   "metadata": {},
   "source": [
    "  \n",
    "  \n",
    "  "
   ]
  },
  {
   "cell_type": "markdown",
   "id": "lonely-interim",
   "metadata": {},
   "source": [
    "## 4-3. 세 번째 모델 구성: GlobalMaxPolling1D() 레이어 하나만 사용\n",
    "###  전체 문장 중에서 단 하나의 가장 중요한 단어만 피처로 추출하여 그것으로 문장의 긍정/부정을 평가하는 방식"
   ]
  },
  {
   "cell_type": "code",
   "execution_count": 21,
   "id": "instructional-terminal",
   "metadata": {},
   "outputs": [
    {
     "name": "stdout",
     "output_type": "stream",
     "text": [
      "Model: \"sequential_3\"\n",
      "_________________________________________________________________\n",
      "Layer (type)                 Output Shape              Param #   \n",
      "=================================================================\n",
      "embedding_3 (Embedding)      (None, None, 16)          160000    \n",
      "_________________________________________________________________\n",
      "global_max_pooling1d_1 (Glob (None, 16)                0         \n",
      "_________________________________________________________________\n",
      "dense_6 (Dense)              (None, 8)                 136       \n",
      "_________________________________________________________________\n",
      "dense_7 (Dense)              (None, 1)                 9         \n",
      "=================================================================\n",
      "Total params: 160,145\n",
      "Trainable params: 160,145\n",
      "Non-trainable params: 0\n",
      "_________________________________________________________________\n"
     ]
    }
   ],
   "source": [
    "vocab_size = 10000  # 어휘 사전의 크기입니다(10000개의 단어)\n",
    "word_vector_dim = 16   # 단어 하나를 표현하는 임베딩 벡터의 차원수입니다. \n",
    "\n",
    "model = keras.Sequential()\n",
    "model.add(keras.layers.Embedding(vocab_size, word_vector_dim, input_shape=(None,)))\n",
    "model.add(keras.layers.GlobalMaxPooling1D())\n",
    "model.add(keras.layers.Dense(8, activation='relu'))\n",
    "model.add(keras.layers.Dense(1, activation='sigmoid'))  # 최종 출력은 긍정/부정을 나타내는 1dim 입니다.\n",
    "\n",
    "model.summary()"
   ]
  },
  {
   "cell_type": "markdown",
   "id": "reasonable-benchmark",
   "metadata": {},
   "source": [
    "## 5-3. GlobalMaxPolling1D() 모델 훈련 및 평가"
   ]
  },
  {
   "cell_type": "code",
   "execution_count": 22,
   "id": "colored-leone",
   "metadata": {},
   "outputs": [
    {
     "name": "stdout",
     "output_type": "stream",
     "text": [
      "Epoch 1/5\n",
      "266/266 [==============================] - 1s 4ms/step - loss: 0.5823 - accuracy: 0.7426 - val_loss: 0.4349 - val_accuracy: 0.8262\n",
      "Epoch 2/5\n",
      "266/266 [==============================] - 1s 4ms/step - loss: 0.3837 - accuracy: 0.8414 - val_loss: 0.3588 - val_accuracy: 0.8407\n",
      "Epoch 3/5\n",
      "266/266 [==============================] - 1s 4ms/step - loss: 0.3309 - accuracy: 0.8613 - val_loss: 0.3460 - val_accuracy: 0.8430\n",
      "Epoch 4/5\n",
      "266/266 [==============================] - 1s 4ms/step - loss: 0.3050 - accuracy: 0.8732 - val_loss: 0.3456 - val_accuracy: 0.8446\n",
      "Epoch 5/5\n",
      "266/266 [==============================] - 1s 4ms/step - loss: 0.2861 - accuracy: 0.8822 - val_loss: 0.3495 - val_accuracy: 0.8468\n"
     ]
    }
   ],
   "source": [
    "model.compile(optimizer='adam',\n",
    "              loss='binary_crossentropy',\n",
    "              metrics=['accuracy'])\n",
    "              \n",
    "epochs=5  # 몇 epoch를 훈련하면 좋을지 결과를 보면서 바꾸어 봅시다. \n",
    "\n",
    "history = model.fit(partial_X_train,\n",
    "                    partial_y_train,\n",
    "                    epochs=epochs,\n",
    "                    batch_size=512,\n",
    "                    validation_data=(x_val, y_val),\n",
    "                    verbose=1)"
   ]
  },
  {
   "cell_type": "markdown",
   "id": "tight-bullet",
   "metadata": {},
   "source": [
    "### >>> 학습 결과: 검증 정확도 0.8468"
   ]
  },
  {
   "cell_type": "code",
   "execution_count": 23,
   "id": "medium-symphony",
   "metadata": {},
   "outputs": [
    {
     "name": "stdout",
     "output_type": "stream",
     "text": [
      "1537/1537 - 2s - loss: 0.3661 - accuracy: 0.8435\n",
      "[0.36612990498542786, 0.8434810638427734]\n"
     ]
    }
   ],
   "source": [
    "# 학습이 끝난 모델 평가\n",
    "results = model.evaluate(X_test,  y_test, verbose=2)\n",
    "\n",
    "print(results)"
   ]
  },
  {
   "cell_type": "markdown",
   "id": "ongoing-breeding",
   "metadata": {},
   "source": [
    "### >>> 평가 결과: 정확도 0.8435"
   ]
  },
  {
   "cell_type": "code",
   "execution_count": 24,
   "id": "round-microwave",
   "metadata": {
    "scrolled": true
   },
   "outputs": [
    {
     "name": "stdout",
     "output_type": "stream",
     "text": [
      "dict_keys(['loss', 'accuracy', 'val_loss', 'val_accuracy'])\n"
     ]
    }
   ],
   "source": [
    "history_dict = history.history\n",
    "print(history_dict.keys()) # epoch에 따른 그래프를 그려볼 수 있는 항목들"
   ]
  },
  {
   "cell_type": "markdown",
   "id": "resistant-hamburg",
   "metadata": {},
   "source": [
    "## 6-3-1. GlobalMaxPolling1D() 모델의 Train, Validation의 loss 그래프"
   ]
  },
  {
   "cell_type": "code",
   "execution_count": 25,
   "id": "gothic-deviation",
   "metadata": {},
   "outputs": [
    {
     "data": {
      "image/png": "[encoded data removed]",
      "text/plain": [
       "<Figure size 432x288 with 1 Axes>"
      ]
     },
     "metadata": {
      "needs_background": "light"
     },
     "output_type": "display_data"
    }
   ],
   "source": [
    "import matplotlib.pyplot as plt\n",
    "\n",
    "acc = history_dict['accuracy']\n",
    "val_acc = history_dict['val_accuracy']\n",
    "loss = history_dict['loss']\n",
    "val_loss = history_dict['val_loss']\n",
    "\n",
    "epochs = range(1, len(acc) + 1)\n",
    "\n",
    "# \"bo\"는 \"파란색 점\"입니다\n",
    "plt.plot(epochs, loss, 'bo', label='Training loss')\n",
    "# b는 \"파란 실선\"입니다\n",
    "plt.plot(epochs, val_loss, 'b', label='Validation loss')\n",
    "plt.title('Training and validation loss')\n",
    "plt.xlabel('Epochs')\n",
    "plt.ylabel('Loss')\n",
    "plt.legend()\n",
    "\n",
    "plt.show()"
   ]
  },
  {
   "cell_type": "markdown",
   "id": "finnish-sending",
   "metadata": {},
   "source": [
    "## 6-3-2. GlobalMaxPolling1D() 모델의 Train, Validation의 Accuarcy 그래프"
   ]
  },
  {
   "cell_type": "code",
   "execution_count": 26,
   "id": "passive-transaction",
   "metadata": {
    "scrolled": false
   },
   "outputs": [
    {
     "data": {
      "image/png": "[encoded data removed]",
      "text/plain": [
       "<Figure size 432x288 with 1 Axes>"
      ]
     },
     "metadata": {
      "needs_background": "light"
     },
     "output_type": "display_data"
    }
   ],
   "source": [
    "plt.clf()   # 그림을 초기화합니다\n",
    "\n",
    "plt.plot(epochs, acc, 'bo', label='Training acc')\n",
    "plt.plot(epochs, val_acc, 'b', label='Validation acc')\n",
    "plt.title('Training and validation accuracy')\n",
    "plt.xlabel('Epochs')\n",
    "plt.ylabel('Accuracy')\n",
    "plt.legend()\n",
    "\n",
    "plt.show()"
   ]
  },
  {
   "cell_type": "markdown",
   "id": "affected-nicholas",
   "metadata": {},
   "source": [
    "## 1D-GlobalMaxPolling1D 모델의 평가 결과\n",
    "### 1) 학습, 평가 정확도: 약 85%\n",
    "### 2) epoch변화에 따라 RNN, 1D-CNN과 마찬가지로 epoch가 2를 넘어가자 Train, Validation의 차이가 났다.\n",
    "### 3) >> 정확도, epoch 변화 양상에 따른 정확도 변화가 RNN, 1D-CNN과 유사함"
   ]
  },
  {
   "cell_type": "markdown",
   "id": "worth-christmas",
   "metadata": {},
   "source": [
    "## 3개 모델의 대한 평가 종합\n",
    "### >>> epoch가 진행됨에 따라 Train의 loss는 감소하는 경향이지만 Validation의 loss는 epoch=3 이상이 되자 변함이 없다.\n",
    "### >>> epoch를 변하기보다 모델의 파라미터를 변경할 필요 느낌\n",
    "### >>> Accuary의 경우도 마찬가지 경향을 보임\n",
    "### >>> 모델별 유의차 확인 못함"
   ]
  },
  {
   "cell_type": "markdown",
   "id": "economic-undergraduate",
   "metadata": {},
   "source": [
    "# 7. 학습된 Embedding 레이어 분석\n",
    "## * 워드 임베딩(word embedding): 단어의 특성을 저차원 벡터값으로 표현할 수 있다. 머신러닝 기반 감성분석은 라벨링 등 비용이 많이 드는데 워드 임베딩은 비용을 절감시키고 정확도를 크게 향상시킬 수 있다.\n",
    "## 학습했던 모델의 첫 번째 레이어가 Embedding레이어\n",
    "## > 이 레이어는 사전의 단어의 개수 \\* 워드벡터 사이즈만큼의 크기를 가진 학습 파라미터\n",
    "## >> 학습이 잘 되었다면, Embedding레이어에 학습된 워드 벡터들도 의미 공간상에 유의미한 형태로 학습되었을 것"
   ]
  },
  {
   "cell_type": "code",
   "execution_count": 27,
   "id": "latter-dividend",
   "metadata": {},
   "outputs": [
    {
     "name": "stdout",
     "output_type": "stream",
     "text": [
      "(10000, 16)\n"
     ]
    }
   ],
   "source": [
    "embedding_layer = model.layers[0] # 학습한 모델의 첫 번째 레이어\n",
    "weights = embedding_layer.get_weights()[0]\n",
    "print(weights.shape)    # shape: (vocab_size, embedding_dim)"
   ]
  },
  {
   "cell_type": "code",
   "execution_count": 28,
   "id": "accomplished-wheat",
   "metadata": {},
   "outputs": [],
   "source": [
    "import os\n",
    "\n",
    "# 학습한 Embedding 파라미터를 파일에 써서 저장합니다. \n",
    "word2vec_file_path = os.getenv('HOME')+'/1.AIFFEL_Study/Exploration/E04_Movie_Review_Emotion/word2vec.txt'\n",
    "f = open(word2vec_file_path, 'w')\n",
    "f.write('{} {}\\n'.format(vocab_size-4, word_vector_dim))  # 몇개의 벡터를 얼마 사이즈로 기재할지 타이틀을 씁니다.\n",
    "\n",
    "# 단어 개수(에서 특수문자 4개는 제외하고)만큼의 워드 벡터를 파일에 기록합니다. \n",
    "vectors = model.get_weights()[0]\n",
    "for i in range(4,vocab_size):\n",
    "    f.write('{} {}\\n'.format(index_to_word[i], ' '.join(map(str, list(vectors[i, :])))))\n",
    "f.close()"
   ]
  },
  {
   "cell_type": "code",
   "execution_count": 29,
   "id": "mechanical-lover",
   "metadata": {},
   "outputs": [
    {
     "data": {
      "text/plain": [
       "array([-0.11968963, -0.10236122, -0.08664621, -0.08978703,  0.08686492,\n",
       "       -0.04234748, -0.12043402, -0.09870286, -0.01465059, -0.05866257,\n",
       "       -0.08238919, -0.02107275, -0.08891781, -0.09782679, -0.00039076,\n",
       "       -0.00041853], dtype=float32)"
      ]
     },
     "execution_count": 29,
     "metadata": {},
     "output_type": "execute_result"
    }
   ],
   "source": [
    "from gensim.models.keyedvectors import Word2VecKeyedVectors\n",
    "\n",
    "word_vectors = Word2VecKeyedVectors.load_word2vec_format(word2vec_file_path, binary=False)\n",
    "vector = word_vectors['재미']\n",
    "vector"
   ]
  },
  {
   "cell_type": "code",
   "execution_count": 30,
   "id": "critical-quarterly",
   "metadata": {},
   "outputs": [
    {
     "data": {
      "text/plain": [
       "[('2003', 0.8869756460189819),\n",
       " ('든데', 0.8779590129852295),\n",
       " ('스펙타클', 0.8653672933578491),\n",
       " ('도시락', 0.8649502992630005),\n",
       " ('장교', 0.8574231266975403),\n",
       " ('베리', 0.8569778203964233),\n",
       " ('부모', 0.8530154228210449),\n",
       " ('.....', 0.8512334227561951),\n",
       " ('눈앞', 0.8457478284835815),\n",
       " ('긴데', 0.8409601449966431)]"
      ]
     },
     "execution_count": 30,
     "metadata": {},
     "output_type": "execute_result"
    }
   ],
   "source": [
    "word_vectors.similar_by_word(\"재미\")"
   ]
  },
  {
   "cell_type": "markdown",
   "id": "nonprofit-theater",
   "metadata": {},
   "source": [
    "# 8. 한국어 Word2Vec 임베딩 활용해 성능개선"
   ]
  },
  {
   "cell_type": "markdown",
   "id": "virtual-harris",
   "metadata": {},
   "source": [
    "### 한국어 Word2Vec 모델 불러오기\n",
    "#### 참고 - https://wikidocs.net/50739"
   ]
  },
  {
   "cell_type": "code",
   "execution_count": 31,
   "id": "fresh-kingdom",
   "metadata": {},
   "outputs": [],
   "source": [
    "import os\n",
    "import gensim\n",
    "word2vec_path = os.getenv('HOME')+'/1.AIFFEL_Study/Exploration/E04_Movie_Review_Emotion/ko/ko.bin'\n",
    "word2vec = gensim.models.Word2Vec.load(word2vec_path)"
   ]
  },
  {
   "cell_type": "code",
   "execution_count": 48,
   "id": "cooperative-service",
   "metadata": {},
   "outputs": [
    {
     "name": "stdout",
     "output_type": "stream",
     "text": [
      "/home/aiffel-dj40/1.AIFFEL_Study/Exploration/E04_Movie_Review_Emotion/ko/ko.bin\n"
     ]
    }
   ],
   "source": [
    "print(word2vec_path)"
   ]
  },
  {
   "cell_type": "code",
   "execution_count": 32,
   "id": "traditional-jackson",
   "metadata": {},
   "outputs": [
    {
     "name": "stderr",
     "output_type": "stream",
     "text": [
      "/home/aiffel-dj40/anaconda3/envs/aiffel/lib/python3.7/site-packages/ipykernel_launcher.py:1: DeprecationWarning: Call to deprecated `__getitem__` (Method will be removed in 4.0.0, use self.wv.__getitem__() instead).\n",
      "  \"\"\"Entry point for launching an IPython kernel.\n"
     ]
    },
    {
     "data": {
      "text/plain": [
       "array([-0.01228145, -0.4937083 ,  0.4424771 , -1.0789338 , -1.0551587 ,\n",
       "       -0.8106456 , -0.0881472 ,  0.7738013 , -0.3837249 , -0.31405708,\n",
       "        0.18792619, -0.04978764,  0.3977235 ,  1.0052139 , -0.5921918 ,\n",
       "        0.57315415, -0.13287784,  1.4190367 ,  0.5338879 ,  0.08187074,\n",
       "       -0.21017547, -0.31960285,  0.08991678, -0.06743078,  0.14399454,\n",
       "        0.04861213,  0.4904712 ,  0.38203648, -0.33213428, -0.48618734,\n",
       "       -0.6996383 , -0.48903087, -0.5666092 ,  0.11454912,  0.7527777 ,\n",
       "       -1.6491356 ,  0.709264  ,  0.14231981,  1.2408166 ,  0.9104645 ,\n",
       "        1.0235597 , -0.7135743 , -0.5323588 , -0.16439462, -0.12318534,\n",
       "       -0.41341293,  0.76286334, -0.24337888, -1.0924134 , -0.78981435,\n",
       "        0.24504295, -0.472915  , -0.17546178,  0.10006592, -1.2155428 ,\n",
       "        0.4059387 ,  0.8259838 , -0.18593056, -0.21122731, -0.46615708,\n",
       "        0.74433243, -0.18605745, -0.9175297 ,  0.08531424,  0.09134697,\n",
       "       -0.60375917,  0.5236646 ,  0.7689134 ,  0.19123535,  0.6021132 ,\n",
       "        0.43252614, -0.4816439 ,  0.39638203,  1.2622621 ,  0.26885632,\n",
       "       -0.383896  , -0.50455076,  0.73776966,  0.10099172, -0.6317017 ,\n",
       "        0.13245393, -0.08055744,  0.43138954, -0.06167822, -0.4774042 ,\n",
       "        0.1667868 ,  0.28813913, -0.10387764,  0.26128057, -0.4512979 ,\n",
       "        0.61577326, -1.054215  ,  0.57878447, -0.84414536,  0.10988218,\n",
       "        0.3471581 , -0.41899917,  0.9262466 ,  0.65301394,  0.50789875,\n",
       "        0.22078882,  0.45553952,  0.6167738 , -0.4781486 , -0.9231505 ,\n",
       "        1.2035773 , -0.10230067, -0.9705982 , -0.27945018, -0.1801976 ,\n",
       "        0.05418067, -1.0452936 ,  0.5314506 , -0.824556  ,  0.5876017 ,\n",
       "       -0.45738658, -1.2109565 ,  0.6083721 ,  0.35538226,  0.21933256,\n",
       "        0.5514276 , -0.27126715,  0.44642234, -0.807838  , -0.5080574 ,\n",
       "        1.3403009 , -0.30746838, -1.0130495 ,  0.724602  , -0.07764244,\n",
       "        0.32734424, -0.64083153,  0.02176708,  0.4140897 ,  0.85013735,\n",
       "        0.5038553 ,  0.0574238 ,  0.6318467 ,  0.11478857, -0.18184362,\n",
       "        0.51224196,  1.2018569 , -0.270327  ,  0.180222  , -0.8467118 ,\n",
       "        0.366931  , -1.0394892 ,  0.19738269, -0.79872495,  0.4028727 ,\n",
       "       -0.21668676, -0.71356654, -0.570047  ,  0.38849613,  0.07873565,\n",
       "       -0.5051986 , -0.01384304,  0.9451574 , -0.24689038,  0.06940279,\n",
       "        0.2931995 , -0.18040314, -0.18652393,  0.03571143, -0.9325787 ,\n",
       "       -0.36629537,  0.17664464,  0.515483  , -0.49975199,  1.746289  ,\n",
       "       -1.2979529 , -0.02125794,  0.3177153 , -0.03623414, -0.48092988,\n",
       "        0.01342706, -0.6346104 ,  0.17631365,  0.6302752 , -0.36891124,\n",
       "       -0.01402365,  0.07068333, -0.10794298, -0.17554025, -0.08752513,\n",
       "        1.4752635 ,  0.37574285, -0.48754153,  1.0782102 , -0.09177663,\n",
       "       -0.6567626 ,  0.25401682,  0.29164365,  0.6510434 , -0.582623  ,\n",
       "        0.24030805, -1.0244824 ,  1.1044954 , -0.05539972,  0.63101554],\n",
       "      dtype=float32)"
      ]
     },
     "execution_count": 32,
     "metadata": {},
     "output_type": "execute_result"
    }
   ],
   "source": [
    "vector = word2vec['재미']\n",
    "vector     # 무려 300dim의 워드 벡터입니다."
   ]
  },
  {
   "cell_type": "code",
   "execution_count": 33,
   "id": "unlimited-bargain",
   "metadata": {},
   "outputs": [
    {
     "name": "stderr",
     "output_type": "stream",
     "text": [
      "/home/aiffel-dj40/anaconda3/envs/aiffel/lib/python3.7/site-packages/ipykernel_launcher.py:2: DeprecationWarning: Call to deprecated `similar_by_word` (Method will be removed in 4.0.0, use self.wv.similar_by_word() instead).\n",
      "  \n"
     ]
    },
    {
     "data": {
      "text/plain": [
       "[('취미', 0.5857348442077637),\n",
       " ('유머', 0.514061450958252),\n",
       " ('매력', 0.5105490684509277),\n",
       " ('흥미', 0.4988338053226471),\n",
       " ('공짜', 0.4960595965385437),\n",
       " ('일자리', 0.49294644594192505),\n",
       " ('즐거움', 0.48700761795043945),\n",
       " ('비애', 0.4836210608482361),\n",
       " ('관객', 0.4828645586967468),\n",
       " ('향수', 0.48233112692832947)]"
      ]
     },
     "execution_count": 33,
     "metadata": {},
     "output_type": "execute_result"
    }
   ],
   "source": [
    "# 메모리를 다소 많이 소비하는 작업이니 유의해 주세요.\n",
    "word2vec.similar_by_word(\"재미\")"
   ]
  },
  {
   "cell_type": "code",
   "execution_count": 67,
   "id": "express-munich",
   "metadata": {
    "scrolled": false
   },
   "outputs": [
    {
     "name": "stderr",
     "output_type": "stream",
     "text": [
      "/home/aiffel-dj40/anaconda3/envs/aiffel/lib/python3.7/site-packages/ipykernel_launcher.py:8: DeprecationWarning: Call to deprecated `__contains__` (Method will be removed in 4.0.0, use self.wv.__contains__() instead).\n",
      "  \n",
      "/home/aiffel-dj40/anaconda3/envs/aiffel/lib/python3.7/site-packages/ipykernel_launcher.py:9: DeprecationWarning: Call to deprecated `__getitem__` (Method will be removed in 4.0.0, use self.wv.__getitem__() instead).\n",
      "  if __name__ == '__main__':\n"
     ]
    }
   ],
   "source": [
    "vocab_size = 10000    # 어휘 사전의 크기입니다(10,000개의 단어)\n",
    "word_vector_dim = 200  # 워드 벡터의 차원수 (변경가능한 하이퍼파라미터)\n",
    "\n",
    "embedding_matrix = np.random.rand(vocab_size, word_vector_dim)\n",
    "\n",
    "# embedding_matrix에 Word2Vec 워드벡터를 단어 하나씩마다 차례차례 카피한다.\n",
    "for i in range(4,vocab_size):\n",
    "    if index_to_word[i] in word2vec:\n",
    "        embedding_matrix[i] = word2vec[index_to_word[i]]"
   ]
  },
  {
   "cell_type": "code",
   "execution_count": 69,
   "id": "hispanic-cardiff",
   "metadata": {},
   "outputs": [
    {
     "name": "stdout",
     "output_type": "stream",
     "text": [
      "Model: \"sequential_6\"\n",
      "_________________________________________________________________\n",
      "Layer (type)                 Output Shape              Param #   \n",
      "=================================================================\n",
      "embedding_6 (Embedding)      (None, 41, 200)           2000000   \n",
      "_________________________________________________________________\n",
      "conv1d_4 (Conv1D)            (None, 35, 16)            22416     \n",
      "_________________________________________________________________\n",
      "max_pooling1d_2 (MaxPooling1 (None, 7, 16)             0         \n",
      "_________________________________________________________________\n",
      "conv1d_5 (Conv1D)            (None, 1, 16)             1808      \n",
      "_________________________________________________________________\n",
      "global_max_pooling1d_3 (Glob (None, 16)                0         \n",
      "_________________________________________________________________\n",
      "dense_12 (Dense)             (None, 8)                 136       \n",
      "_________________________________________________________________\n",
      "dense_13 (Dense)             (None, 1)                 9         \n",
      "=================================================================\n",
      "Total params: 2,024,369\n",
      "Trainable params: 2,024,369\n",
      "Non-trainable params: 0\n",
      "_________________________________________________________________\n"
     ]
    }
   ],
   "source": [
    "from tensorflow.keras.initializers import Constant\n",
    "\n",
    "vocab_size = 10000    # 어휘 사전의 크기입니다(10,000개의 단어)\n",
    "word_vector_dim = 200  # 워드 벡터의 차원수 (변경가능한 하이퍼파라미터)\n",
    "\n",
    "# 모델 구성\n",
    "model = keras.Sequential()\n",
    "model.add(keras.layers.Embedding(vocab_size, \n",
    "                                 word_vector_dim, \n",
    "                                 embeddings_initializer=Constant(embedding_matrix),  # 카피한 임베딩을 여기서 활용\n",
    "                                 input_length=maxlen, \n",
    "                                 trainable=True))   # trainable을 True로 주면 Fine-tuning\n",
    "model.add(keras.layers.Conv1D(16, 7, activation='relu'))\n",
    "model.add(keras.layers.MaxPooling1D(5))\n",
    "model.add(keras.layers.Conv1D(16, 7, activation='relu'))\n",
    "model.add(keras.layers.GlobalMaxPooling1D())\n",
    "model.add(keras.layers.Dense(8, activation='relu'))\n",
    "model.add(keras.layers.Dense(1, activation='sigmoid')) \n",
    "\n",
    "model.summary()"
   ]
  },
  {
   "cell_type": "code",
   "execution_count": 53,
   "id": "wound-tuning",
   "metadata": {},
   "outputs": [],
   "source": [
    "from tensorflow.keras.models import load_model\n",
    "from tensorflow.keras.callbacks import EarlyStopping, ModelCheckpoint\n",
    "\n",
    "es = EarlyStopping(monitor='val_loss', mode='min', verbose=1, patience=4)\n",
    "# mc = ModelCheckpoint('best_model.h5', monitor='val_acc', mode='max', verbose=1, save_best_only=True)"
   ]
  },
  {
   "cell_type": "code",
   "execution_count": 77,
   "id": "vocational-testing",
   "metadata": {
    "scrolled": false
   },
   "outputs": [
    {
     "name": "stdout",
     "output_type": "stream",
     "text": [
      "Epoch 1/100\n",
      "4256/4256 [==============================] - 81s 19ms/step - loss: 0.1186 - accuracy: 0.9577 - val_loss: 0.5525 - val_accuracy: 0.8350\n",
      "Epoch 2/100\n",
      "4256/4256 [==============================] - 68s 16ms/step - loss: 0.1006 - accuracy: 0.9650 - val_loss: 0.5704 - val_accuracy: 0.8400\n",
      "Epoch 3/100\n",
      "4256/4256 [==============================] - 69s 16ms/step - loss: 0.0898 - accuracy: 0.9692 - val_loss: 0.7076 - val_accuracy: 0.8301\n",
      "Epoch 4/100\n",
      "4256/4256 [==============================] - 67s 16ms/step - loss: 0.0780 - accuracy: 0.9734 - val_loss: 0.6319 - val_accuracy: 0.8364\n",
      "Epoch 5/100\n",
      "4256/4256 [==============================] - 70s 16ms/step - loss: 0.0680 - accuracy: 0.9766 - val_loss: 0.7095 - val_accuracy: 0.8361\n",
      "Epoch 00005: early stopping\n"
     ]
    }
   ],
   "source": [
    "# 학습의 진행\n",
    "model.compile(optimizer='adam',\n",
    "              loss='binary_crossentropy',\n",
    "              metrics=['accuracy'])\n",
    "              \n",
    "epochs=100  # 몇 epoch를 훈련하면 좋을지 결과를 보면서 바꾸어 봅시다. \n",
    "\n",
    "history = model.fit(partial_X_train,\n",
    "                    partial_y_train,\n",
    "                    epochs=epochs,\n",
    "                    batch_size=32,\n",
    "                    validation_data=(x_val, y_val),\n",
    "                    callbacks=[es],\n",
    "                    verbose=1)"
   ]
  },
  {
   "cell_type": "markdown",
   "id": "tired-hughes",
   "metadata": {},
   "source": [
    "## >> 학습 결과: 검증 정확도 0.8361"
   ]
  },
  {
   "cell_type": "code",
   "execution_count": 78,
   "id": "marked-display",
   "metadata": {},
   "outputs": [
    {
     "name": "stdout",
     "output_type": "stream",
     "text": [
      "1537/1537 - 2s - loss: 0.7225 - accuracy: 0.8297\n",
      "[0.7225394248962402, 0.829688549041748]\n"
     ]
    }
   ],
   "source": [
    "# 테스트셋을 통한 모델 평가\n",
    "results = model.evaluate(X_test,  y_test, verbose=2)\n",
    "\n",
    "print(results)"
   ]
  },
  {
   "cell_type": "markdown",
   "id": "based-document",
   "metadata": {},
   "source": [
    "## >> 평가 결과: 정확도 0.8297"
   ]
  },
  {
   "cell_type": "code",
   "execution_count": 79,
   "id": "restricted-timothy",
   "metadata": {},
   "outputs": [
    {
     "name": "stdout",
     "output_type": "stream",
     "text": [
      "dict_keys(['loss', 'accuracy', 'val_loss', 'val_accuracy'])\n"
     ]
    }
   ],
   "source": [
    "history_dict = history.history\n",
    "print(history_dict.keys()) # epoch에 따른 그래프를 그려볼 수 있는 항목들"
   ]
  },
  {
   "cell_type": "code",
   "execution_count": 80,
   "id": "crude-azerbaijan",
   "metadata": {},
   "outputs": [
    {
     "data": {
      "image/png": "[encoded data removed]",
      "text/plain": [
       "<Figure size 432x288 with 1 Axes>"
      ]
     },
     "metadata": {
      "needs_background": "light"
     },
     "output_type": "display_data"
    }
   ],
   "source": [
    "import matplotlib.pyplot as plt\n",
    "\n",
    "acc = history_dict['accuracy']\n",
    "val_acc = history_dict['val_accuracy']\n",
    "loss = history_dict['loss']\n",
    "val_loss = history_dict['val_loss']\n",
    "\n",
    "epochs = range(1, len(acc) + 1)\n",
    "\n",
    "# \"bo\"는 \"파란색 점\"입니다\n",
    "plt.plot(epochs, loss, 'bo', label='Training loss')\n",
    "# b는 \"파란 실선\"입니다\n",
    "plt.plot(epochs, val_loss, 'b', label='Validation loss')\n",
    "plt.title('Training and validation loss')\n",
    "plt.xlabel('Epochs')\n",
    "plt.ylabel('Loss')\n",
    "plt.legend()\n",
    "\n",
    "plt.show()"
   ]
  },
  {
   "cell_type": "code",
   "execution_count": 81,
   "id": "strong-navigation",
   "metadata": {},
   "outputs": [
    {
     "data": {
      "image/png": "[encoded data removed]",
      "text/plain": [
       "<Figure size 432x288 with 1 Axes>"
      ]
     },
     "metadata": {
      "needs_background": "light"
     },
     "output_type": "display_data"
    }
   ],
   "source": [
    "plt.clf()   # 그림을 초기화합니다\n",
    "\n",
    "plt.plot(epochs, acc, 'bo', label='Training acc')\n",
    "plt.plot(epochs, val_acc, 'b', label='Validation acc')\n",
    "plt.title('Training and validation accuracy')\n",
    "plt.xlabel('Epochs')\n",
    "plt.ylabel('Accuracy')\n",
    "plt.legend()\n",
    "\n",
    "plt.show()"
   ]
  },
  {
   "cell_type": "markdown",
   "id": "speaking-passage",
   "metadata": {},
   "source": [
    "# 9. 루브릭 평가 및 소감"
   ]
  },
  {
   "cell_type": "markdown",
   "id": "civil-planning",
   "metadata": {},
   "source": [
    "## 1. 다양한 방법으로 Text Classification 태스크를 성공적으로 구현하였다.\n",
    "### >> RNN, 1D-CNN, GlobalMaxPooling1D 모델을 통해 진행했으며,\n",
    "### >> 각 모델별로 Train, Validation의 loss, accuracy를 파악함"
   ]
  },
  {
   "cell_type": "markdown",
   "id": "unavailable-compact",
   "metadata": {},
   "source": [
    "## 2. gensim을 활용하여 자체학습된 혹은 사전학습된 임베딩 레이어를 분석하였다.\n",
    "### >> 사전 학습된 모델을 활용해 임베딩 레이어 분석함\n",
    "### >> gensim.models.Word2Vec.load 활용"
   ]
  },
  {
   "cell_type": "markdown",
   "id": "lesbian-number",
   "metadata": {},
   "source": [
    "## 3. 한국어 Word2Vec을 활용하여 가시적인 성능향상을 달성했다.\n",
    "### >> 한국어 Word2Vec을 활용해 학습 및 평가를 진행했으며 성능 향상은 없었다."
   ]
  },
  {
   "cell_type": "markdown",
   "id": "covered-fluid",
   "metadata": {},
   "source": [
    "## 4. 소감\n",
    "### - 자연처처리 분야는 다양하게 쓰이고 있는데 이번 노드를 통해 약간 맛을 본 것 같다.\n",
    "### - 하지만 노드를 진행함에 있어 처음 마주하는 개념이 많아 뭐가 어떻게 되고 있는지 감을 못 잡아서 시간이 오래 걸렸다.\n",
    "### - 큰 틀에서 어떻게 자연어가 처리되는지 이해했다.\n",
    "### - 자연어 -> 중복제거 -> 결측치 제거 -> 불용어 제거 -> 토큰화 -> 인덱싱하고 데이터 split 후 모델 설계, 학습, 평가\n",
    "### - 3가지 모델에 대해 성능 평가를 진행했는데 검증 정확도 측면에서는 큰 유의차가 없었는데\n",
    "### 그 이유가 batch size라고 판단해서 한국어 Word2Vec을 활용할 때는 조정을 했다.\n",
    "### - 또한 3가지 모델 진행 시 epoch가 3이하일 때 이미 학습이 잘 됐다고 판단해 EarlyStop을 활용해 진행해봤다.\n",
    "### - 이번 노드를 진행하면서 참 어려움이 많았는데 팀원분들의 도움이 있어서 어려움을 많이 해결할 수 있었다.\n",
    "### - 이후에도 나오는 자연어 처리 프로젝트는 좀 더 수월하게 진행할 수 있을 것이라 생각한다."
   ]
  }
 ],
 "metadata": {
  "kernelspec": {
   "display_name": "aiffel",
   "language": "python",
   "name": "aiffel"
  },
  "language_info": {
   "codemirror_mode": {
    "name": "ipython",
    "version": 3
   },
   "file_extension": ".py",
   "mimetype": "text/x-python",
   "name": "python",
   "nbconvert_exporter": "python",
   "pygments_lexer": "ipython3",
   "version": "3.7.9"
  }
 },
 "nbformat": 4,
 "nbformat_minor": 5
}
