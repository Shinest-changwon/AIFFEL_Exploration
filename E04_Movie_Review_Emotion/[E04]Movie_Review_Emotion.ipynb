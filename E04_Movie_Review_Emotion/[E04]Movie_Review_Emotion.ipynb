{
 "cells": [
  {
   "cell_type": "markdown",
   "id": "legitimate-niger",
   "metadata": {},
   "source": [
    "# Exploration 4. 네이버 영화 리뷰 감성분석"
   ]
  },
  {
   "cell_type": "markdown",
   "id": "editorial-burning",
   "metadata": {},
   "source": [
    "## <프로젝트 순서>\n",
    "### 1. 데이터 준비와 확인\n",
    "### 2. 데이터로더 구성\n",
    "### 3. 모델구성을 위한 데이터 분석 및 가공\n",
    "### 4. 모델구성 및 validation set 구성\n",
    "### 5. 모델 훈련 개시\n",
    "### 6. Loss, Accuaracy 그래프 시각화\n",
    "### 7. 학습된 Embedding 레이어 분석\n",
    "### 8. 한국어 Word2Vec 임베딩 활용하여 성능개선\n",
    "### 9. 루브릭 평가 및 소감"
   ]
  },
  {
   "cell_type": "markdown",
   "id": "valued-opposition",
   "metadata": {},
   "source": [
    "## 1. 데이터 준비와 확인"
   ]
  },
  {
   "cell_type": "code",
   "execution_count": 1,
   "id": "distributed-hamilton",
   "metadata": {},
   "outputs": [
    {
     "data": {
      "text/html": [
       "<div>\n",
       "<style scoped>\n",
       "    .dataframe tbody tr th:only-of-type {\n",
       "        vertical-align: middle;\n",
       "    }\n",
       "\n",
       "    .dataframe tbody tr th {\n",
       "        vertical-align: top;\n",
       "    }\n",
       "\n",
       "    .dataframe thead th {\n",
       "        text-align: right;\n",
       "    }\n",
       "</style>\n",
       "<table border=\"1\" class=\"dataframe\">\n",
       "  <thead>\n",
       "    <tr style=\"text-align: right;\">\n",
       "      <th></th>\n",
       "      <th>id</th>\n",
       "      <th>document</th>\n",
       "      <th>label</th>\n",
       "    </tr>\n",
       "  </thead>\n",
       "  <tbody>\n",
       "    <tr>\n",
       "      <th>0</th>\n",
       "      <td>9976970</td>\n",
       "      <td>아 더빙.. 진짜 짜증나네요 목소리</td>\n",
       "      <td>0</td>\n",
       "    </tr>\n",
       "    <tr>\n",
       "      <th>1</th>\n",
       "      <td>3819312</td>\n",
       "      <td>흠...포스터보고 초딩영화줄....오버연기조차 가볍지 않구나</td>\n",
       "      <td>1</td>\n",
       "    </tr>\n",
       "    <tr>\n",
       "      <th>2</th>\n",
       "      <td>10265843</td>\n",
       "      <td>너무재밓었다그래서보는것을추천한다</td>\n",
       "      <td>0</td>\n",
       "    </tr>\n",
       "    <tr>\n",
       "      <th>3</th>\n",
       "      <td>9045019</td>\n",
       "      <td>교도소 이야기구먼 ..솔직히 재미는 없다..평점 조정</td>\n",
       "      <td>0</td>\n",
       "    </tr>\n",
       "    <tr>\n",
       "      <th>4</th>\n",
       "      <td>6483659</td>\n",
       "      <td>사이몬페그의 익살스런 연기가 돋보였던 영화!스파이더맨에서 늙어보이기만 했던 커스틴 ...</td>\n",
       "      <td>1</td>\n",
       "    </tr>\n",
       "  </tbody>\n",
       "</table>\n",
       "</div>"
      ],
      "text/plain": [
       "         id                                           document  label\n",
       "0   9976970                                아 더빙.. 진짜 짜증나네요 목소리      0\n",
       "1   3819312                  흠...포스터보고 초딩영화줄....오버연기조차 가볍지 않구나      1\n",
       "2  10265843                                  너무재밓었다그래서보는것을추천한다      0\n",
       "3   9045019                      교도소 이야기구먼 ..솔직히 재미는 없다..평점 조정      0\n",
       "4   6483659  사이몬페그의 익살스런 연기가 돋보였던 영화!스파이더맨에서 늙어보이기만 했던 커스틴 ...      1"
      ]
     },
     "execution_count": 1,
     "metadata": {},
     "output_type": "execute_result"
    }
   ],
   "source": [
    "import pandas as pd\n",
    "import urllib.request\n",
    "%matplotlib inline\n",
    "import matplotlib.pyplot as plt\n",
    "import re\n",
    "from konlpy.tag import Okt\n",
    "from tensorflow import keras\n",
    "from tensorflow.keras.preprocessing.text import Tokenizer\n",
    "import numpy as np\n",
    "from tensorflow.keras.preprocessing.sequence import pad_sequences\n",
    "from collections import Counter\n",
    "\n",
    "# 데이터를 읽어봅시다. \n",
    "train_data = pd.read_table('~/1.AIFFEL_Study/Exploration/E04_Movie_Review_Emotion/ratings_train.txt')\n",
    "test_data = pd.read_table('~/1.AIFFEL_Study/Exploration/E04_Movie_Review_Emotion/ratings_test.txt')\n",
    "\n",
    "train_data.head()"
   ]
  },
  {
   "cell_type": "markdown",
   "id": "electric-journal",
   "metadata": {},
   "source": [
    "## 2. 데이터 로터구성\n",
    "### <구현 기능>\n",
    "### 1) 데이터 중복 제거 - drop_duplicates활용\n",
    "### 2) NaN 결측치 제거 - dropna 활용\n",
    "### 3) 한국어 토크나이저로 토큰화 - Mecab().morphs 메소드 활용\n",
    "### 4) 불용어(Stopwords)제거 - Stopwords 리스트를 이용해 제거\n",
    "### 5) 사전 word_to_index 구성\n",
    "### 6) 텍스트 스트링을 사전 인덱스 스트링으로 변환\n",
    "### 7) X_train, y_train, X_test, y_test, word_to_index 리턴"
   ]
  },
  {
   "cell_type": "code",
   "execution_count": 2,
   "id": "vanilla-flower",
   "metadata": {},
   "outputs": [],
   "source": [
    "from konlpy.tag import Mecab\n",
    "tokenizer = Mecab() # 토크나이저 생성을 위한 Mecab() 활용\n",
    "stopwords = ['의','가','이','은','들','는','좀','잘','걍','과','도','를','으로','자','에','와','한','하다'] # 불용어 정의\n",
    "\n",
    "def load_data(train_data, test_data, num_words=10000):\n",
    "    # drop_duplicates: 중복 데이터 제거 메소드이며 subset은 처리할 열, 끝에 inplace는 중복 데이터 제거 후 원래 변수에 재할당하는 것\n",
    "    train_data.drop_duplicates(subset=['document'], inplace=True)\n",
    "    # 결측치 제거이며 how='any'는 무엇이든 결측치가 있다면 다 제거하는 것\n",
    "    train_data = train_data.dropna(how = 'any') \n",
    "    test_data.drop_duplicates(subset=['document'], inplace=True) \n",
    "    test_data = test_data.dropna(how = 'any') \n",
    "\n",
    "    X_train = []\n",
    "    for sentence in train_data['document']:\n",
    "        # Mecab().morphs 메소드는 한글 형태소 분석 방법 중 하나이다.\n",
    "        temp_X = tokenizer.morphs(sentence) # 토큰화\n",
    "        temp_X = [word for word in temp_X if not word in stopwords] # 불용어 제거\n",
    "        X_train.append(temp_X)\n",
    "\n",
    "    X_test = []\n",
    "    for sentence in test_data['document']:\n",
    "        temp_X = tokenizer.morphs(sentence) # 토큰화\n",
    "        temp_X = [word for word in temp_X if not word in stopwords] # 불용어 제거\n",
    "        X_test.append(temp_X)\n",
    "\n",
    "    # concatenate을 활용해 array를 합쳐주고 tolist로 리스트로 변환\n",
    "    words = np.concatenate(X_train).tolist()\n",
    "    # Counter()를 활용해 words리스트 안의 인자별 개수를 세서 [('text', 반복횟수)]\n",
    "    counter = Counter(words)\n",
    "    # 그리고 counter.most_common를 활용해 가장 많은 개수를 가진 인자부터 재배열한다.\n",
    "    # counter.most_common(k)에서 가장 개수가 많은 k개의 데이터를 얻을 수 있다.\n",
    "    counter = counter.most_common(10000-4)\n",
    "    \"\"\"\n",
    "    counter[:10] = \\\n",
    "    [('.', 159415),\n",
    "     ('영화', 57338),\n",
    "     ('다', 54971),\n",
    "     ('고', 47196),\n",
    "     ('하', 44376),\n",
    "     ('을', 29832),\n",
    "     ('보', 25603),\n",
    "     ('..', 22655),\n",
    "     ('게', 22161),\n",
    "     (',', 22047)]\n",
    "    \"\"\"\n",
    "    vocab = ['<PAD>', '<BOS>', '<UNK>', '<UNUSED>'] + [key for key, _ in counter]\n",
    "    \"\"\"\n",
    "    key for key,_ in counter[:10] = \\\n",
    "    .\n",
    "    영화\n",
    "    다\n",
    "    고\n",
    "    하\n",
    "    을\n",
    "    보\n",
    "    ..\n",
    "    게\n",
    "    ,\n",
    "    \"\"\"\n",
    "    word_to_index = {word:index for index, word in enumerate(vocab)}\n",
    "    \"\"\"\n",
    "    word_to_index = \\\n",
    "    {'<PAD>': 0,\n",
    "     '<BOS>': 1,\n",
    "     '<UNK>': 2,\n",
    "     '<UNUSED>': 3,\n",
    "     '.': 4,\n",
    "     '영화': 5,\n",
    "     '다': 6,\n",
    "     '고': 7,\n",
    "     '하': 8,\n",
    "     '을': 9,\n",
    "     ...,\n",
    "      '소녀': 992,\n",
    "     '느꼈': 993,\n",
    "     '끝내': 994,\n",
    "     '로맨틱': 995,\n",
    "     '조연': 996,\n",
    "     '천재': 997,\n",
    "     '아도': 998,\n",
    "     '쩔': 999,\n",
    "     ...}\n",
    "    \"\"\"\n",
    "\n",
    "    def wordlist_to_indexlist(wordlist):\n",
    "        return [word_to_index[word] if word in word_to_index else word_to_index['<UNK>'] for word in wordlist]\n",
    "\n",
    "    X_train = list(map(wordlist_to_indexlist, X_train))\n",
    "    X_test = list(map(wordlist_to_indexlist, X_test))\n",
    "\n",
    "    return X_train, np.array(list(train_data['label'])), X_test, np.array(list(test_data['label'])), word_to_index\n",
    "\n",
    "X_train, y_train, X_test, y_test, word_to_index = load_data(train_data, test_data)\n",
    "\n"
   ]
  },
  {
   "cell_type": "code",
   "execution_count": 3,
   "id": "greenhouse-combining",
   "metadata": {},
   "outputs": [],
   "source": [
    "index_to_word = {index:word for word, index in word_to_index.items()}"
   ]
  },
  {
   "cell_type": "code",
   "execution_count": 4,
   "id": "overhead-dating",
   "metadata": {},
   "outputs": [],
   "source": [
    "# 문장 1개를 활용할 딕셔너리와 함께 주면, 단어 인덱스 리스트 벡터로 변환해 주는 함수입니다. \n",
    "# 단, 모든 문장은 <BOS>로 시작하는 것으로 합니다. \n",
    "def get_encoded_sentence(sentence, word_to_index):\n",
    "    return [word_to_index['<BOS>']]+[word_to_index[word] if word in word_to_index else word_to_index['<UNK>'] for word in sentence.split()]\n",
    "\n",
    "# 여러 개의 문장 리스트를 한꺼번에 단어 인덱스 리스트 벡터로 encode해 주는 함수입니다. \n",
    "def get_encoded_sentences(sentences, word_to_index):\n",
    "    return [get_encoded_sentence(sentence, word_to_index) for sentence in sentences]\n",
    "\n",
    "# 숫자 벡터로 encode된 문장을 원래대로 decode하는 함수입니다. \n",
    "def get_decoded_sentence(encoded_sentence, index_to_word):\n",
    "    return ' '.join(index_to_word[index] if index in index_to_word else '<UNK>' for index in encoded_sentence[1:])  #[1:]를 통해 <BOS>를 제외\n",
    "\n",
    "# 여러개의 숫자 벡터로 encode된 문장을 한꺼번에 원래대로 decode하는 함수입니다. \n",
    "def get_decoded_sentences(encoded_sentences, index_to_word):\n",
    "    return [get_decoded_sentence(encoded_sentence, index_to_word) for encoded_sentence in encoded_sentences]"
   ]
  },
  {
   "cell_type": "markdown",
   "id": "veterinary-shanghai",
   "metadata": {},
   "source": [
    "# 3. 모델구성을 위한 데이터 분석 및 가공\n",
    "## - 데이터셋 내 문장 길이 분포\n",
    "## - 적절한 최대 문장 길이 지정\n",
    "## - keras.preprocessing.sequence.pad_sequences 을 활용한 패딩 추가"
   ]
  },
  {
   "cell_type": "code",
   "execution_count": 5,
   "id": "pretty-mumbai",
   "metadata": {},
   "outputs": [
    {
     "name": "stdout",
     "output_type": "stream",
     "text": [
      "문장길이 평균 :  15.96940191154864\n",
      "문장길이 최대 :  116\n",
      "문장길이 표준편차 :  12.843571191092\n",
      "pad_sequences maxlen :  41\n",
      "전체 문장의 0.9342988343341575%가 maxlen 설정값 이내에 포함됩니다. \n"
     ]
    }
   ],
   "source": [
    "total_data_text = list(X_train) + list(X_test)\n",
    "# 텍스트데이터 문장길이의 리스트를 생성한 후\n",
    "num_tokens = [len(tokens) for tokens in total_data_text]\n",
    "num_tokens = np.array(num_tokens)\n",
    "# 문장길이의 평균값, 최대값, 표준편차를 계산해 본다. \n",
    "print('문장길이 평균 : ', np.mean(num_tokens))\n",
    "print('문장길이 최대 : ', np.max(num_tokens))\n",
    "print('문장길이 표준편차 : ', np.std(num_tokens))\n",
    "\n",
    "# 예를들어, 최대 길이를 (평균 + 2*표준편차)로 한다면,  \n",
    "max_tokens = np.mean(num_tokens) + 2 * np.std(num_tokens)\n",
    "maxlen = int(max_tokens)\n",
    "print('pad_sequences maxlen : ', maxlen)\n",
    "print('전체 문장의 {}%가 maxlen 설정값 이내에 포함됩니다. '.format(np.sum(num_tokens < max_tokens) / len(num_tokens)))"
   ]
  },
  {
   "cell_type": "markdown",
   "id": "executive-positive",
   "metadata": {},
   "source": [
    "### padding 방식을 문장 뒷쪽('post')과 앞쪽('pre') 비교\n",
    "### RNN을 이용한 딥러닝 적용 시 성능 차이 있음\n",
    "### >>> 'pre'가 훨씬 유리(이유: RNN은 입력데이터가 순차적으로 처리, 가장 마지막 입력이 최종 state값에 가장 많은 영향을 끼침\n",
    "### 즉, 마지막 입력이 무의미해지는 padding방식인 'post'는 비효율적"
   ]
  },
  {
   "cell_type": "code",
   "execution_count": 6,
   "id": "lightweight-mouse",
   "metadata": {},
   "outputs": [
    {
     "name": "stdout",
     "output_type": "stream",
     "text": [
      "(146182, 41)\n",
      "(49157, 41)\n"
     ]
    }
   ],
   "source": [
    "# X_train = keras.preprocessing.sequence.pad_sequences(X_train,\n",
    "#                                                         value=word_to_index[\"<PAD>\"],\n",
    "#                                                         padding='pre',\n",
    "#                                                         maxlen=maxlen)\n",
    "\n",
    "# X_test = keras.preprocessing.sequence.pad_sequences(X_test,\n",
    "#                                                        value=word_to_index[\"<PAD>\"],\n",
    "#                                                        padding='pre',\n",
    "#                                                        maxlen=maxlen)\n",
    "\n",
    "# print(X_train.shape) # (146182, 41)\n",
    "# print(X_test.shape) # (49157, 41)\n",
    "\n",
    "X_train = keras.preprocessing.sequence.pad_sequences(X_train,\n",
    "                                                        value=word_to_index[\"<PAD>\"],\n",
    "                                                        padding='post',\n",
    "                                                        maxlen=maxlen)\n",
    "\n",
    "X_test = keras.preprocessing.sequence.pad_sequences(X_test,\n",
    "                                                       value=word_to_index[\"<PAD>\"],\n",
    "                                                       padding='post',\n",
    "                                                       maxlen=maxlen)\n",
    "\n",
    "print(X_train.shape) # (146182, 41)\n",
    "print(X_test.shape) # (49157, 41)"
   ]
  },
  {
   "cell_type": "markdown",
   "id": "ongoing-plumbing",
   "metadata": {},
   "source": [
    "# 4. 모델 구성 및 Validation set구성"
   ]
  },
  {
   "cell_type": "markdown",
   "id": "relative-yeast",
   "metadata": {},
   "source": [
    "## 4-1. 모델 구성"
   ]
  },
  {
   "cell_type": "code",
   "execution_count": 7,
   "id": "solar-ocean",
   "metadata": {},
   "outputs": [
    {
     "name": "stdout",
     "output_type": "stream",
     "text": [
      "Model: \"sequential\"\n",
      "_________________________________________________________________\n",
      "Layer (type)                 Output Shape              Param #   \n",
      "=================================================================\n",
      "embedding (Embedding)        (None, None, 16)          160000    \n",
      "_________________________________________________________________\n",
      "lstm (LSTM)                  (None, 8)                 800       \n",
      "_________________________________________________________________\n",
      "dense (Dense)                (None, 8)                 72        \n",
      "_________________________________________________________________\n",
      "dense_1 (Dense)              (None, 1)                 9         \n",
      "=================================================================\n",
      "Total params: 160,881\n",
      "Trainable params: 160,881\n",
      "Non-trainable params: 0\n",
      "_________________________________________________________________\n"
     ]
    }
   ],
   "source": [
    "vocab_size = 10000    # 어휘 사전의 크기입니다(10,000개의 단어)\n",
    "word_vector_dim = 16  # 워드 벡터의 차원수 (변경가능한 하이퍼파라미터)\n",
    "\n",
    "# model 설계 - 딥러닝 모델 코드를 직접 작성해 주세요.\n",
    "model = keras.Sequential()\n",
    "model.add(keras.layers.Embedding(vocab_size, word_vector_dim, input_shape=(None,)))\n",
    "model.add(keras.layers.LSTM(8))   # 가장 널리 쓰이는 RNN인 LSTM 레이어를 사용하였습니다. 이때 LSTM state 벡터의 차원수는 8로 하였습니다. (변경가능)\n",
    "model.add(keras.layers.Dense(8, activation='relu'))\n",
    "model.add(keras.layers.Dense(1, activation='sigmoid'))  # 최종 출력은 긍정/부정을 나타내는 1dim 입니다.\n",
    "\n",
    "model.summary()"
   ]
  },
  {
   "cell_type": "markdown",
   "id": "protective-weekend",
   "metadata": {},
   "source": [
    "## 4-2. Validation set 구성"
   ]
  },
  {
   "cell_type": "code",
   "execution_count": 8,
   "id": "conventional-acceptance",
   "metadata": {},
   "outputs": [
    {
     "name": "stdout",
     "output_type": "stream",
     "text": [
      "(136182, 41)\n",
      "(136182,)\n"
     ]
    }
   ],
   "source": [
    "# validation set 10000건 분리\n",
    "x_val = X_train[:10000]   \n",
    "y_val = y_train[:10000]\n",
    "\n",
    "# validation set을 제외한 나머지 15000건\n",
    "partial_X_train = X_train[10000:]  \n",
    "partial_y_train = y_train[10000:]\n",
    "\n",
    "print(partial_X_train.shape)\n",
    "print(partial_y_train.shape)"
   ]
  },
  {
   "cell_type": "markdown",
   "id": "excellent-number",
   "metadata": {},
   "source": [
    "# 5. 모델 훈련 개시"
   ]
  },
  {
   "cell_type": "code",
   "execution_count": 9,
   "id": "clinical-segment",
   "metadata": {},
   "outputs": [
    {
     "name": "stdout",
     "output_type": "stream",
     "text": [
      "Epoch 1/5\n",
      "266/266 [==============================] - 2s 6ms/step - loss: 0.5794 - accuracy: 0.6858 - val_loss: 0.4016 - val_accuracy: 0.8332\n",
      "Epoch 2/5\n",
      "266/266 [==============================] - 1s 5ms/step - loss: 0.3544 - accuracy: 0.8511 - val_loss: 0.3435 - val_accuracy: 0.8504\n",
      "Epoch 3/5\n",
      "266/266 [==============================] - 1s 5ms/step - loss: 0.3210 - accuracy: 0.8657 - val_loss: 0.3412 - val_accuracy: 0.8521\n",
      "Epoch 4/5\n",
      "266/266 [==============================] - 1s 5ms/step - loss: 0.3095 - accuracy: 0.8713 - val_loss: 0.3396 - val_accuracy: 0.8506\n",
      "Epoch 5/5\n",
      "266/266 [==============================] - 1s 5ms/step - loss: 0.3016 - accuracy: 0.8752 - val_loss: 0.3422 - val_accuracy: 0.8517\n"
     ]
    }
   ],
   "source": [
    "model.compile(optimizer='adam',\n",
    "              loss='binary_crossentropy',\n",
    "              metrics=['accuracy'])\n",
    "              \n",
    "epochs=5  # 몇 epoch를 훈련하면 좋을지 결과를 보면서 바꾸어 봅시다. \n",
    "\n",
    "history = model.fit(partial_X_train,\n",
    "                    partial_y_train,\n",
    "                    epochs=epochs,\n",
    "                    batch_size=512,\n",
    "                    validation_data=(x_val, y_val),\n",
    "                    verbose=1)"
   ]
  },
  {
   "cell_type": "markdown",
   "id": "owned-yeast",
   "metadata": {},
   "source": [
    "### >>> 학습 결과: 정확도 0.8488"
   ]
  },
  {
   "cell_type": "code",
   "execution_count": 10,
   "id": "productive-theology",
   "metadata": {},
   "outputs": [
    {
     "name": "stdout",
     "output_type": "stream",
     "text": [
      "1537/1537 - 3s - loss: 0.3540 - accuracy: 0.8469\n",
      "[0.35398733615875244, 0.846919059753418]\n"
     ]
    }
   ],
   "source": [
    "# 학습이 끝난 모델 평가\n",
    "results = model.evaluate(X_test,  y_test, verbose=2)\n",
    "\n",
    "print(results)"
   ]
  },
  {
   "cell_type": "markdown",
   "id": "variable-champagne",
   "metadata": {},
   "source": [
    "### >>> 평가 결과: 정확도 0.8454"
   ]
  },
  {
   "cell_type": "markdown",
   "id": "supreme-geology",
   "metadata": {},
   "source": [
    "# 6. Loss, Accuarcy 그래프 시각화"
   ]
  },
  {
   "cell_type": "markdown",
   "id": "brief-buddy",
   "metadata": {},
   "source": [
    "### model.fit() 진행 시 매 epoch마다 train/validation loss, accuracy 등이  history에 저장됨.\n",
    "### 이를 활용해 그래프를 그릴 수 있다."
   ]
  },
  {
   "cell_type": "code",
   "execution_count": 11,
   "id": "trained-personal",
   "metadata": {
    "scrolled": true
   },
   "outputs": [
    {
     "name": "stdout",
     "output_type": "stream",
     "text": [
      "dict_keys(['loss', 'accuracy', 'val_loss', 'val_accuracy'])\n"
     ]
    }
   ],
   "source": [
    "history_dict = history.history\n",
    "print(history_dict.keys()) # epoch에 따른 그래프를 그려볼 수 있는 항목들"
   ]
  },
  {
   "cell_type": "markdown",
   "id": "alternate-bracket",
   "metadata": {},
   "source": [
    "## 6-1. Train, Validation의 loss 그래프"
   ]
  },
  {
   "cell_type": "code",
   "execution_count": 12,
   "id": "preliminary-biotechnology",
   "metadata": {},
   "outputs": [
    {
     "data": {
      "image/png": "[encoded data removed]",
      "text/plain": [
       "<Figure size 432x288 with 1 Axes>"
      ]
     },
     "metadata": {
      "needs_background": "light"
     },
     "output_type": "display_data"
    }
   ],
   "source": [
    "import matplotlib.pyplot as plt\n",
    "\n",
    "acc = history_dict['accuracy']\n",
    "val_acc = history_dict['val_accuracy']\n",
    "loss = history_dict['loss']\n",
    "val_loss = history_dict['val_loss']\n",
    "\n",
    "epochs = range(1, len(acc) + 1)\n",
    "\n",
    "# \"bo\"는 \"파란색 점\"입니다\n",
    "plt.plot(epochs, loss, 'bo', label='Training loss')\n",
    "# b는 \"파란 실선\"입니다\n",
    "plt.plot(epochs, val_loss, 'b', label='Validation loss')\n",
    "plt.title('Training and validation loss')\n",
    "plt.xlabel('Epochs')\n",
    "plt.ylabel('Loss')\n",
    "plt.legend()\n",
    "\n",
    "plt.show()"
   ]
  },
  {
   "cell_type": "markdown",
   "id": "familiar-category",
   "metadata": {},
   "source": [
    "## 6-2. Train, Validation의 Accuarcy 그래프"
   ]
  },
  {
   "cell_type": "code",
   "execution_count": 13,
   "id": "marine-voice",
   "metadata": {
    "scrolled": true
   },
   "outputs": [
    {
     "data": {
      "image/png": "[encoded data removed]",
      "text/plain": [
       "<Figure size 432x288 with 1 Axes>"
      ]
     },
     "metadata": {
      "needs_background": "light"
     },
     "output_type": "display_data"
    }
   ],
   "source": [
    "plt.clf()   # 그림을 초기화합니다\n",
    "\n",
    "plt.plot(epochs, acc, 'bo', label='Training acc')\n",
    "plt.plot(epochs, val_acc, 'b', label='Validation acc')\n",
    "plt.title('Training and validation accuracy')\n",
    "plt.xlabel('Epochs')\n",
    "plt.ylabel('Accuracy')\n",
    "plt.legend()\n",
    "\n",
    "plt.show()"
   ]
  },
  {
   "cell_type": "markdown",
   "id": "invisible-mention",
   "metadata": {},
   "source": [
    "### >>> epoch가 진행됨에 따라 Train의 loss는 감소하는 경향이지만 Validation의 loss는 epoch=3 이상이 되자 변함이 없다.\n",
    "### >>> epoch를 변하기보다 모델의 파라미터를 변경할 필요 느낌\n",
    "### >>> Accuary의 경우도 마찬가지 경향을 보임"
   ]
  },
  {
   "cell_type": "markdown",
   "id": "special-complement",
   "metadata": {},
   "source": [
    "# 7. 학습된 Embedding 레이어 분석\n",
    "## * 워드 임베딩(word embedding): 단어의 특성을 저차원 벡터값으로 표현할 수 있다. 머신러닝 기반 감성분석은 라벨링 등 비용이 많이 드는데 워드 임베딩은 비용을 절감시키고 정확도를 크게 향상시킬 수 있다.\n",
    "## 학습했던 모델의 첫 번째 레이어가 Embedding레이어\n",
    "## > 이 레이어는 사전의 단어의 개수 \\* 워드벡터 사이즈만큼의 크기를 가진 학습 파라미터\n",
    "## >> 학습이 잘 되었다면, Embedding레이어에 학습된 워드 벡터들도 의미 공간상에 유의미한 형태로 학습되었을 것"
   ]
  },
  {
   "cell_type": "code",
   "execution_count": 14,
   "id": "deadly-italic",
   "metadata": {},
   "outputs": [
    {
     "name": "stdout",
     "output_type": "stream",
     "text": [
      "(10000, 16)\n"
     ]
    }
   ],
   "source": [
    "embedding_layer = model.layers[0] # 학습한 모델의 첫 번째 레이어\n",
    "weights = embedding_layer.get_weights()[0]\n",
    "print(weights.shape)    # shape: (vocab_size, embedding_dim)"
   ]
  },
  {
   "cell_type": "code",
   "execution_count": 15,
   "id": "daily-toronto",
   "metadata": {},
   "outputs": [],
   "source": [
    "import os\n",
    "\n",
    "# 학습한 Embedding 파라미터를 파일에 써서 저장합니다. \n",
    "word2vec_file_path = os.getenv('HOME')+'/1.AIFFEL_Study/Exploration/E04_Movie_Review_Emotion/word2vec.txt'\n",
    "f = open(word2vec_file_path, 'w')\n",
    "f.write('{} {}\\n'.format(vocab_size-4, word_vector_dim))  # 몇개의 벡터를 얼마 사이즈로 기재할지 타이틀을 씁니다.\n",
    "\n",
    "# 단어 개수(에서 특수문자 4개는 제외하고)만큼의 워드 벡터를 파일에 기록합니다. \n",
    "vectors = model.get_weights()[0]\n",
    "for i in range(4,vocab_size):\n",
    "    f.write('{} {}\\n'.format(index_to_word[i], ' '.join(map(str, list(vectors[i, :])))))\n",
    "f.close()"
   ]
  },
  {
   "cell_type": "code",
   "execution_count": 16,
   "id": "terminal-diana",
   "metadata": {},
   "outputs": [
    {
     "data": {
      "text/plain": [
       "array([ 0.04177171,  0.10172809, -0.05934961,  0.02260628, -0.04569798,\n",
       "        0.01823687,  0.00745137, -0.02634863, -0.02131412,  0.1752238 ,\n",
       "        0.01441255, -0.01282439, -0.07597051, -0.05435818, -0.08201781,\n",
       "        0.01880662], dtype=float32)"
      ]
     },
     "execution_count": 16,
     "metadata": {},
     "output_type": "execute_result"
    }
   ],
   "source": [
    "from gensim.models.keyedvectors import Word2VecKeyedVectors\n",
    "\n",
    "word_vectors = Word2VecKeyedVectors.load_word2vec_format(word2vec_file_path, binary=False)\n",
    "vector = word_vectors['재미']\n",
    "vector"
   ]
  },
  {
   "cell_type": "code",
   "execution_count": 17,
   "id": "proud-wrong",
   "metadata": {},
   "outputs": [
    {
     "data": {
      "text/plain": [
       "[('완전', 0.8113921880722046),\n",
       " ('!!!!!', 0.8042358756065369),\n",
       " ('생길', 0.7882717251777649),\n",
       " ('이렇게', 0.7728551626205444),\n",
       " ('장르', 0.7642120122909546),\n",
       " ('긴', 0.7558087110519409),\n",
       " ('라', 0.7446434497833252),\n",
       " ('스릴러', 0.7284111976623535),\n",
       " ('너무', 0.7279280424118042),\n",
       " ('아닌', 0.7198998332023621)]"
      ]
     },
     "execution_count": 17,
     "metadata": {},
     "output_type": "execute_result"
    }
   ],
   "source": [
    "word_vectors.similar_by_word(\"재미\")"
   ]
  },
  {
   "cell_type": "markdown",
   "id": "nearby-council",
   "metadata": {},
   "source": [
    "# 8. 한국어 Word2Vec 임베딩 활용해 성능개선"
   ]
  },
  {
   "cell_type": "code",
   "execution_count": 22,
   "id": "systematic-cruise",
   "metadata": {},
   "outputs": [],
   "source": [
    "import os\n",
    "from gensim.models import KeyedVectors\n",
    "word2vec_path = os.getenv('HOME')+'/1.AIFFEL_Study/Exploration/E04_Movie_Review_Emotion/GoogleNews-vectors-negative300.bin.gz'\n",
    "word2vec = KeyedVectors.load_word2vec_format(word2vec_path, binary=True, limit=1000000)\n"
   ]
  },
  {
   "cell_type": "code",
   "execution_count": 29,
   "id": "separated-receipt",
   "metadata": {},
   "outputs": [
    {
     "data": {
      "text/plain": [
       "array([ 0.10302734, -0.15234375,  0.02587891,  0.16503906, -0.16503906,\n",
       "        0.06689453,  0.29296875, -0.26367188, -0.140625  ,  0.20117188,\n",
       "       -0.02624512, -0.08203125, -0.02770996, -0.04394531, -0.23535156,\n",
       "        0.16992188,  0.12890625,  0.15722656,  0.00756836, -0.06982422,\n",
       "       -0.03857422,  0.07958984,  0.22949219, -0.14355469,  0.16796875,\n",
       "       -0.03515625,  0.05517578,  0.10693359,  0.11181641, -0.16308594,\n",
       "       -0.11181641,  0.13964844,  0.01556396,  0.12792969,  0.15429688,\n",
       "        0.07714844,  0.26171875,  0.08642578, -0.02514648,  0.33398438,\n",
       "        0.18652344, -0.20996094,  0.07080078,  0.02600098, -0.10644531,\n",
       "       -0.10253906,  0.12304688,  0.04711914,  0.02209473,  0.05834961,\n",
       "       -0.10986328,  0.14941406, -0.10693359,  0.01556396,  0.08984375,\n",
       "        0.11230469, -0.04370117, -0.11376953, -0.0037384 , -0.01818848,\n",
       "        0.24316406,  0.08447266, -0.07080078,  0.18066406,  0.03515625,\n",
       "       -0.09667969, -0.21972656, -0.00328064, -0.03198242,  0.18457031,\n",
       "        0.28515625, -0.0859375 , -0.11181641,  0.0213623 , -0.30664062,\n",
       "       -0.09228516, -0.18945312,  0.01513672,  0.18554688,  0.34375   ,\n",
       "       -0.31054688,  0.22558594,  0.08740234, -0.2265625 , -0.29492188,\n",
       "        0.08251953, -0.38476562,  0.25390625,  0.26953125,  0.06298828,\n",
       "       -0.00958252,  0.23632812, -0.17871094, -0.12451172, -0.17285156,\n",
       "       -0.11767578,  0.19726562, -0.03466797, -0.10400391, -0.1640625 ,\n",
       "       -0.19726562,  0.19824219,  0.09521484,  0.00561523,  0.12597656,\n",
       "        0.00073624, -0.0402832 , -0.03063965,  0.01623535, -0.1640625 ,\n",
       "       -0.22167969,  0.171875  ,  0.12011719, -0.01965332,  0.4453125 ,\n",
       "        0.06494141,  0.05932617, -0.1640625 , -0.01367188,  0.18945312,\n",
       "        0.05566406, -0.05004883, -0.01422119,  0.15917969,  0.07421875,\n",
       "       -0.31640625, -0.0534668 , -0.02355957, -0.16992188,  0.0625    ,\n",
       "       -0.140625  , -0.13183594, -0.12792969,  0.12060547,  0.05883789,\n",
       "       -0.00055695,  0.05761719, -0.08447266,  0.16992188,  0.13671875,\n",
       "       -0.09375   ,  0.08056641, -0.04003906, -0.03759766, -0.26367188,\n",
       "        0.00662231, -0.01928711,  0.09423828, -0.13183594, -0.27929688,\n",
       "        0.27734375,  0.31835938,  0.10058594,  0.11425781, -0.27734375,\n",
       "        0.11035156, -0.06982422, -0.0859375 , -0.11132812, -0.27929688,\n",
       "       -0.07763672,  0.05102539, -0.06176758,  0.44921875,  0.01867676,\n",
       "       -0.15039062,  0.13671875, -0.15039062, -0.2265625 ,  0.11914062,\n",
       "        0.06005859, -0.0390625 , -0.10839844,  0.02905273,  0.02331543,\n",
       "        0.13183594,  0.01000977,  0.03149414, -0.12597656, -0.13671875,\n",
       "       -0.30664062, -0.28515625,  0.09863281, -0.00564575, -0.08398438,\n",
       "       -0.16015625, -0.14453125, -0.18261719,  0.10009766,  0.04345703,\n",
       "        0.10644531,  0.16503906,  0.06298828,  0.17578125,  0.15820312,\n",
       "        0.125     ,  0.171875  , -0.05664062, -0.09033203, -0.21289062,\n",
       "       -0.0390625 , -0.03320312, -0.18652344, -0.18945312, -0.01818848,\n",
       "       -0.03051758, -0.17675781,  0.15234375,  0.01953125,  0.01696777,\n",
       "       -0.10839844,  0.18066406,  0.00497437, -0.11621094, -0.19824219,\n",
       "       -0.19140625,  0.21386719,  0.08984375, -0.16308594, -0.00325012,\n",
       "       -0.07128906,  0.08251953,  0.02160645,  0.10107422, -0.29101562,\n",
       "       -0.04785156, -0.03369141, -0.14453125, -0.06396484, -0.12451172,\n",
       "       -0.24804688,  0.09277344,  0.01165771,  0.24707031,  0.3828125 ,\n",
       "        0.02429199, -0.12255859,  0.00259399, -0.015625  ,  0.00540161,\n",
       "        0.04736328, -0.00744629, -0.18261719,  0.21972656, -0.16601562,\n",
       "        0.359375  ,  0.05297852, -0.03808594, -0.10400391, -0.18457031,\n",
       "        0.07470703,  0.2734375 ,  0.28320312,  0.15234375,  0.05126953,\n",
       "       -0.15429688, -0.15722656, -0.21582031, -0.19824219,  0.09960938,\n",
       "       -0.09179688,  0.07519531, -0.02441406,  0.17382812, -0.11279297,\n",
       "        0.00219727,  0.07470703, -0.02307129,  0.08642578,  0.16601562,\n",
       "        0.07763672,  0.14746094,  0.15429688,  0.11425781,  0.14550781,\n",
       "       -0.24023438, -0.2109375 ,  0.07421875, -0.14746094, -0.08642578,\n",
       "        0.16113281, -0.07128906,  0.109375  ,  0.17675781,  0.18554688,\n",
       "       -0.15820312, -0.2265625 ,  0.15039062, -0.08544922,  0.09130859,\n",
       "       -0.03198242,  0.13476562, -0.15136719, -0.42773438, -0.03442383,\n",
       "       -0.27929688,  0.125     , -0.19824219, -0.12304688,  0.06494141],\n",
       "      dtype=float32)"
      ]
     },
     "execution_count": 29,
     "metadata": {},
     "output_type": "execute_result"
    }
   ],
   "source": [
    "vector = word2vec['love']\n",
    "vector     # 무려 300dim의 워드 벡터입니다."
   ]
  },
  {
   "cell_type": "code",
   "execution_count": 30,
   "id": "provincial-charity",
   "metadata": {},
   "outputs": [
    {
     "data": {
      "text/plain": [
       "[('loved', 0.6907792091369629),\n",
       " ('adore', 0.6816873550415039),\n",
       " ('loves', 0.661863386631012),\n",
       " ('passion', 0.6100709438323975),\n",
       " ('hate', 0.600395679473877),\n",
       " ('loving', 0.5886635780334473),\n",
       " ('affection', 0.5664337873458862),\n",
       " ('undying_love', 0.5547305345535278),\n",
       " ('absolutely_adore', 0.5536840558052063),\n",
       " ('adores', 0.5440906882286072)]"
      ]
     },
     "execution_count": 30,
     "metadata": {},
     "output_type": "execute_result"
    }
   ],
   "source": [
    "# 메모리를 다소 많이 소비하는 작업이니 유의해 주세요.\n",
    "word2vec.similar_by_word(\"love\")"
   ]
  },
  {
   "cell_type": "code",
   "execution_count": 31,
   "id": "chief-column",
   "metadata": {},
   "outputs": [],
   "source": [
    "vocab_size = 10000    # 어휘 사전의 크기입니다(10,000개의 단어)\n",
    "word_vector_dim = 300  # 워드 벡터의 차원수 (변경가능한 하이퍼파라미터)\n",
    "\n",
    "embedding_matrix = np.random.rand(vocab_size, word_vector_dim)\n",
    "\n",
    "# embedding_matrix에 Word2Vec 워드벡터를 단어 하나씩마다 차례차례 카피한다.\n",
    "for i in range(4,vocab_size):\n",
    "    if index_to_word[i] in word2vec:\n",
    "        embedding_matrix[i] = word2vec[index_to_word[i]]"
   ]
  },
  {
   "cell_type": "code",
   "execution_count": 32,
   "id": "authentic-stranger",
   "metadata": {},
   "outputs": [
    {
     "name": "stdout",
     "output_type": "stream",
     "text": [
      "Model: \"sequential_1\"\n",
      "_________________________________________________________________\n",
      "Layer (type)                 Output Shape              Param #   \n",
      "=================================================================\n",
      "embedding_1 (Embedding)      (None, 41, 300)           3000000   \n",
      "_________________________________________________________________\n",
      "conv1d (Conv1D)              (None, 35, 16)            33616     \n",
      "_________________________________________________________________\n",
      "max_pooling1d (MaxPooling1D) (None, 7, 16)             0         \n",
      "_________________________________________________________________\n",
      "conv1d_1 (Conv1D)            (None, 1, 16)             1808      \n",
      "_________________________________________________________________\n",
      "global_max_pooling1d (Global (None, 16)                0         \n",
      "_________________________________________________________________\n",
      "dense_2 (Dense)              (None, 8)                 136       \n",
      "_________________________________________________________________\n",
      "dense_3 (Dense)              (None, 1)                 9         \n",
      "=================================================================\n",
      "Total params: 3,035,569\n",
      "Trainable params: 3,035,569\n",
      "Non-trainable params: 0\n",
      "_________________________________________________________________\n"
     ]
    }
   ],
   "source": [
    "from tensorflow.keras.initializers import Constant\n",
    "\n",
    "vocab_size = 10000    # 어휘 사전의 크기입니다(10,000개의 단어)\n",
    "word_vector_dim = 300  # 워드 벡터의 차원수 (변경가능한 하이퍼파라미터)\n",
    "\n",
    "# 모델 구성\n",
    "model = keras.Sequential()\n",
    "model.add(keras.layers.Embedding(vocab_size, \n",
    "                                 word_vector_dim, \n",
    "                                 embeddings_initializer=Constant(embedding_matrix),  # 카피한 임베딩을 여기서 활용\n",
    "                                 input_length=maxlen, \n",
    "                                 trainable=True))   # trainable을 True로 주면 Fine-tuning\n",
    "model.add(keras.layers.Conv1D(16, 7, activation='relu'))\n",
    "model.add(keras.layers.MaxPooling1D(5))\n",
    "model.add(keras.layers.Conv1D(16, 7, activation='relu'))\n",
    "model.add(keras.layers.GlobalMaxPooling1D())\n",
    "model.add(keras.layers.Dense(8, activation='relu'))\n",
    "model.add(keras.layers.Dense(1, activation='sigmoid')) \n",
    "\n",
    "model.summary()"
   ]
  },
  {
   "cell_type": "code",
   "execution_count": 34,
   "id": "welcome-document",
   "metadata": {},
   "outputs": [
    {
     "name": "stdout",
     "output_type": "stream",
     "text": [
      "Epoch 1/20\n",
      "266/266 [==============================] - 20s 77ms/step - loss: 0.6934 - accuracy: 0.5005 - val_loss: 0.6931 - val_accuracy: 0.5027\n",
      "Epoch 2/20\n",
      "266/266 [==============================] - 9s 33ms/step - loss: 0.6932 - accuracy: 0.5010 - val_loss: 0.6931 - val_accuracy: 0.5027\n",
      "Epoch 3/20\n",
      "266/266 [==============================] - 9s 33ms/step - loss: 0.6932 - accuracy: 0.5000 - val_loss: 0.6931 - val_accuracy: 0.5027\n",
      "Epoch 4/20\n",
      "266/266 [==============================] - 9s 33ms/step - loss: 0.6931 - accuracy: 0.5017 - val_loss: 0.6931 - val_accuracy: 0.5027\n",
      "Epoch 5/20\n",
      "266/266 [==============================] - 9s 33ms/step - loss: 0.6928 - accuracy: 0.5088 - val_loss: 0.6816 - val_accuracy: 0.5462\n",
      "Epoch 6/20\n",
      "266/266 [==============================] - 9s 33ms/step - loss: 0.4707 - accuracy: 0.7744 - val_loss: 0.3729 - val_accuracy: 0.8327\n",
      "Epoch 7/20\n",
      "266/266 [==============================] - 9s 33ms/step - loss: 0.3516 - accuracy: 0.8495 - val_loss: 0.3554 - val_accuracy: 0.8466\n",
      "Epoch 8/20\n",
      "266/266 [==============================] - 9s 33ms/step - loss: 0.3285 - accuracy: 0.8614 - val_loss: 0.3543 - val_accuracy: 0.8447\n",
      "Epoch 9/20\n",
      "266/266 [==============================] - 9s 33ms/step - loss: 0.3120 - accuracy: 0.8691 - val_loss: 0.3787 - val_accuracy: 0.8361\n",
      "Epoch 10/20\n",
      "266/266 [==============================] - 9s 33ms/step - loss: 0.3010 - accuracy: 0.8752 - val_loss: 0.3611 - val_accuracy: 0.8423\n",
      "Epoch 11/20\n",
      "266/266 [==============================] - 9s 33ms/step - loss: 0.2822 - accuracy: 0.8848 - val_loss: 0.3608 - val_accuracy: 0.8462\n",
      "Epoch 12/20\n",
      "266/266 [==============================] - 9s 33ms/step - loss: 0.2670 - accuracy: 0.8924 - val_loss: 0.3641 - val_accuracy: 0.8474\n",
      "Epoch 13/20\n",
      "266/266 [==============================] - 9s 32ms/step - loss: 0.2505 - accuracy: 0.9007 - val_loss: 0.3822 - val_accuracy: 0.8403\n",
      "Epoch 14/20\n",
      "266/266 [==============================] - 9s 33ms/step - loss: 0.2320 - accuracy: 0.9109 - val_loss: 0.3918 - val_accuracy: 0.8423\n",
      "Epoch 15/20\n",
      "266/266 [==============================] - 9s 33ms/step - loss: 0.2124 - accuracy: 0.9210 - val_loss: 0.4126 - val_accuracy: 0.8392\n",
      "Epoch 16/20\n",
      "266/266 [==============================] - 9s 33ms/step - loss: 0.1925 - accuracy: 0.9302 - val_loss: 0.4161 - val_accuracy: 0.8396\n",
      "Epoch 17/20\n",
      "266/266 [==============================] - 9s 33ms/step - loss: 0.1757 - accuracy: 0.9381 - val_loss: 0.4529 - val_accuracy: 0.8354\n",
      "Epoch 18/20\n",
      "266/266 [==============================] - 9s 32ms/step - loss: 0.1583 - accuracy: 0.9456 - val_loss: 0.4645 - val_accuracy: 0.8364\n",
      "Epoch 19/20\n",
      "266/266 [==============================] - 9s 33ms/step - loss: 0.1436 - accuracy: 0.9525 - val_loss: 0.4817 - val_accuracy: 0.8351\n",
      "Epoch 20/20\n",
      "266/266 [==============================] - 9s 33ms/step - loss: 0.1326 - accuracy: 0.9569 - val_loss: 0.5121 - val_accuracy: 0.8316\n"
     ]
    }
   ],
   "source": [
    "# 학습의 진행\n",
    "model.compile(optimizer='adam',\n",
    "              loss='binary_crossentropy',\n",
    "              metrics=['accuracy'])\n",
    "              \n",
    "epochs=20  # 몇 epoch를 훈련하면 좋을지 결과를 보면서 바꾸어 봅시다. \n",
    "\n",
    "history = model.fit(partial_X_train,\n",
    "                    partial_y_train,\n",
    "                    epochs=epochs,\n",
    "                    batch_size=512,\n",
    "                    validation_data=(x_val, y_val),\n",
    "                    verbose=1)"
   ]
  },
  {
   "cell_type": "code",
   "execution_count": 36,
   "id": "white-river",
   "metadata": {},
   "outputs": [
    {
     "name": "stdout",
     "output_type": "stream",
     "text": [
      "1537/1537 - 6s - loss: 0.5166 - accuracy: 0.8269\n",
      "[0.5165864825248718, 0.8269015550613403]\n"
     ]
    }
   ],
   "source": [
    "# 테스트셋을 통한 모델 평가\n",
    "results = model.evaluate(X_test,  y_test, verbose=2)\n",
    "\n",
    "print(results)"
   ]
  },
  {
   "cell_type": "code",
   "execution_count": 37,
   "id": "minor-cardiff",
   "metadata": {},
   "outputs": [
    {
     "name": "stdout",
     "output_type": "stream",
     "text": [
      "dict_keys(['loss', 'accuracy', 'val_loss', 'val_accuracy'])\n"
     ]
    }
   ],
   "source": [
    "history_dict = history.history\n",
    "print(history_dict.keys()) # epoch에 따른 그래프를 그려볼 수 있는 항목들"
   ]
  },
  {
   "cell_type": "code",
   "execution_count": 38,
   "id": "reserved-check",
   "metadata": {},
   "outputs": [
    {
     "data": {
      "image/png": "[encoded data removed]",
      "text/plain": [
       "<Figure size 432x288 with 1 Axes>"
      ]
     },
     "metadata": {
      "needs_background": "light"
     },
     "output_type": "display_data"
    }
   ],
   "source": [
    "import matplotlib.pyplot as plt\n",
    "\n",
    "acc = history_dict['accuracy']\n",
    "val_acc = history_dict['val_accuracy']\n",
    "loss = history_dict['loss']\n",
    "val_loss = history_dict['val_loss']\n",
    "\n",
    "epochs = range(1, len(acc) + 1)\n",
    "\n",
    "# \"bo\"는 \"파란색 점\"입니다\n",
    "plt.plot(epochs, loss, 'bo', label='Training loss')\n",
    "# b는 \"파란 실선\"입니다\n",
    "plt.plot(epochs, val_loss, 'b', label='Validation loss')\n",
    "plt.title('Training and validation loss')\n",
    "plt.xlabel('Epochs')\n",
    "plt.ylabel('Loss')\n",
    "plt.legend()\n",
    "\n",
    "plt.show()"
   ]
  },
  {
   "cell_type": "code",
   "execution_count": 39,
   "id": "expanded-disposal",
   "metadata": {},
   "outputs": [
    {
     "data": {
      "image/png": "[encoded data removed]",
      "text/plain": [
       "<Figure size 432x288 with 1 Axes>"
      ]
     },
     "metadata": {
      "needs_background": "light"
     },
     "output_type": "display_data"
    }
   ],
   "source": [
    "plt.clf()   # 그림을 초기화합니다\n",
    "\n",
    "plt.plot(epochs, acc, 'bo', label='Training acc')\n",
    "plt.plot(epochs, val_acc, 'b', label='Validation acc')\n",
    "plt.title('Training and validation accuracy')\n",
    "plt.xlabel('Epochs')\n",
    "plt.ylabel('Accuracy')\n",
    "plt.legend()\n",
    "\n",
    "plt.show()"
   ]
  },
  {
   "cell_type": "code",
   "execution_count": null,
   "id": "respective-print",
   "metadata": {},
   "outputs": [],
   "source": []
  },
  {
   "cell_type": "code",
   "execution_count": null,
   "id": "textile-declaration",
   "metadata": {},
   "outputs": [],
   "source": []
  },
  {
   "cell_type": "markdown",
   "id": "composed-lodge",
   "metadata": {},
   "source": [
    "# 9. 루브릭 평가 및 소감"
   ]
  },
  {
   "cell_type": "code",
   "execution_count": null,
   "id": "individual-andrews",
   "metadata": {},
   "outputs": [],
   "source": []
  },
  {
   "cell_type": "code",
   "execution_count": null,
   "id": "aquatic-stone",
   "metadata": {},
   "outputs": [],
   "source": []
  },
  {
   "cell_type": "code",
   "execution_count": null,
   "id": "accredited-repair",
   "metadata": {},
   "outputs": [],
   "source": []
  },
  {
   "cell_type": "code",
   "execution_count": null,
   "id": "excess-pencil",
   "metadata": {},
   "outputs": [],
   "source": []
  },
  {
   "cell_type": "code",
   "execution_count": null,
   "id": "crazy-device",
   "metadata": {},
   "outputs": [],
   "source": []
  }
 ],
 "metadata": {
  "kernelspec": {
   "display_name": "aiffel",
   "language": "python",
   "name": "aiffel"
  },
  "language_info": {
   "codemirror_mode": {
    "name": "ipython",
    "version": 3
   },
   "file_extension": ".py",
   "mimetype": "text/x-python",
   "name": "python",
   "nbconvert_exporter": "python",
   "pygments_lexer": "ipython3",
   "version": "3.7.9"
  }
 },
 "nbformat": 4,
 "nbformat_minor": 5
}
