{
 "cells": [
  {
   "cell_type": "markdown",
   "metadata": {},
   "source": [
    "# 모듈 불러오기"
   ]
  },
  {
   "cell_type": "code",
   "execution_count": 1,
   "metadata": {},
   "outputs": [
    {
     "name": "stdout",
     "output_type": "stream",
     "text": [
      "Requirement already satisfied: pillow in /home/aiffel/anaconda3/envs/aiffel/lib/python3.7/site-packages (8.0.1)\r\n"
     ]
    }
   ],
   "source": [
    "!pip install pillow   \n",
    "import tensorflow as tf\n",
    "from tensorflow import keras\n",
    "import numpy as np\n",
    "import matplotlib.pyplot as plt\n",
    "from PIL import Image\n",
    "import os, glob"
   ]
  },
  {
   "cell_type": "markdown",
   "metadata": {},
   "source": [
    "# 1. 함수정의\n",
    "\n",
    "## <span style=\"color:red\">★데이터 분류를 먼저 해야함!★</span>\n",
    "### 3번 number_of_data=15000 (데이터 총 개수가 15,000개이다. 하지만 필요시 변경해야 한다.)\n",
    "### <span style=\"color:red\">참고!! 전체 데이터 셋 15000개 중 테스트셋을 미리 따로 분류해 놓는다. 필수!! data1~18중 하나를 하면 편리할 것이다.</span>\n",
    "### <span style=\"color:red\">예를 들면 가위,바위,보 각각 100개씩 300개를 테스트셋으로 빼서 14,700개만 훈련셋으로 사용한다.</span>\n",
    "## 아래 함수는 기존에 제공된 함수를 조금 수정했다.\n",
    "### number_of_data 변수를 자동으로 이미지 개수 총합을 세주는 것으로 변경했다."
   ]
  },
  {
   "cell_type": "code",
   "execution_count": 2,
   "metadata": {},
   "outputs": [],
   "source": [
    "def load_data(img_path):\n",
    "    # 가위 : 0, 바위 : 1, 보 : 2\n",
    "    \n",
    "    number_of_data = 0 \n",
    "    for file in glob.iglob(img_path+'/rock/*.jpg'):\n",
    "        number_of_data+=1\n",
    "    for file in glob.iglob(img_path+'/scissor/*.jpg'):\n",
    "        number_of_data+=1\n",
    "    for file in glob.iglob(img_path+'/paper/*.jpg'):\n",
    "        number_of_data+=1\n",
    "    # 위 반복문을 실행하면 전체 이미지 파일 개수를 알 수 있다. \n",
    "    \n",
    "    img_size=28\n",
    "    color=3\n",
    "    #이미지 데이터와 라벨(가위 : 0, 바위 : 1, 보 : 2) 데이터를 담을 행렬(matrix) 영역을 생성합니다.\n",
    "    imgs=np.zeros(number_of_data*img_size*img_size*color,dtype=np.int32).reshape(number_of_data,img_size,img_size,color)\n",
    "    labels=np.zeros(number_of_data,dtype=np.int32)\n",
    "\n",
    "    idx=0\n",
    "    for file in glob.iglob(img_path+'/scissor/*.jpg'):\n",
    "        img = np.array(Image.open(file),dtype=np.int32)\n",
    "        imgs[idx,:,:,:]=img    # 데이터 영역에 이미지 행렬을 복사\n",
    "        labels[idx]=0   # 가위 : 0\n",
    "        idx=idx+1\n",
    "\n",
    "    for file in glob.iglob(img_path+'/rock/*.jpg'):\n",
    "        img = np.array(Image.open(file),dtype=np.int32)\n",
    "        imgs[idx,:,:,:]=img    # 데이터 영역에 이미지 행렬을 복사\n",
    "        labels[idx]=1   # 바위 : 1\n",
    "        idx=idx+1       \n",
    "    \n",
    "    for file in glob.iglob(img_path+'/paper/*.jpg'):\n",
    "        img = np.array(Image.open(file),dtype=np.int32)\n",
    "        imgs[idx,:,:,:]=img    # 데이터 영역에 이미지 행렬을 복사\n",
    "        labels[idx]=2   # 보 : 2\n",
    "        idx=idx+1\n",
    "        \n",
    "    print(\"이미지 개수는\",idx,\"입니다.\")\n",
    "    return imgs, labels"
   ]
  },
  {
   "cell_type": "markdown",
   "metadata": {},
   "source": [
    "# 2. 데이터 불러오기\n",
    "## 변경부분은 아래와 같다.\n",
    "### 아래 코드의 1번 줄 image_dir_path 변수를 출력해보면 '/home/aiffel/Exploration_01_rock_scissor_paper/train_dataset_total/*' 이다.\n",
    "### 제공한 데이터 디렉토리를 살펴보면 train_dataset_total 폴더 안에 19개 폴더가 있고 각 폴더에는 'rock', 'scissor', 'paper'폴더가 있다. 위 경로의 마지막을 보면 'train_dataset_total/'*''에 별표(*)가 있다. 별표는 모든 파일과 폴더를 의미한다.\n",
    "### 즉, train_dataset_total 폴더 안의 모든 파일과 폴더를 가리키는 의미입니다.\n",
    "### 만약 train_dataset_total/*/rock 이라는 경로라면 train_dataset_total 안의 rock이라는 모든 폴더를 가리키는 의미.\n",
    "### <span style=\"color:red\">우리가 원하는 것은 가위,바위,보 모든 사진을 불러오는 것이기 때문에 'train_dataset_total/*' 을 사용해 모든 사진을 불러오면 된다. (참고...resize가 안 된 사진이 있어 제가 resize 한 데이터입니다. 하지만 resize를 구현하는 코드도 궁금하시면 적어볼게요)"
   ]
  },
  {
   "cell_type": "code",
   "execution_count": 3,
   "metadata": {},
   "outputs": [
    {
     "name": "stdout",
     "output_type": "stream",
     "text": [
      "이미지 개수는 15000 입니다.\n",
      "/home/aiffel/Exploration_01_rock_scissor_paper/train_dataset_total/*\n",
      "x_train shape: (15000, 28, 28, 3)\n",
      "y_train shape: (15000,)\n"
     ]
    }
   ],
   "source": [
    "image_dir_path = os.getenv(\"HOME\") + \"/[E_01]Rock_Scissor_Paper/train_dataset_total/*\"\n",
    "(x_train, y_train)=load_data(image_dir_path)\n",
    "x_train_norm = x_train/255.0   # 입력은 0~1 사이의 값으로 정규화\n",
    "print(image_dir_path)\n",
    "print(\"x_train shape: {}\".format(x_train.shape))\n",
    "print(\"y_train shape: {}\".format(y_train.shape))"
   ]
  },
  {
   "cell_type": "markdown",
   "metadata": {},
   "source": [
    "# 3. 사진 및 라벨 확인"
   ]
  },
  {
   "cell_type": "code",
   "execution_count": 4,
   "metadata": {},
   "outputs": [
    {
     "name": "stdout",
     "output_type": "stream",
     "text": [
      "라벨:  0\n"
     ]
    },
    {
     "data": {
      "image/png": "[encoded data removed]",
      "text/plain": [
       "<Figure size 432x288 with 1 Axes>"
      ]
     },
     "metadata": {
      "needs_background": "light"
     },
     "output_type": "display_data"
    }
   ],
   "source": [
    "plt.imshow(x_train[100])      # 사진확인\n",
    "print('라벨: ', y_train[100]) # 라벨확인"
   ]
  },
  {
   "cell_type": "markdown",
   "metadata": {},
   "source": [
    "# 4. 딥너링 설계\n",
    "## 아래 코드의 2~5번 줄의 변수는 스스로 설정하기!"
   ]
  },
  {
   "cell_type": "code",
   "execution_count": 5,
   "metadata": {
    "collapsed": true
   },
   "outputs": [
    {
     "ename": "SyntaxError",
     "evalue": "invalid syntax (<ipython-input-5-28a0e19facec>, line 2)",
     "output_type": "error",
     "traceback": [
      "\u001b[0;36m  File \u001b[0;32m\"<ipython-input-5-28a0e19facec>\"\u001b[0;36m, line \u001b[0;32m2\u001b[0m\n\u001b[0;31m    n_channel_1=??\u001b[0m\n\u001b[0m                ^\u001b[0m\n\u001b[0;31mSyntaxError\u001b[0m\u001b[0;31m:\u001b[0m invalid syntax\n"
     ]
    }
   ],
   "source": [
    "# 변경가능한 파라미터들 (훈련을 실행하면서 변경을 통해 정확도 상승시킬 필요 있음)\n",
    "n_channel_1=??\n",
    "n_channel_2=??\n",
    "n_dense=??\n",
    "n_train_epoch=??\n",
    "\n",
    "model=keras.models.Sequential()\n",
    "model.add(keras.layers.Conv2D(n_channel_1, (3,3), activation='relu', input_shape=(28,28,3)))\n",
    "model.add(keras.layers.MaxPool2D(2,2))\n",
    "model.add(keras.layers.Conv2D(n_channel_2, (3,3), activation='relu'))\n",
    "model.add(keras.layers.MaxPooling2D((2,2)))\n",
    "model.add(keras.layers.Flatten())\n",
    "model.add(keras.layers.Dense(n_dense, activation='relu'))\n",
    "model.add(keras.layers.Dense(3, activation='softmax'))\n",
    "\n",
    "model.summary()"
   ]
  },
  {
   "cell_type": "markdown",
   "metadata": {},
   "source": [
    "# 5. 딥러닝 훈련"
   ]
  },
  {
   "cell_type": "code",
   "execution_count": null,
   "metadata": {},
   "outputs": [],
   "source": [
    "model.compile(optimizer='adam',\n",
    "             loss='sparse_categorical_crossentropy',\n",
    "             metrics=['accuracy'])\n",
    "\n",
    "# 모델 훈련\n",
    "model.fit(x_train, y_train, epochs=n_train_epoch)"
   ]
  },
  {
   "cell_type": "markdown",
   "metadata": {},
   "source": [
    "# 6. 평가하기"
   ]
  },
  {
   "cell_type": "markdown",
   "metadata": {},
   "source": [
    "## 먼저 test 데이터를 불러온다.\n",
    "### 2번 라인의 image_dir_path_test의 경우 test데이터가 들어있는 디렉토리 경로를 설정해준다."
   ]
  },
  {
   "cell_type": "code",
   "execution_count": 6,
   "metadata": {},
   "outputs": [
    {
     "name": "stdout",
     "output_type": "stream",
     "text": [
      "이미지 개수는 300 입니다.\n",
      "/home/aiffel/Exploration_01_rock_scissor_paper/test_dataset\n",
      "x_test shape: (300, 28, 28, 3)\n",
      "y_test shape: (300,)\n"
     ]
    }
   ],
   "source": [
    "# x_test, y_test를 만드는 방법은 x_train, y_train을 만드는 방법과 아주 유사합니다.\n",
    "image_dir_path_test = os.getenv(\"HOME\") + \"/[E_01]Rock_Scissor_Paper/test_dataset\" # 테스트 셋이 있는 경로로 수정하자!\n",
    "(x_test, y_test)=load_data(image_dir_path_test)\n",
    "\n",
    "print(image_dir_path_test)\n",
    "print(\"x_test shape: {}\".format(x_test.shape))\n",
    "print(\"y_test shape: {}\".format(y_test.shape))"
   ]
  },
  {
   "cell_type": "code",
   "execution_count": null,
   "metadata": {},
   "outputs": [],
   "source": [
    "test_loss, test_accuracy = model.evaluate(x_test, y_test, verbose=2)\n",
    "print(\"test_loss: {} \".format(test_loss))\n",
    "print(\"test_accuracy: {}\".format(test_accuracy))"
   ]
  },
  {
   "cell_type": "markdown",
   "metadata": {},
   "source": [
    "## 7. 기타\n",
    "### 혹시 이상이 생기면 1_와글와글_대전 slack에 태그해 주시면 감사하겠습니다!"
   ]
  }
 ],
 "metadata": {
  "kernelspec": {
   "display_name": "aiffel",
   "language": "python",
   "name": "aiffel"
  },
  "language_info": {
   "codemirror_mode": {
    "name": "ipython",
    "version": 3
   },
   "file_extension": ".py",
   "mimetype": "text/x-python",
   "name": "python",
   "nbconvert_exporter": "python",
   "pygments_lexer": "ipython3",
   "version": "3.7.9"
  }
 },
 "nbformat": 4,
 "nbformat_minor": 4
}
