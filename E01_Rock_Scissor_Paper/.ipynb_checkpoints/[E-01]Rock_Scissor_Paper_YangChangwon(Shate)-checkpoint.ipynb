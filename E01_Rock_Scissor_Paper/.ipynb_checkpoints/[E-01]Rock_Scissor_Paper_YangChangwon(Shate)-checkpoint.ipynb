{
 "cells": [
  {
   "cell_type": "markdown",
   "metadata": {},
   "source": [
    "# 모듈 불러오기"
   ]
  },
  {
   "cell_type": "code",
   "execution_count": 1,
   "metadata": {},
   "outputs": [
    {
     "name": "stdout",
     "output_type": "stream",
     "text": [
      "Requirement already satisfied: pillow in /home/aiffel/anaconda3/envs/aiffel/lib/python3.7/site-packages (8.0.1)\r\n"
     ]
    }
   ],
   "source": [
    "!pip install pillow   \n",
    "import tensorflow as tf\n",
    "from tensorflow import keras\n",
    "import numpy as np\n",
    "import matplotlib.pyplot as plt\n",
    "from PIL import Image\n",
    "import os, glob"
   ]
  },
  {
   "cell_type": "markdown",
   "metadata": {},
   "source": [
    "# 1. 함수정의\n",
    "\n",
    "## <span style=\"color:red\">★데이터 분류를 먼저 해야함!★</span>\n",
    "### 3번 number_of_data=15000 (데이터 총 개수가 15,000개이다. 하지만 필요시 변경해야 한다.)\n",
    "### <span style=\"color:red\">참고!! 전체 데이터 셋 15000개 중 테스트셋을 미리 따로 분류해 놓는다. 필수!! data1~18중 하나를 하면 편리할 것이다.</span>\n",
    "### <span style=\"color:red\">예를 들면 가위,바위,보 각각 100개씩 300개를 테스트셋으로 빼서 14,700개만 훈련셋으로 사용한다.</span>\n",
    "## 아래 함수는 기존에 제공된 함수를 조금 수정했다.\n",
    "### number_of_data 변수를 자동으로 이미지 개수 총합을 세주는 것으로 변경했다."
   ]
  },
  {
   "cell_type": "code",
   "execution_count": 2,
   "metadata": {},
   "outputs": [],
   "source": [
    "def load_data(img_path):\n",
    "    # 가위 : 0, 바위 : 1, 보 : 2\n",
    "    \n",
    "    number_of_data = 0 \n",
    "    for file in glob.iglob(img_path+'/rock/*.jpg'):\n",
    "        number_of_data+=1\n",
    "    for file in glob.iglob(img_path+'/scissor/*.jpg'):\n",
    "        number_of_data+=1\n",
    "    for file in glob.iglob(img_path+'/paper/*.jpg'):\n",
    "        number_of_data+=1\n",
    "    # 위 반복문을 실행하면 전체 이미지 파일 개수를 알 수 있다. \n",
    "    \n",
    "    img_size=28\n",
    "    color=3\n",
    "    #이미지 데이터와 라벨(가위 : 0, 바위 : 1, 보 : 2) 데이터를 담을 행렬(matrix) 영역을 생성합니다.\n",
    "    imgs=np.zeros(number_of_data*img_size*img_size*color,dtype=np.int32).reshape(number_of_data,img_size,img_size,color)\n",
    "    labels=np.zeros(number_of_data,dtype=np.int32)\n",
    "\n",
    "    idx=0\n",
    "    for file in glob.iglob(img_path+'/scissor/*.jpg'):\n",
    "        img = np.array(Image.open(file),dtype=np.int32)\n",
    "        imgs[idx,:,:,:]=img    # 데이터 영역에 이미지 행렬을 복사\n",
    "        labels[idx]=0   # 가위 : 0\n",
    "        idx=idx+1\n",
    "\n",
    "    for file in glob.iglob(img_path+'/rock/*.jpg'):\n",
    "        img = np.array(Image.open(file),dtype=np.int32)\n",
    "        imgs[idx,:,:,:]=img    # 데이터 영역에 이미지 행렬을 복사\n",
    "        labels[idx]=1   # 바위 : 1\n",
    "        idx=idx+1       \n",
    "    \n",
    "    for file in glob.iglob(img_path+'/paper/*.jpg'):\n",
    "        img = np.array(Image.open(file),dtype=np.int32)\n",
    "        imgs[idx,:,:,:]=img    # 데이터 영역에 이미지 행렬을 복사\n",
    "        labels[idx]=2   # 보 : 2\n",
    "        idx=idx+1\n",
    "        \n",
    "    print(\"이미지 개수는\",idx,\"입니다.\")\n",
    "    return imgs, labels"
   ]
  },
  {
   "cell_type": "markdown",
   "metadata": {},
   "source": [
    "# 2. 데이터 불러오기\n",
    "## 변경부분은 아래와 같다.\n",
    "### 아래 코드의 1번 줄 image_dir_path 변수를 출력해보면 '/home/aiffel/Exploration_01_rock_scissor_paper/train_dataset_total/*' 이다.\n",
    "### 제공한 데이터 디렉토리를 살펴보면 train_dataset_total 폴더 안에 19개 폴더가 있고 각 폴더에는 'rock', 'scissor', 'paper'폴더가 있다. 위 경로의 마지막을 보면 'train_dataset_total/'*''에 별표(*)가 있다. 별표는 모든 파일과 폴더를 의미한다.\n",
    "### 즉, train_dataset_total 폴더 안의 모든 파일과 폴더를 가리키는 의미입니다.\n",
    "### 만약 train_dataset_total/*/rock 이라는 경로라면 train_dataset_total 안의 rock이라는 모든 폴더를 가리키는 의미.\n",
    "### <span style=\"color:red\">우리가 원하는 것은 가위,바위,보 모든 사진을 불러오는 것이기 때문에 'train_dataset_total/*' 을 사용해 모든 사진을 불러오면 된다. (참고...resize가 안 된 사진이 있어 제가 resize 한 데이터입니다. 하지만 resize를 구현하는 코드도 궁금하시면 적어볼게요)"
   ]
  },
  {
   "cell_type": "code",
   "execution_count": 3,
   "metadata": {},
   "outputs": [
    {
     "name": "stdout",
     "output_type": "stream",
     "text": [
      "이미지 개수는 15000 입니다.\n",
      "/home/aiffel/Exploration_01_rock_scissor_paper/train_dataset_total/*\n",
      "x_train shape: (15000, 28, 28, 3)\n",
      "y_train shape: (15000,)\n"
     ]
    }
   ],
   "source": [
    "image_dir_path = os.getenv(\"HOME\") + \"/[E_01]Rock_Scissor_Paper/train_dataset_total/*\"\n",
    "(x_train, y_train)=load_data(image_dir_path)\n",
    "x_train_norm = x_train/255.0   # 입력은 0~1 사이의 값으로 정규화\n",
    "print(image_dir_path)\n",
    "print(\"x_train shape: {}\".format(x_train.shape))\n",
    "print(\"y_train shape: {}\".format(y_train.shape))"
   ]
  },
  {
   "cell_type": "markdown",
   "metadata": {},
   "source": [
    "## 3. 기타\n",
    "### 혹시 이상이 생기면 1_와글와글_대전 slack에 태그해 주시면 감사하겠습니다!"
   ]
  }
 ],
 "metadata": {
  "kernelspec": {
   "display_name": "aiffel",
   "language": "python",
   "name": "aiffel"
  },
  "language_info": {
   "codemirror_mode": {
    "name": "ipython",
    "version": 3
   },
   "file_extension": ".py",
   "mimetype": "text/x-python",
   "name": "python",
   "nbconvert_exporter": "python",
   "pygments_lexer": "ipython3",
   "version": "3.7.9"
  }
 },
 "nbformat": 4,
 "nbformat_minor": 4
}
