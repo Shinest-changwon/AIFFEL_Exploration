{
 "cells": [
  {
   "cell_type": "code",
   "execution_count": 1,
   "metadata": {},
   "outputs": [
    {
     "name": "stdout",
     "output_type": "stream",
     "text": [
      "Requirement already satisfied: pillow in /home/aiffel/anaconda3/envs/aiffel/lib/python3.7/site-packages (8.0.1)\r\n"
     ]
    }
   ],
   "source": [
    "# 필요한 라이브러리 호출\n",
    "!pip install pillow   \n",
    "import tensorflow as tf\n",
    "from tensorflow import keras\n",
    "import numpy as np\n",
    "import matplotlib.pyplot as plt\n",
    "from PIL import Image\n",
    "import os, glob"
   ]
  },
  {
   "cell_type": "markdown",
   "metadata": {},
   "source": [
    "# 1. 데이터 불러오기"
   ]
  },
  {
   "cell_type": "markdown",
   "metadata": {},
   "source": [
    "## 1-1. 가위 이미지 불러오기\n",
    "### 이미지를 불러오는 방법은 os 모듈을 활용해 로컬 경로를 지정해 image_dir_path에 저장\n",
    "### 그 후 glob 모듈을 이용해 하위에 있는 모든 jpg파일을 불러온다.\n",
    "### 목표 이미지 크기(28,28)을 target_size에 설정한 후 반복문을 통해 모든 이미지 파일의 크기를 resize하고 저장한다.\n",
    "### 혹시나 원본을 사용해야할 수 있으니 백업을 해둔 후에 진행하자."
   ]
  },
  {
   "cell_type": "code",
   "execution_count": 2,
   "metadata": {},
   "outputs": [
    {
     "name": "stdout",
     "output_type": "stream",
     "text": [
      "이미지 디렉토리 경로:  /home/aiffel/E01_Rock_Scissor_Paper/train_ver1/scissor\n",
      "가위 이미지 resize 완료!\n"
     ]
    }
   ],
   "source": [
    "# 가위 이미지가 저장된 디렉토리 아래의 모든 jpg 파일을 읽어들여서\n",
    "image_dir_path = os.getenv(\"HOME\") + \"/E01_Rock_Scissor_Paper/train_ver1/scissor\"\n",
    "print(\"이미지 디렉토리 경로: \", image_dir_path)\n",
    "\n",
    "images=glob.glob(image_dir_path + \"/*.jpg\")  \n",
    "\n",
    "# 파일마다 모두 28x28 사이즈로 바꾸어 저장합니다.\n",
    "target_size=(28,28)\n",
    "for img in images:\n",
    "    old_img=Image.open(img)\n",
    "    new_img=old_img.resize(target_size,Image.ANTIALIAS)\n",
    "    new_img.save(img,\"JPEG\")\n",
    "\n",
    "print(\"가위 이미지 resize 완료!\")"
   ]
  },
  {
   "cell_type": "markdown",
   "metadata": {},
   "source": [
    "### *가위 이미지 사이즈 확인\n",
    "### Image 모듈을 이용해 이미지를 가져와 .size를 이용해 이미지의 크기를 알아낸다.\n",
    "### 위에서 resize가 잘 되고 save가 잘 되어 (28,28)로 변경한 것을 확인할 수 있다.\n",
    "### 나머지 바위와 보도 같은 방식으로 진행, 확인해준다."
   ]
  },
  {
   "cell_type": "code",
   "execution_count": 3,
   "metadata": {},
   "outputs": [
    {
     "name": "stdout",
     "output_type": "stream",
     "text": [
      "가위 이미지의 크기는:  (28, 28)\n"
     ]
    }
   ],
   "source": [
    "scissor_image_0 = Image.open(images[0])\n",
    "print('가위 이미지의 크기는: ', scissor_image_0.size) # (28, 28)로 변한 것을 확인!"
   ]
  },
  {
   "cell_type": "markdown",
   "metadata": {},
   "source": [
    "## 1-2. 바위 이미지 불러오기"
   ]
  },
  {
   "cell_type": "code",
   "execution_count": 4,
   "metadata": {},
   "outputs": [
    {
     "name": "stdout",
     "output_type": "stream",
     "text": [
      "이미지 디렉토리 경로:  /home/aiffel/E01_Rock_Scissor_Paper/train_ver1/rock\n",
      "바위 이미지 resize 완료!\n"
     ]
    }
   ],
   "source": [
    "# 바위 이미지가 저장된 디렉토리 아래의 모든 jpg 파일을 읽어들여서\n",
    "image_dir_path = os.getenv(\"HOME\") + \"/E01_Rock_Scissor_Paper/train_ver1/rock\"\n",
    "images=glob.glob(image_dir_path + \"/*.jpg\") \n",
    "print(\"이미지 디렉토리 경로: \", image_dir_path)\n",
    "\n",
    "# 파일마다 모두 28x28 사이즈로 바꾸어 저장합니다.\n",
    "target_size=(28,28)\n",
    "for img in images:\n",
    "    old_img=Image.open(img)\n",
    "    new_img=old_img.resize(target_size,Image.ANTIALIAS)\n",
    "    new_img.save(img,\"JPEG\")\n",
    "\n",
    "print(\"바위 이미지 resize 완료!\")"
   ]
  },
  {
   "cell_type": "markdown",
   "metadata": {},
   "source": [
    "### *바위 이미지 사이즈 확인"
   ]
  },
  {
   "cell_type": "code",
   "execution_count": 5,
   "metadata": {},
   "outputs": [
    {
     "name": "stdout",
     "output_type": "stream",
     "text": [
      "바위 이미지의 크기는:  (28, 28)\n"
     ]
    }
   ],
   "source": [
    "rock_image_0 = Image.open(images[0])\n",
    "print('바위 이미지의 크기는: ', rock_image_0.size) # (28, 28)로 변한 것을 확인!"
   ]
  },
  {
   "cell_type": "markdown",
   "metadata": {},
   "source": [
    "## 1-3. 보 이미지 불러오기"
   ]
  },
  {
   "cell_type": "code",
   "execution_count": 6,
   "metadata": {},
   "outputs": [
    {
     "name": "stdout",
     "output_type": "stream",
     "text": [
      "이미지 디렉토리 경로:  /home/aiffel/E01_Rock_Scissor_Paper/train_ver1/paper\n",
      "보 이미지 resize 완료!\n"
     ]
    }
   ],
   "source": [
    "# 보 이미지가 저장된 디렉토리 아래의 모든 jpg 파일을 읽어들여서\n",
    "image_dir_path = os.getenv(\"HOME\") + \"/E01_Rock_Scissor_Paper/train_ver1/paper\"\n",
    "images=glob.glob(image_dir_path + \"/*.jpg\") \n",
    "print(\"이미지 디렉토리 경로: \", image_dir_path)\n",
    "\n",
    "# 파일마다 모두 28x28 사이즈로 바꾸어 저장합니다.\n",
    "target_size=(28,28)\n",
    "for img in images:\n",
    "    old_img=Image.open(img)\n",
    "    new_img=old_img.resize(target_size,Image.ANTIALIAS)\n",
    "    new_img.save(img,\"JPEG\")\n",
    "\n",
    "print(\"보 이미지 resize 완료!\")"
   ]
  },
  {
   "cell_type": "markdown",
   "metadata": {},
   "source": [
    "### *보 이미지 사이즈 확인"
   ]
  },
  {
   "cell_type": "code",
   "execution_count": 7,
   "metadata": {},
   "outputs": [
    {
     "name": "stdout",
     "output_type": "stream",
     "text": [
      "보 이미지의 크기는:  (28, 28)\n"
     ]
    }
   ],
   "source": [
    "paper_image_0 = Image.open(images[0])\n",
    "print('보 이미지의 크기는: ', paper_image_0.size) # (28, 28)로 변한 것을 확인!"
   ]
  },
  {
   "cell_type": "markdown",
   "metadata": {},
   "source": [
    "## 1-4. 데이터 불러오는 함수 생성"
   ]
  },
  {
   "cell_type": "markdown",
   "metadata": {},
   "source": [
    "### load_data 함수를 이용해 가위, 바위, 보 이미지 데이터를 읽어 오고 클래스 할당(0: 가위, 1: 바위, 2: 보)   \n",
    "### 훈련 데이터를 지정해 정규화 시켜준다. (x_train, y_train 구분 및 255로 나누어 정규화)\n",
    "### x_train(훈련 이미지 셋)과 y_train(훈련 라벨)의 shape를 보면 300개, (28,28)의 크기, 3채널(RGB)임을 알 수 있다."
   ]
  },
  {
   "cell_type": "code",
   "execution_count": 8,
   "metadata": {},
   "outputs": [],
   "source": [
    "def load_data(img_path):\n",
    "    # 가위 : 0, 바위 : 1, 보 : 2\n",
    "    \n",
    "    number_of_data = 0 \n",
    "    for file in glob.iglob(img_path+'/rock/*.jpg'):\n",
    "        number_of_data+=1\n",
    "    for file in glob.iglob(img_path+'/scissor/*.jpg'):\n",
    "        number_of_data+=1\n",
    "    for file in glob.iglob(img_path+'/paper/*.jpg'):\n",
    "        number_of_data+=1\n",
    "    # 위 반복문을 실행하면 전체 이미지 파일 개수를 알 수 있다. \n",
    "    \n",
    "    paper_images = glob.glob(img_path + \"/paper/*.jpg\")\n",
    "    img_size = Image.open(paper_images[0]).size[0]\n",
    "    \n",
    "    color=3\n",
    "    #이미지 데이터와 라벨(가위 : 0, 바위 : 1, 보 : 2) 데이터를 담을 행렬(matrix) 영역을 생성합니다.\n",
    "    imgs=np.zeros(number_of_data*img_size*img_size*color,dtype=np.int32).reshape(number_of_data,img_size,img_size,color)\n",
    "    labels=np.zeros(number_of_data,dtype=np.int32)\n",
    "\n",
    "    idx=0\n",
    "    for file in glob.iglob(img_path+'/scissor/*.jpg'):\n",
    "        img = np.array(Image.open(file),dtype=np.int32)\n",
    "        imgs[idx,:,:,:]=img    # 데이터 영역에 이미지 행렬을 복사\n",
    "        labels[idx]=0   # 가위 : 0\n",
    "        idx=idx+1\n",
    "\n",
    "    for file in glob.iglob(img_path+'/rock/*.jpg'):\n",
    "        img = np.array(Image.open(file),dtype=np.int32)\n",
    "        imgs[idx,:,:,:]=img    # 데이터 영역에 이미지 행렬을 복사\n",
    "        labels[idx]=1   # 바위 : 1\n",
    "        idx=idx+1       \n",
    "    \n",
    "    for file in glob.iglob(img_path+'/paper/*.jpg'):\n",
    "        img = np.array(Image.open(file),dtype=np.int32)\n",
    "        imgs[idx,:,:,:]=img    # 데이터 영역에 이미지 행렬을 복사\n",
    "        labels[idx]=2   # 보 : 2\n",
    "        idx=idx+1\n",
    "        \n",
    "    print(\"이미지 개수는\",idx,\"입니다.\")\n",
    "    return imgs, labels"
   ]
  },
  {
   "cell_type": "code",
   "execution_count": 9,
   "metadata": {},
   "outputs": [
    {
     "name": "stdout",
     "output_type": "stream",
     "text": [
      "이미지 개수는 300 입니다.\n",
      "x_train shape: (300, 28, 28, 3)\n",
      "y_train shape: (300,)\n"
     ]
    }
   ],
   "source": [
    "image_dir_path = os.getenv(\"HOME\") + \"/E01_Rock_Scissor_Paper/train_ver1\"\n",
    "(x_train, y_train)=load_data(image_dir_path)\n",
    "x_train_norm = x_train/255.0   # 입력은 0~1 사이의 값으로 정규화\n",
    "\n",
    "print(\"x_train shape: {}\".format(x_train.shape))\n",
    "print(\"y_train shape: {}\".format(y_train.shape))"
   ]
  },
  {
   "cell_type": "markdown",
   "metadata": {},
   "source": [
    "### *이미지, 라벨 확인\n",
    "### 50번의 이미지(가위) 와 라벨 0 확인"
   ]
  },
  {
   "cell_type": "code",
   "execution_count": 10,
   "metadata": {},
   "outputs": [
    {
     "name": "stdout",
     "output_type": "stream",
     "text": [
      "라벨:  0\n"
     ]
    },
    {
     "data": {
      "image/png": "[encoded data removed]",
      "text/plain": [
       "<Figure size 432x288 with 1 Axes>"
      ]
     },
     "metadata": {
      "needs_background": "light"
     },
     "output_type": "display_data"
    }
   ],
   "source": [
    "plt.imshow(x_train[50])      # 50번 = 가위 사진\n",
    "print('라벨: ', y_train[50]) # 라벨:0 (가위)"
   ]
  },
  {
   "cell_type": "markdown",
   "metadata": {},
   "source": [
    "# 2. 딥러닝 네트워크 설계하기\n",
    "### 채널의 수는 사용하는 이미지의 특성 수이다. 2의 n승으로 구성하는 것이 좋으며 복잡할수록 숫자를 키워야 한다.\n",
    "### 첫 번째 dense의 경우 분류기에 사용되는 뉴런의 숫자이다. 이 값이 클수록 복잡한 분류기를 만들 수 있다.\n",
    "### 파라미터는 아래와 같다.\n",
    "#### n_channel_1=32\n",
    "#### n_channel_2=64\n",
    "#### n_dense=3\n",
    "#### n_train_epoch=20"
   ]
  },
  {
   "cell_type": "code",
   "execution_count": 11,
   "metadata": {},
   "outputs": [
    {
     "name": "stdout",
     "output_type": "stream",
     "text": [
      "Model: \"sequential\"\n",
      "_________________________________________________________________\n",
      "Layer (type)                 Output Shape              Param #   \n",
      "=================================================================\n",
      "conv2d (Conv2D)              (None, 26, 26, 32)        896       \n",
      "_________________________________________________________________\n",
      "max_pooling2d (MaxPooling2D) (None, 13, 13, 32)        0         \n",
      "_________________________________________________________________\n",
      "conv2d_1 (Conv2D)            (None, 11, 11, 64)        18496     \n",
      "_________________________________________________________________\n",
      "max_pooling2d_1 (MaxPooling2 (None, 5, 5, 64)          0         \n",
      "_________________________________________________________________\n",
      "flatten (Flatten)            (None, 1600)              0         \n",
      "_________________________________________________________________\n",
      "dense (Dense)                (None, 3)                 4803      \n",
      "_________________________________________________________________\n",
      "dense_1 (Dense)              (None, 3)                 12        \n",
      "=================================================================\n",
      "Total params: 24,207\n",
      "Trainable params: 24,207\n",
      "Non-trainable params: 0\n",
      "_________________________________________________________________\n"
     ]
    }
   ],
   "source": [
    "# 변경가능한 파라미터들 (훈련을 실행하면서 변경을 통해 정확도 상승시킬 필요 있음)\n",
    "n_channel_1=32\n",
    "n_channel_2=64\n",
    "n_dense=3\n",
    "n_train_epoch=20\n",
    "\n",
    "model=keras.models.Sequential()\n",
    "model.add(keras.layers.Conv2D(n_channel_1, (3,3), activation='relu', input_shape=(28,28,3)))\n",
    "model.add(keras.layers.MaxPool2D(2,2))\n",
    "model.add(keras.layers.Conv2D(n_channel_2, (3,3), activation='relu'))\n",
    "model.add(keras.layers.MaxPooling2D((2,2)))\n",
    "model.add(keras.layers.Flatten())\n",
    "model.add(keras.layers.Dense(n_dense, activation='relu'))\n",
    "model.add(keras.layers.Dense(3, activation='softmax'))\n",
    "\n",
    "model.summary()"
   ]
  },
  {
   "cell_type": "markdown",
   "metadata": {},
   "source": [
    "# 3. 딥러닝 네트워크 학습시키기"
   ]
  },
  {
   "cell_type": "code",
   "execution_count": 12,
   "metadata": {},
   "outputs": [
    {
     "name": "stdout",
     "output_type": "stream",
     "text": [
      "Epoch 1/20\n",
      "10/10 [==============================] - 0s 4ms/step - loss: 1.8292 - accuracy: 0.3433\n",
      "Epoch 2/20\n",
      "10/10 [==============================] - 0s 4ms/step - loss: 1.0987 - accuracy: 0.3333\n",
      "Epoch 3/20\n",
      "10/10 [==============================] - 0s 4ms/step - loss: 1.0986 - accuracy: 0.3333\n",
      "Epoch 4/20\n",
      "10/10 [==============================] - 0s 4ms/step - loss: 1.0986 - accuracy: 0.3333\n",
      "Epoch 5/20\n",
      "10/10 [==============================] - 0s 4ms/step - loss: 1.0986 - accuracy: 0.3333\n",
      "Epoch 6/20\n",
      "10/10 [==============================] - 0s 4ms/step - loss: 1.0986 - accuracy: 0.3333\n",
      "Epoch 7/20\n",
      "10/10 [==============================] - 0s 4ms/step - loss: 1.0987 - accuracy: 0.3333\n",
      "Epoch 8/20\n",
      "10/10 [==============================] - 0s 4ms/step - loss: 1.0986 - accuracy: 0.3333\n",
      "Epoch 9/20\n",
      "10/10 [==============================] - 0s 4ms/step - loss: 1.0986 - accuracy: 0.3333\n",
      "Epoch 10/20\n",
      "10/10 [==============================] - 0s 4ms/step - loss: 1.0987 - accuracy: 0.3333\n",
      "Epoch 11/20\n",
      "10/10 [==============================] - 0s 4ms/step - loss: 1.0986 - accuracy: 0.3333\n",
      "Epoch 12/20\n",
      "10/10 [==============================] - 0s 4ms/step - loss: 1.0986 - accuracy: 0.3333\n",
      "Epoch 13/20\n",
      "10/10 [==============================] - 0s 4ms/step - loss: 1.0986 - accuracy: 0.3200\n",
      "Epoch 14/20\n",
      "10/10 [==============================] - 0s 4ms/step - loss: 1.0986 - accuracy: 0.3333\n",
      "Epoch 15/20\n",
      "10/10 [==============================] - 0s 4ms/step - loss: 1.0986 - accuracy: 0.3333\n",
      "Epoch 16/20\n",
      "10/10 [==============================] - 0s 4ms/step - loss: 1.0986 - accuracy: 0.3333\n",
      "Epoch 17/20\n",
      "10/10 [==============================] - 0s 4ms/step - loss: 1.0986 - accuracy: 0.3333\n",
      "Epoch 18/20\n",
      "10/10 [==============================] - 0s 4ms/step - loss: 1.0987 - accuracy: 0.3333\n",
      "Epoch 19/20\n",
      "10/10 [==============================] - 0s 4ms/step - loss: 1.0987 - accuracy: 0.3333\n",
      "Epoch 20/20\n",
      "10/10 [==============================] - 0s 4ms/step - loss: 1.0987 - accuracy: 0.3333\n"
     ]
    },
    {
     "data": {
      "text/plain": [
       "<tensorflow.python.keras.callbacks.History at 0x7f1a641fa650>"
      ]
     },
     "execution_count": 12,
     "metadata": {},
     "output_type": "execute_result"
    }
   ],
   "source": [
    "model.compile(optimizer='adam',\n",
    "             loss='sparse_categorical_crossentropy',\n",
    "             metrics=['accuracy'])\n",
    "\n",
    "# 모델 훈련\n",
    "model.fit(x_train, y_train, epochs=n_train_epoch)"
   ]
  },
  {
   "cell_type": "markdown",
   "metadata": {},
   "source": [
    "### <span style = \"color:red\">>> 학습결과: 정확도 = 0.3333 (개선 필요!!) </span>"
   ]
  },
  {
   "cell_type": "markdown",
   "metadata": {},
   "source": [
    "# 4. 테스트 하기"
   ]
  },
  {
   "cell_type": "markdown",
   "metadata": {},
   "source": [
    "## 4-1. 테스트 데이터 불러오기"
   ]
  },
  {
   "cell_type": "code",
   "execution_count": 13,
   "metadata": {},
   "outputs": [
    {
     "name": "stdout",
     "output_type": "stream",
     "text": [
      "이미지 개수는 300 입니다.\n",
      "x_test shape: (300, 28, 28, 3)\n",
      "y_test shape: (300,)\n"
     ]
    }
   ],
   "source": [
    "# x_test, y_test를 만드는 방법은 x_train, y_train을 만드는 방법과 아주 유사합니다.\n",
    "image_dir_path_test = os.getenv(\"HOME\") + \"/E01_Rock_Scissor_Paper/test_dataset\"\n",
    "(x_test, y_test)=load_data(image_dir_path_test)\n",
    "x_train_norm = x_train/255.0   # 입력은 0~1 사이의 값으로 정규화\n",
    "\n",
    "print(\"x_test shape: {}\".format(x_test.shape))\n",
    "print(\"y_test shape: {}\".format(y_test.shape))"
   ]
  },
  {
   "cell_type": "markdown",
   "metadata": {},
   "source": [
    "## 4-2. 평가하기"
   ]
  },
  {
   "cell_type": "code",
   "execution_count": 14,
   "metadata": {},
   "outputs": [
    {
     "name": "stdout",
     "output_type": "stream",
     "text": [
      "10/10 - 0s - loss: 1.8058 - accuracy: 0.3333\n",
      "test_loss: 1.8057645559310913 \n",
      "test_accuracy: 0.3333333432674408\n"
     ]
    }
   ],
   "source": [
    "test_loss, test_accuracy = model.evaluate(x_test, y_test, verbose=2)\n",
    "print(\"test_loss: {} \".format(test_loss))\n",
    "print(\"test_accuracy: {}\".format(test_accuracy))"
   ]
  },
  {
   "cell_type": "markdown",
   "metadata": {},
   "source": [
    "## <span style = \"color:red\">>> 평가 결과 정확도 0.3333 (개선필요) </span>\n",
    "## <span style = \"color:red\">>> 개선 방법 고려 후 적용 시도</span>"
   ]
  },
  {
   "cell_type": "markdown",
   "metadata": {},
   "source": [
    "# 5. 개선하기\n",
    "## ~~<첫 번째 방법: 데이터 변경>~~\n",
    "### ~~아무래도 조명과 배경이 문제라고 판단. 손의 모양이 잘 나올 수 있는 각도록 이미지 촬영 실행~~\n",
    "## ~~<두 번째 방법: 사이즈 조정>~~\n",
    "### ~~위에서는 28x28로 줄여서 진행하다보니 이미지 크기가 너무 작았던 것 같음~~\n",
    "### <span style=\"color:red\"> >> 첫 번째, 두 번째 방법으로는 개선되지 않았음(5-1, 5-2 참고)</span>\n",
    "\n",
    "\n",
    "## <span style=\"color:blue\"> 세 번째 방법: 파라미터 변경 </span>\n",
    "### <span style=\"color:blue\"> 데이터의 문제가 아니라면 적절한 파라미터를 찾는 시도 </span>\n",
    "## <span style=\"color:blue\"> 네 번째 방법: 데이터 증가 & 파라미터 변경</span>\n",
    "### <span style=\"color:blue\"> 데이터를 증가시킨 후 파라미터를 변경하면서 적절한 성능 구현해보기 </span>"
   ]
  },
  {
   "cell_type": "markdown",
   "metadata": {},
   "source": [
    "## 5-1. 데이터 변경\n",
    "### 각 항목 코드의 실행은 위와 동일하므로 설명은 따로 적지 않겠다. (다른 부분만 간략하게 적을 예정)"
   ]
  },
  {
   "cell_type": "code",
   "execution_count": 15,
   "metadata": {},
   "outputs": [
    {
     "name": "stdout",
     "output_type": "stream",
     "text": [
      "이미지 디렉토리 경로:  /home/aiffel/E01_Rock_Scissor_Paper/train_ver2/scissor\n",
      "가위 이미지 resize 완료!\n",
      "가위 이미지의 크기는:  (28, 28)\n"
     ]
    }
   ],
   "source": [
    "# 가위 이미지가 저장된 디렉토리 아래의 모든 jpg 파일을 읽어들여서\n",
    "scissor_image_dir_path = os.getenv(\"HOME\") + \"/E01_Rock_Scissor_Paper/train_ver2/scissor\"\n",
    "print(\"이미지 디렉토리 경로: \", scissor_image_dir_path)\n",
    "\n",
    "scissor_images=glob.glob(image_dir_path + \"/*.jpg\")  \n",
    "\n",
    "# 파일마다 모두 28x28 사이즈로 바꾸어 저장합니다.\n",
    "target_size=(28,28)\n",
    "for img in images:\n",
    "    old_img=Image.open(img)\n",
    "    new_img=old_img.resize(target_size,Image.ANTIALIAS)\n",
    "    new_img.save(img,\"JPEG\")\n",
    "\n",
    "print(\"가위 이미지 resize 완료!\")\n",
    "scissor_image_0 = Image.open(images[0])\n",
    "print('가위 이미지의 크기는: ', scissor_image_0.size) # (28, 28)로 변한 것을 확인!"
   ]
  },
  {
   "cell_type": "code",
   "execution_count": 16,
   "metadata": {},
   "outputs": [
    {
     "name": "stdout",
     "output_type": "stream",
     "text": [
      "이미지 디렉토리 경로:  /home/aiffel/E01_Rock_Scissor_Paper/train_ver2/rock\n",
      "바위 이미지 resize 완료!\n",
      "바위 이미지의 크기는:  (28, 28)\n"
     ]
    }
   ],
   "source": [
    "# 바위 이미지가 저장된 디렉토리 아래의 모든 jpg 파일을 읽어들여서\n",
    "rock_image_dir_path = os.getenv(\"HOME\") + \"/E01_Rock_Scissor_Paper/train_ver2/rock\"\n",
    "rock_images=glob.glob(rock_image_dir_path + \"/*.jpg\") \n",
    "print(\"이미지 디렉토리 경로: \", rock_image_dir_path)\n",
    "\n",
    "# 파일마다 모두 28x28 사이즈로 바꾸어 저장합니다.\n",
    "target_size=(28,28)\n",
    "for img in images:\n",
    "    old_img=Image.open(img)\n",
    "    new_img=old_img.resize(target_size,Image.ANTIALIAS)\n",
    "    new_img.save(img,\"JPEG\")\n",
    "\n",
    "print(\"바위 이미지 resize 완료!\")\n",
    "rock_image_0 = Image.open(images[0])\n",
    "print('바위 이미지의 크기는: ', rock_image_0.size) # (28, 28)로 변한 것을 확인!"
   ]
  },
  {
   "cell_type": "code",
   "execution_count": 17,
   "metadata": {},
   "outputs": [
    {
     "name": "stdout",
     "output_type": "stream",
     "text": [
      "이미지 디렉토리 경로:  /home/aiffel/E01_Rock_Scissor_Paper/train_ver2/paper\n",
      "보 이미지 resize 완료!\n",
      "보 이미지의 크기는:  (28, 28)\n"
     ]
    }
   ],
   "source": [
    "# 보 이미지가 저장된 디렉토리 아래의 모든 jpg 파일을 읽어들여서\n",
    "paper_image_dir_path = os.getenv(\"HOME\") + \"/E01_Rock_Scissor_Paper/train_ver2/paper\"\n",
    "paper_images=glob.glob(paper_image_dir_path + \"/*.jpg\") \n",
    "print(\"이미지 디렉토리 경로: \", paper_image_dir_path)\n",
    "\n",
    "# 파일마다 모두 28x28 사이즈로 바꾸어 저장합니다.\n",
    "target_size=(28,28)\n",
    "for img in images:\n",
    "    old_img=Image.open(img)\n",
    "    new_img=old_img.resize(target_size,Image.ANTIALIAS)\n",
    "    new_img.save(img,\"JPEG\")\n",
    "\n",
    "print(\"보 이미지 resize 완료!\")\n",
    "paper_image_0 = Image.open(images[0])\n",
    "print('보 이미지의 크기는: ', paper_image_0.size) # (28, 28)로 변한 것을 확인!"
   ]
  },
  {
   "cell_type": "code",
   "execution_count": 18,
   "metadata": {},
   "outputs": [
    {
     "name": "stdout",
     "output_type": "stream",
     "text": [
      "이미지 개수는 300 입니다.\n",
      "x_train shape: (300, 28, 28, 3)\n",
      "y_train shape: (300,)\n"
     ]
    }
   ],
   "source": [
    "image_dir_path = os.getenv(\"HOME\") + \"/E01_Rock_Scissor_Paper/train_ver2\"\n",
    "(x_train, y_train)=load_data(image_dir_path)\n",
    "x_train_norm = x_train/255.0   # 입력은 0~1 사이의 값으로 정규화\n",
    "\n",
    "print(\"x_train shape: {}\".format(x_train.shape))\n",
    "print(\"y_train shape: {}\".format(y_train.shape))"
   ]
  },
  {
   "cell_type": "code",
   "execution_count": 19,
   "metadata": {},
   "outputs": [
    {
     "name": "stdout",
     "output_type": "stream",
     "text": [
      "라벨:  1\n"
     ]
    },
    {
     "data": {
      "image/png": "[encoded data removed]",
      "text/plain": [
       "<Figure size 432x288 with 1 Axes>"
      ]
     },
     "metadata": {
      "needs_background": "light"
     },
     "output_type": "display_data"
    }
   ],
   "source": [
    "plt.imshow(x_train[100])      # 100번 = 바위의 첫 번재 사진 출력\n",
    "print('라벨: ', y_train[100]) # 100번의 라벨 = 1:바위"
   ]
  },
  {
   "cell_type": "code",
   "execution_count": 20,
   "metadata": {},
   "outputs": [
    {
     "name": "stdout",
     "output_type": "stream",
     "text": [
      "Model: \"sequential_1\"\n",
      "_________________________________________________________________\n",
      "Layer (type)                 Output Shape              Param #   \n",
      "=================================================================\n",
      "conv2d_2 (Conv2D)            (None, 26, 26, 32)        896       \n",
      "_________________________________________________________________\n",
      "max_pooling2d_2 (MaxPooling2 (None, 13, 13, 32)        0         \n",
      "_________________________________________________________________\n",
      "conv2d_3 (Conv2D)            (None, 11, 11, 64)        18496     \n",
      "_________________________________________________________________\n",
      "max_pooling2d_3 (MaxPooling2 (None, 5, 5, 64)          0         \n",
      "_________________________________________________________________\n",
      "flatten_1 (Flatten)          (None, 1600)              0         \n",
      "_________________________________________________________________\n",
      "dense_2 (Dense)              (None, 3)                 4803      \n",
      "_________________________________________________________________\n",
      "dense_3 (Dense)              (None, 3)                 12        \n",
      "=================================================================\n",
      "Total params: 24,207\n",
      "Trainable params: 24,207\n",
      "Non-trainable params: 0\n",
      "_________________________________________________________________\n"
     ]
    }
   ],
   "source": [
    "# 변경가능한 파라미터들 (훈련을 실행하면서 변경을 통해 정확도 상승시킬 필요 있음)\n",
    "n_channel_1=32\n",
    "n_channel_2=64\n",
    "n_dense=3\n",
    "n_train_epoch=20\n",
    "\n",
    "model=keras.models.Sequential()\n",
    "model.add(keras.layers.Conv2D(n_channel_1, (3,3), activation='relu', input_shape=(28,28,3)))\n",
    "model.add(keras.layers.MaxPool2D(2,2))\n",
    "model.add(keras.layers.Conv2D(n_channel_2, (3,3), activation='relu'))\n",
    "model.add(keras.layers.MaxPooling2D((2,2)))\n",
    "model.add(keras.layers.Flatten())\n",
    "model.add(keras.layers.Dense(n_dense, activation='relu'))\n",
    "model.add(keras.layers.Dense(3, activation='softmax'))\n",
    "\n",
    "model.summary()"
   ]
  },
  {
   "cell_type": "code",
   "execution_count": 21,
   "metadata": {},
   "outputs": [
    {
     "name": "stdout",
     "output_type": "stream",
     "text": [
      "Epoch 1/20\n",
      "10/10 [==============================] - 0s 4ms/step - loss: 1.0987 - accuracy: 0.2967\n",
      "Epoch 2/20\n",
      "10/10 [==============================] - 0s 4ms/step - loss: 1.0987 - accuracy: 0.3333\n",
      "Epoch 3/20\n",
      "10/10 [==============================] - 0s 4ms/step - loss: 1.0986 - accuracy: 0.3333\n",
      "Epoch 4/20\n",
      "10/10 [==============================] - 0s 4ms/step - loss: 1.0986 - accuracy: 0.3333\n",
      "Epoch 5/20\n",
      "10/10 [==============================] - 0s 4ms/step - loss: 1.0987 - accuracy: 0.3333\n",
      "Epoch 6/20\n",
      "10/10 [==============================] - 0s 4ms/step - loss: 1.0986 - accuracy: 0.3333\n",
      "Epoch 7/20\n",
      "10/10 [==============================] - 0s 4ms/step - loss: 1.0986 - accuracy: 0.3333\n",
      "Epoch 8/20\n",
      "10/10 [==============================] - 0s 4ms/step - loss: 1.0986 - accuracy: 0.3333\n",
      "Epoch 9/20\n",
      "10/10 [==============================] - 0s 4ms/step - loss: 1.0987 - accuracy: 0.3400\n",
      "Epoch 10/20\n",
      "10/10 [==============================] - 0s 4ms/step - loss: 1.0987 - accuracy: 0.2933\n",
      "Epoch 11/20\n",
      "10/10 [==============================] - 0s 4ms/step - loss: 1.0986 - accuracy: 0.3333\n",
      "Epoch 12/20\n",
      "10/10 [==============================] - 0s 4ms/step - loss: 1.0987 - accuracy: 0.3333\n",
      "Epoch 13/20\n",
      "10/10 [==============================] - 0s 4ms/step - loss: 1.0986 - accuracy: 0.3333\n",
      "Epoch 14/20\n",
      "10/10 [==============================] - 0s 4ms/step - loss: 1.0986 - accuracy: 0.3333\n",
      "Epoch 15/20\n",
      "10/10 [==============================] - 0s 4ms/step - loss: 1.0987 - accuracy: 0.2867\n",
      "Epoch 16/20\n",
      "10/10 [==============================] - 0s 4ms/step - loss: 1.0987 - accuracy: 0.3333\n",
      "Epoch 17/20\n",
      "10/10 [==============================] - 0s 4ms/step - loss: 1.0986 - accuracy: 0.3333\n",
      "Epoch 18/20\n",
      "10/10 [==============================] - 0s 4ms/step - loss: 1.0987 - accuracy: 0.3333\n",
      "Epoch 19/20\n",
      "10/10 [==============================] - 0s 4ms/step - loss: 1.0986 - accuracy: 0.3333\n",
      "Epoch 20/20\n",
      "10/10 [==============================] - 0s 4ms/step - loss: 1.0986 - accuracy: 0.3333\n"
     ]
    },
    {
     "data": {
      "text/plain": [
       "<tensorflow.python.keras.callbacks.History at 0x7f1a697f28d0>"
      ]
     },
     "execution_count": 21,
     "metadata": {},
     "output_type": "execute_result"
    }
   ],
   "source": [
    "model.compile(optimizer='adam',\n",
    "             loss='sparse_categorical_crossentropy',\n",
    "             metrics=['accuracy'])\n",
    "\n",
    "# 모델 훈련\n",
    "model.fit(x_train, y_train, epochs=n_train_epoch)"
   ]
  },
  {
   "cell_type": "markdown",
   "metadata": {},
   "source": [
    "## >> 학습결과: 정확도 = 0.3333 (개선 필요!!)\n",
    "### 파라미터는 아래와 같다.\n",
    "#### n_channel_1=30\n",
    "#### n_channel_2=60\n",
    "#### n_dense=3\n",
    "#### n_train_epoch=20"
   ]
  },
  {
   "cell_type": "code",
   "execution_count": 22,
   "metadata": {},
   "outputs": [
    {
     "name": "stdout",
     "output_type": "stream",
     "text": [
      "10/10 - 0s - loss: 1.0870 - accuracy: 0.3533\n",
      "test_loss: 1.0869650840759277 \n",
      "test_accuracy: 0.35333332419395447\n"
     ]
    }
   ],
   "source": [
    "test_loss, test_accuracy = model.evaluate(x_test, y_test, verbose=2)\n",
    "print(\"test_loss: {} \".format(test_loss))\n",
    "print(\"test_accuracy: {}\".format(test_accuracy))"
   ]
  },
  {
   "cell_type": "markdown",
   "metadata": {},
   "source": [
    "## <span style=\"color:red\">>> 데이터 변경 평가 결과: 정확도 0.3533 (두 번째 방법 동시 적용 필요해 보임)</span>"
   ]
  },
  {
   "cell_type": "markdown",
   "metadata": {},
   "source": [
    "## 5-2. 새로운 데이터 셋 + 이미지 크기 그대로 사용 (224*224)"
   ]
  },
  {
   "cell_type": "code",
   "execution_count": 23,
   "metadata": {},
   "outputs": [
    {
     "name": "stdout",
     "output_type": "stream",
     "text": [
      "가위 이미지의 크기는:  (224, 224)\n",
      "바위 이미지의 크기는:  (224, 224)\n",
      "보 이미지의 크기는:  (224, 224)\n"
     ]
    }
   ],
   "source": [
    "scissor_image_dir_path = os.getenv(\"HOME\") + \"/E01_Rock_Scissor_Paper/train_ver2_backup/scissor\"\n",
    "scissor_images=glob.glob(scissor_image_dir_path + \"/*.jpg\")\n",
    "scissor_image_0 = Image.open(scissor_images[0])\n",
    "print('가위 이미지의 크기는: ', scissor_image_0.size)\n",
    "\n",
    "rock_image_dir_path = os.getenv(\"HOME\") + \"/E01_Rock_Scissor_Paper/train_ver2_backup/rock\"\n",
    "rock_images=glob.glob(rock_image_dir_path + \"/*.jpg\")\n",
    "rock_image_0 = Image.open(rock_images[0])\n",
    "print('바위 이미지의 크기는: ', rock_image_0.size)\n",
    "\n",
    "paper_image_dir_path = os.getenv(\"HOME\") + \"/E01_Rock_Scissor_Paper/train_ver2_backup/paper\"\n",
    "paper_images=glob.glob(paper_image_dir_path + \"/*.jpg\")\n",
    "paper_image_0 = Image.open(paper_images[0])\n",
    "print('보 이미지의 크기는: ', paper_image_0.size)"
   ]
  },
  {
   "cell_type": "markdown",
   "metadata": {},
   "source": [
    "### *기존의 load_data() 함수는 (28,28) 크기에 맞는 함수였기 때문에 새로운 함수 load_data_224 생성\n",
    "### 4번 라인의 img_size가 28에서 224로 변경됨."
   ]
  },
  {
   "cell_type": "code",
   "execution_count": 24,
   "metadata": {},
   "outputs": [
    {
     "name": "stdout",
     "output_type": "stream",
     "text": [
      "이미지 개수는 300 입니다.\n",
      "x_train shape: (300, 224, 224, 3)\n",
      "y_train shape: (300,)\n"
     ]
    }
   ],
   "source": [
    "image_dir_path = os.getenv(\"HOME\") + \"/E01_Rock_Scissor_Paper/train_ver2_backup\"\n",
    "(x_train, y_train)=load_data(image_dir_path)\n",
    "x_train_norm = x_train/255.0   # 입력은 0~1 사이의 값으로 정규화\n",
    "\n",
    "print(\"x_train shape: {}\".format(x_train.shape))\n",
    "print(\"y_train shape: {}\".format(y_train.shape))"
   ]
  },
  {
   "cell_type": "code",
   "execution_count": 25,
   "metadata": {},
   "outputs": [
    {
     "name": "stdout",
     "output_type": "stream",
     "text": [
      "라벨:  1\n"
     ]
    },
    {
     "data": {
      "image/png": "[encoded data removed]",
      "text/plain": [
       "<Figure size 432x288 with 1 Axes>"
      ]
     },
     "metadata": {
      "needs_background": "light"
     },
     "output_type": "display_data"
    }
   ],
   "source": [
    "plt.imshow(x_train[100])      # 100번 = 바위의 첫 번재 사진 출력\n",
    "print('라벨: ', y_train[100]) # 100번의 라벨 = 1:바위"
   ]
  },
  {
   "cell_type": "code",
   "execution_count": 26,
   "metadata": {},
   "outputs": [
    {
     "name": "stdout",
     "output_type": "stream",
     "text": [
      "Model: \"sequential_2\"\n",
      "_________________________________________________________________\n",
      "Layer (type)                 Output Shape              Param #   \n",
      "=================================================================\n",
      "conv2d_4 (Conv2D)            (None, 222, 222, 32)      896       \n",
      "_________________________________________________________________\n",
      "max_pooling2d_4 (MaxPooling2 (None, 111, 111, 32)      0         \n",
      "_________________________________________________________________\n",
      "conv2d_5 (Conv2D)            (None, 109, 109, 64)      18496     \n",
      "_________________________________________________________________\n",
      "max_pooling2d_5 (MaxPooling2 (None, 54, 54, 64)        0         \n",
      "_________________________________________________________________\n",
      "flatten_2 (Flatten)          (None, 186624)            0         \n",
      "_________________________________________________________________\n",
      "dense_4 (Dense)              (None, 3)                 559875    \n",
      "_________________________________________________________________\n",
      "dense_5 (Dense)              (None, 3)                 12        \n",
      "=================================================================\n",
      "Total params: 579,279\n",
      "Trainable params: 579,279\n",
      "Non-trainable params: 0\n",
      "_________________________________________________________________\n"
     ]
    }
   ],
   "source": [
    "# 변경가능한 파라미터들 (훈련을 실행하면서 변경을 통해 정확도 상승시킬 필요 있음)\n",
    "n_channel_1=32\n",
    "n_channel_2=64\n",
    "n_dense=3\n",
    "n_train_epoch=20\n",
    "\n",
    "model=keras.models.Sequential()\n",
    "model.add(keras.layers.Conv2D(n_channel_1, (3,3), activation='relu', input_shape=(224,224,3)))\n",
    "model.add(keras.layers.MaxPool2D(2,2))\n",
    "model.add(keras.layers.Conv2D(n_channel_2, (3,3), activation='relu'))\n",
    "model.add(keras.layers.MaxPooling2D((2,2)))\n",
    "model.add(keras.layers.Flatten())\n",
    "model.add(keras.layers.Dense(n_dense, activation='relu'))\n",
    "model.add(keras.layers.Dense(3, activation='softmax'))\n",
    "\n",
    "model.summary()"
   ]
  },
  {
   "cell_type": "code",
   "execution_count": 27,
   "metadata": {
    "scrolled": false
   },
   "outputs": [
    {
     "name": "stdout",
     "output_type": "stream",
     "text": [
      "Epoch 1/20\n",
      "10/10 [==============================] - 3s 328ms/step - loss: 134.0489 - accuracy: 0.3300\n",
      "Epoch 2/20\n",
      "10/10 [==============================] - 3s 330ms/step - loss: 1.0986 - accuracy: 0.3333\n",
      "Epoch 3/20\n",
      "10/10 [==============================] - 3s 330ms/step - loss: 1.0987 - accuracy: 0.3333\n",
      "Epoch 4/20\n",
      "10/10 [==============================] - 3s 329ms/step - loss: 1.0986 - accuracy: 0.3333\n",
      "Epoch 5/20\n",
      "10/10 [==============================] - 3s 330ms/step - loss: 1.0986 - accuracy: 0.3333\n",
      "Epoch 6/20\n",
      "10/10 [==============================] - 3s 330ms/step - loss: 1.0987 - accuracy: 0.3333\n",
      "Epoch 7/20\n",
      "10/10 [==============================] - 3s 333ms/step - loss: 1.0987 - accuracy: 0.3333\n",
      "Epoch 8/20\n",
      "10/10 [==============================] - 3s 331ms/step - loss: 1.0987 - accuracy: 0.3333\n",
      "Epoch 9/20\n",
      "10/10 [==============================] - 3s 340ms/step - loss: 1.0987 - accuracy: 0.3333\n",
      "Epoch 10/20\n",
      "10/10 [==============================] - 3s 330ms/step - loss: 1.0986 - accuracy: 0.3333\n",
      "Epoch 11/20\n",
      "10/10 [==============================] - 3s 331ms/step - loss: 1.0987 - accuracy: 0.3333\n",
      "Epoch 12/20\n",
      "10/10 [==============================] - 3s 330ms/step - loss: 1.0986 - accuracy: 0.3333\n",
      "Epoch 13/20\n",
      "10/10 [==============================] - 3s 329ms/step - loss: 1.0987 - accuracy: 0.3333\n",
      "Epoch 14/20\n",
      "10/10 [==============================] - 3s 330ms/step - loss: 1.0987 - accuracy: 0.3333\n",
      "Epoch 15/20\n",
      "10/10 [==============================] - 3s 330ms/step - loss: 1.0987 - accuracy: 0.3333\n",
      "Epoch 16/20\n",
      "10/10 [==============================] - 3s 334ms/step - loss: 1.0986 - accuracy: 0.3333\n",
      "Epoch 17/20\n",
      "10/10 [==============================] - 3s 335ms/step - loss: 1.0987 - accuracy: 0.3333\n",
      "Epoch 18/20\n",
      "10/10 [==============================] - 3s 332ms/step - loss: 1.0987 - accuracy: 0.3333\n",
      "Epoch 19/20\n",
      "10/10 [==============================] - 3s 330ms/step - loss: 1.0986 - accuracy: 0.3333\n",
      "Epoch 20/20\n",
      "10/10 [==============================] - 3s 330ms/step - loss: 1.0986 - accuracy: 0.3333\n"
     ]
    },
    {
     "data": {
      "text/plain": [
       "<tensorflow.python.keras.callbacks.History at 0x7f1a6953b710>"
      ]
     },
     "execution_count": 27,
     "metadata": {},
     "output_type": "execute_result"
    }
   ],
   "source": [
    "model.compile(optimizer='adam',\n",
    "             loss='sparse_categorical_crossentropy',\n",
    "             metrics=['accuracy'])\n",
    "\n",
    "# 모델 훈련\n",
    "model.fit(x_train, y_train, epochs=n_train_epoch)"
   ]
  },
  {
   "cell_type": "markdown",
   "metadata": {},
   "source": [
    "## >>학습결과: 정확도 0.3333(개선 필요!!)"
   ]
  },
  {
   "cell_type": "code",
   "execution_count": 28,
   "metadata": {},
   "outputs": [
    {
     "name": "stdout",
     "output_type": "stream",
     "text": [
      "이미지 디렉토리 경로:  /home/aiffel/E01_Rock_Scissor_Paper/test_dataset_224/rock\n",
      "이미지 디렉토리 경로:  /home/aiffel/E01_Rock_Scissor_Paper/test_dataset_224/scissor\n",
      "이미지 디렉토리 경로:  /home/aiffel/E01_Rock_Scissor_Paper/test_dataset_224/paper\n"
     ]
    }
   ],
   "source": [
    "# test 데이터 (224,224) resize\n",
    "image_dir_path_test_224 = os.getenv(\"HOME\") + \"/E01_Rock_Scissor_Paper/test_dataset_224/rock\"\n",
    "images_test_224=glob.glob(image_dir_path_test_224 + \"/*.jpg\") \n",
    "print(\"이미지 디렉토리 경로: \", image_dir_path_test_224)\n",
    "\n",
    "# 파일마다 모두 224x224 사이즈로 바꾸어 저장합니다.\n",
    "target_size=(224,224)\n",
    "for img in images_test_224:\n",
    "    old_img=Image.open(img)\n",
    "    new_img=old_img.resize(target_size,Image.ANTIALIAS)\n",
    "    new_img.save(img,\"JPEG\")\n",
    "    \n",
    "image_dir_path_test_224 = os.getenv(\"HOME\") + \"/E01_Rock_Scissor_Paper/test_dataset_224/scissor\"\n",
    "images_test_224=glob.glob(image_dir_path_test_224 + \"/*.jpg\") \n",
    "print(\"이미지 디렉토리 경로: \", image_dir_path_test_224)\n",
    "\n",
    "# 파일마다 모두 224x224 사이즈로 바꾸어 저장합니다.\n",
    "target_size=(224,224)\n",
    "for img in images_test_224:\n",
    "    old_img=Image.open(img)\n",
    "    new_img=old_img.resize(target_size,Image.ANTIALIAS)\n",
    "    new_img.save(img,\"JPEG\")\n",
    "\n",
    "image_dir_path_test_224 = os.getenv(\"HOME\") + \"/E01_Rock_Scissor_Paper/test_dataset_224/paper\"\n",
    "images_test_224=glob.glob(image_dir_path_test_224 + \"/*.jpg\") \n",
    "print(\"이미지 디렉토리 경로: \", image_dir_path_test_224)\n",
    "\n",
    "# 파일마다 모두 224x224 사이즈로 바꾸어 저장합니다.\n",
    "target_size=(224,224)\n",
    "for img in images_test_224:\n",
    "    old_img=Image.open(img)\n",
    "    new_img=old_img.resize(target_size,Image.ANTIALIAS)\n",
    "    new_img.save(img,\"JPEG\")"
   ]
  },
  {
   "cell_type": "code",
   "execution_count": 29,
   "metadata": {},
   "outputs": [
    {
     "name": "stdout",
     "output_type": "stream",
     "text": [
      "이미지 개수는 300 입니다.\n",
      "x_train shape: (300, 224, 224, 3)\n",
      "y_train shape: (300,)\n"
     ]
    }
   ],
   "source": [
    "# x_test, y_test를 만드는 방법은 x_train, y_train을 만드는 방법과 아주 유사합니다.\n",
    "image_dir_path = os.getenv(\"HOME\") + \"/E01_Rock_Scissor_Paper/test_dataset_224\"\n",
    "(x_test, y_test)=load_data(image_dir_path)\n",
    "x_train_norm = x_train/255.0   # 입력은 0~1 사이의 값으로 정규화\n",
    "\n",
    "print(\"x_train shape: {}\".format(x_test.shape))\n",
    "print(\"y_train shape: {}\".format(y_test.shape))"
   ]
  },
  {
   "cell_type": "code",
   "execution_count": 30,
   "metadata": {},
   "outputs": [
    {
     "name": "stdout",
     "output_type": "stream",
     "text": [
      "10/10 - 1s - loss: 1.0986 - accuracy: 0.3333\n",
      "test_loss: 1.0986217260360718 \n",
      "test_accuracy: 0.3333333432674408\n"
     ]
    }
   ],
   "source": [
    "test_loss, test_accuracy = model.evaluate(x_test, y_test, verbose=2)\n",
    "print(\"test_loss: {} \".format(test_loss))\n",
    "print(\"test_accuracy: {}\".format(test_accuracy))"
   ]
  },
  {
   "cell_type": "markdown",
   "metadata": {},
   "source": [
    "## <span style=\"color:red\">>>데이터 변경 & 이미지 크기 유지 평가결과: 정확도 0.3333(개선 방안 아님) </span>\n",
    "---\n",
    "## <span style=\"color:red\"> <데이터 변경 & 이미지 크기 유지 방안은 미채택> </span>   \n",
    "    "
   ]
  },
  {
   "cell_type": "markdown",
   "metadata": {},
   "source": [
    "# 5-3. 파라미터 변경\n",
    "#### n_channel_1=32\n",
    "#### n_channel_2=64\n",
    "### n_dense=64 (기존 3에서 64으로 변경)\n",
    "#### n_train_epoch=20"
   ]
  },
  {
   "cell_type": "code",
   "execution_count": 31,
   "metadata": {},
   "outputs": [
    {
     "name": "stdout",
     "output_type": "stream",
     "text": [
      "이미지 개수는 300 입니다.\n",
      "x_train shape: (300, 28, 28, 3)\n",
      "y_train shape: (300,)\n"
     ]
    }
   ],
   "source": [
    "image_dir_path = os.getenv(\"HOME\") + \"/E01_Rock_Scissor_Paper/train_ver1\"\n",
    "(x_train, y_train)=load_data(image_dir_path)\n",
    "x_train_norm = x_train/255.0   # 입력은 0~1 사이의 값으로 정규화\n",
    "\n",
    "print(\"x_train shape: {}\".format(x_train.shape))\n",
    "print(\"y_train shape: {}\".format(y_train.shape))"
   ]
  },
  {
   "cell_type": "code",
   "execution_count": 32,
   "metadata": {},
   "outputs": [
    {
     "name": "stdout",
     "output_type": "stream",
     "text": [
      "Model: \"sequential_3\"\n",
      "_________________________________________________________________\n",
      "Layer (type)                 Output Shape              Param #   \n",
      "=================================================================\n",
      "conv2d_6 (Conv2D)            (None, 26, 26, 32)        896       \n",
      "_________________________________________________________________\n",
      "max_pooling2d_6 (MaxPooling2 (None, 13, 13, 32)        0         \n",
      "_________________________________________________________________\n",
      "conv2d_7 (Conv2D)            (None, 11, 11, 64)        18496     \n",
      "_________________________________________________________________\n",
      "max_pooling2d_7 (MaxPooling2 (None, 5, 5, 64)          0         \n",
      "_________________________________________________________________\n",
      "flatten_3 (Flatten)          (None, 1600)              0         \n",
      "_________________________________________________________________\n",
      "dense_6 (Dense)              (None, 64)                102464    \n",
      "_________________________________________________________________\n",
      "dense_7 (Dense)              (None, 3)                 195       \n",
      "=================================================================\n",
      "Total params: 122,051\n",
      "Trainable params: 122,051\n",
      "Non-trainable params: 0\n",
      "_________________________________________________________________\n"
     ]
    }
   ],
   "source": [
    "# 변경가능한 파라미터들 (훈련을 실행하면서 변경을 통해 정확도 상승시킬 필요 있음)\n",
    "n_channel_1=32\n",
    "n_channel_2=64\n",
    "n_dense=64\n",
    "n_train_epoch=20\n",
    "\n",
    "model=keras.models.Sequential()\n",
    "model.add(keras.layers.Conv2D(n_channel_1, (3,3), activation='relu', input_shape=(28,28,3)))\n",
    "model.add(keras.layers.MaxPool2D(2,2))\n",
    "model.add(keras.layers.Conv2D(n_channel_2, (3,3), activation='relu'))\n",
    "model.add(keras.layers.MaxPooling2D((2,2)))\n",
    "model.add(keras.layers.Flatten())\n",
    "model.add(keras.layers.Dense(n_dense, activation='relu'))\n",
    "model.add(keras.layers.Dense(3, activation='softmax'))\n",
    "\n",
    "model.summary()"
   ]
  },
  {
   "cell_type": "code",
   "execution_count": 33,
   "metadata": {
    "scrolled": false
   },
   "outputs": [
    {
     "name": "stdout",
     "output_type": "stream",
     "text": [
      "Epoch 1/20\n",
      "10/10 [==============================] - 0s 4ms/step - loss: 27.1359 - accuracy: 0.3767\n",
      "Epoch 2/20\n",
      "10/10 [==============================] - 0s 4ms/step - loss: 2.3278 - accuracy: 0.4967\n",
      "Epoch 3/20\n",
      "10/10 [==============================] - 0s 4ms/step - loss: 0.6113 - accuracy: 0.7467\n",
      "Epoch 4/20\n",
      "10/10 [==============================] - 0s 4ms/step - loss: 0.2546 - accuracy: 0.9200\n",
      "Epoch 5/20\n",
      "10/10 [==============================] - 0s 4ms/step - loss: 0.2081 - accuracy: 0.9233\n",
      "Epoch 6/20\n",
      "10/10 [==============================] - 0s 4ms/step - loss: 0.2141 - accuracy: 0.9300\n",
      "Epoch 7/20\n",
      "10/10 [==============================] - 0s 4ms/step - loss: 0.2065 - accuracy: 0.9433\n",
      "Epoch 8/20\n",
      "10/10 [==============================] - 0s 4ms/step - loss: 0.0957 - accuracy: 0.9733\n",
      "Epoch 9/20\n",
      "10/10 [==============================] - 0s 4ms/step - loss: 0.0753 - accuracy: 0.9733\n",
      "Epoch 10/20\n",
      "10/10 [==============================] - 0s 4ms/step - loss: 0.0491 - accuracy: 0.9800\n",
      "Epoch 11/20\n",
      "10/10 [==============================] - 0s 4ms/step - loss: 0.0460 - accuracy: 0.9833\n",
      "Epoch 12/20\n",
      "10/10 [==============================] - 0s 4ms/step - loss: 0.0440 - accuracy: 0.9900\n",
      "Epoch 13/20\n",
      "10/10 [==============================] - 0s 4ms/step - loss: 0.0396 - accuracy: 0.9800\n",
      "Epoch 14/20\n",
      "10/10 [==============================] - 0s 4ms/step - loss: 0.0357 - accuracy: 0.9867\n",
      "Epoch 15/20\n",
      "10/10 [==============================] - 0s 4ms/step - loss: 0.0414 - accuracy: 0.9900\n",
      "Epoch 16/20\n",
      "10/10 [==============================] - 0s 4ms/step - loss: 0.0253 - accuracy: 0.9967\n",
      "Epoch 17/20\n",
      "10/10 [==============================] - 0s 4ms/step - loss: 0.0327 - accuracy: 0.9867\n",
      "Epoch 18/20\n",
      "10/10 [==============================] - 0s 4ms/step - loss: 0.0436 - accuracy: 0.9900\n",
      "Epoch 19/20\n",
      "10/10 [==============================] - 0s 4ms/step - loss: 0.0258 - accuracy: 0.9933\n",
      "Epoch 20/20\n",
      "10/10 [==============================] - 0s 4ms/step - loss: 0.0223 - accuracy: 0.9967\n"
     ]
    },
    {
     "data": {
      "text/plain": [
       "<tensorflow.python.keras.callbacks.History at 0x7f1a69873290>"
      ]
     },
     "execution_count": 33,
     "metadata": {},
     "output_type": "execute_result"
    }
   ],
   "source": [
    "model.compile(optimizer='adam',\n",
    "             loss='sparse_categorical_crossentropy',\n",
    "             metrics=['accuracy'])\n",
    "\n",
    "# 모델 훈련\n",
    "model.fit(x_train, y_train, epochs=n_train_epoch)"
   ]
  },
  {
   "cell_type": "markdown",
   "metadata": {},
   "source": [
    "## >>학습결과 정확도: 0.9967! 테스트에서도 잘 나오는지 보자"
   ]
  },
  {
   "cell_type": "code",
   "execution_count": 34,
   "metadata": {},
   "outputs": [
    {
     "name": "stdout",
     "output_type": "stream",
     "text": [
      "이미지 개수는 300 입니다.\n",
      "x_train shape: (300, 28, 28, 3)\n",
      "y_train shape: (300,)\n",
      "10/10 - 0s - loss: 5.7525 - accuracy: 0.3267\n",
      "test_loss: 5.752499103546143 \n",
      "test_accuracy: 0.3266666531562805\n"
     ]
    }
   ],
   "source": [
    "# x_test, y_test를 만드는 방법은 x_train, y_train을 만드는 방법과 아주 유사합니다.\n",
    "image_dir_path_test = os.getenv(\"HOME\") + \"/E01_Rock_Scissor_Paper/test_dataset\"\n",
    "(x_test, y_test)=load_data(image_dir_path_test)\n",
    "x_train_norm = x_train/255.0   # 입력은 0~1 사이의 값으로 정규화\n",
    "\n",
    "print(\"x_train shape: {}\".format(x_test.shape))\n",
    "print(\"y_train shape: {}\".format(y_test.shape))\n",
    "\n",
    "test_loss, test_accuracy = model.evaluate(x_test, y_test, verbose=2)\n",
    "print(\"test_loss: {} \".format(test_loss))\n",
    "print(\"test_accuracy: {}\".format(test_accuracy))"
   ]
  },
  {
   "cell_type": "markdown",
   "metadata": {},
   "source": [
    "## >> 하지만...테스트 결과는 0.326...으로 개선 필요 ㅜ.ㅜ"
   ]
  },
  {
   "cell_type": "markdown",
   "metadata": {},
   "source": [
    "# 5-4. 데이터 증가 및 파라미터 변경"
   ]
  },
  {
   "cell_type": "markdown",
   "metadata": {},
   "source": [
    "## 데이터 불러오기\n",
    "### 300개 -> 15,000개를 학습 진행"
   ]
  },
  {
   "cell_type": "code",
   "execution_count": 35,
   "metadata": {},
   "outputs": [
    {
     "name": "stdout",
     "output_type": "stream",
     "text": [
      "이미지 개수는 15000 입니다.\n",
      "x_train shape: (15000, 28, 28, 3)\n",
      "y_train shape: (15000,)\n"
     ]
    }
   ],
   "source": [
    "image_dir_path = os.getenv(\"HOME\") + \"/E01_Rock_Scissor_Paper/train_dataset_total/*\"\n",
    "(x_train, y_train)=load_data(image_dir_path)\n",
    "x_train_norm = x_train/255.0   # 입력은 0~1 사이의 값으로 정규화\n",
    "\n",
    "print(\"x_train shape: {}\".format(x_train.shape))\n",
    "print(\"y_train shape: {}\".format(y_train.shape))"
   ]
  },
  {
   "cell_type": "code",
   "execution_count": 36,
   "metadata": {
    "scrolled": false
   },
   "outputs": [
    {
     "name": "stdout",
     "output_type": "stream",
     "text": [
      "라벨:  0\n"
     ]
    },
    {
     "data": {
      "image/png": "[encoded data removed]",
      "text/plain": [
       "<Figure size 432x288 with 1 Axes>"
      ]
     },
     "metadata": {
      "needs_background": "light"
     },
     "output_type": "display_data"
    }
   ],
   "source": [
    "plt.imshow(x_train[100])      # 100번 사진 출력\n",
    "print('라벨: ', y_train[100]) # 100번의 라벨 = 0:가위"
   ]
  },
  {
   "cell_type": "markdown",
   "metadata": {},
   "source": [
    "## <딥러닝 모델 설계하기>\n",
    "\n",
    "### 파라미터\n",
    "#### n_channel_1=32\n",
    "#### n_channel_2=64\n",
    "#### n_dense=64\n",
    "#### n_train_epoch=20"
   ]
  },
  {
   "cell_type": "code",
   "execution_count": 48,
   "metadata": {
    "scrolled": false
   },
   "outputs": [
    {
     "name": "stdout",
     "output_type": "stream",
     "text": [
      "Model: \"sequential_9\"\n",
      "_________________________________________________________________\n",
      "Layer (type)                 Output Shape              Param #   \n",
      "=================================================================\n",
      "conv2d_18 (Conv2D)           (None, 26, 26, 32)        896       \n",
      "_________________________________________________________________\n",
      "max_pooling2d_18 (MaxPooling (None, 13, 13, 32)        0         \n",
      "_________________________________________________________________\n",
      "conv2d_19 (Conv2D)           (None, 11, 11, 64)        18496     \n",
      "_________________________________________________________________\n",
      "max_pooling2d_19 (MaxPooling (None, 5, 5, 64)          0         \n",
      "_________________________________________________________________\n",
      "flatten_9 (Flatten)          (None, 1600)              0         \n",
      "_________________________________________________________________\n",
      "dense_18 (Dense)             (None, 64)                102464    \n",
      "_________________________________________________________________\n",
      "dense_19 (Dense)             (None, 3)                 195       \n",
      "=================================================================\n",
      "Total params: 122,051\n",
      "Trainable params: 122,051\n",
      "Non-trainable params: 0\n",
      "_________________________________________________________________\n"
     ]
    }
   ],
   "source": [
    "# 변경가능한 파라미터들 (훈련을 실행하면서 변경을 통해 정확도 상승시킬 필요 있음)\n",
    "n_channel_1=32\n",
    "n_channel_2=64\n",
    "n_dense=64\n",
    "n_train_epoch=20\n",
    "\n",
    "model=keras.models.Sequential()\n",
    "model.add(keras.layers.Conv2D(n_channel_1, (3,3), activation='relu', input_shape=(28,28,3)))\n",
    "model.add(keras.layers.MaxPool2D(2,2))\n",
    "model.add(keras.layers.Conv2D(n_channel_2, (3,3), activation='relu'))\n",
    "model.add(keras.layers.MaxPooling2D((2,2)))\n",
    "model.add(keras.layers.Flatten())\n",
    "model.add(keras.layers.Dense(n_dense, activation='relu'))\n",
    "model.add(keras.layers.Dense(3, activation='softmax'))\n",
    "\n",
    "model.summary()"
   ]
  },
  {
   "cell_type": "code",
   "execution_count": 49,
   "metadata": {
    "scrolled": false
   },
   "outputs": [
    {
     "name": "stdout",
     "output_type": "stream",
     "text": [
      "Epoch 1/20\n",
      "469/469 [==============================] - 2s 5ms/step - loss: 1.2287 - accuracy: 0.6092\n",
      "Epoch 2/20\n",
      "469/469 [==============================] - 2s 5ms/step - loss: 0.4195 - accuracy: 0.8332\n",
      "Epoch 3/20\n",
      "469/469 [==============================] - 2s 5ms/step - loss: 0.2433 - accuracy: 0.9100\n",
      "Epoch 4/20\n",
      "469/469 [==============================] - 2s 5ms/step - loss: 0.1627 - accuracy: 0.9421\n",
      "Epoch 5/20\n",
      "469/469 [==============================] - 2s 5ms/step - loss: 0.1287 - accuracy: 0.9542\n",
      "Epoch 6/20\n",
      "469/469 [==============================] - 2s 5ms/step - loss: 0.0881 - accuracy: 0.9695\n",
      "Epoch 7/20\n",
      "469/469 [==============================] - 2s 5ms/step - loss: 0.1087 - accuracy: 0.9631\n",
      "Epoch 8/20\n",
      "469/469 [==============================] - 2s 5ms/step - loss: 0.1030 - accuracy: 0.9667\n",
      "Epoch 9/20\n",
      "469/469 [==============================] - 2s 5ms/step - loss: 0.0885 - accuracy: 0.9718\n",
      "Epoch 10/20\n",
      "469/469 [==============================] - 2s 5ms/step - loss: 0.0737 - accuracy: 0.9754\n",
      "Epoch 11/20\n",
      "469/469 [==============================] - 2s 5ms/step - loss: 0.0659 - accuracy: 0.9781\n",
      "Epoch 12/20\n",
      "469/469 [==============================] - 2s 5ms/step - loss: 0.0584 - accuracy: 0.9827\n",
      "Epoch 13/20\n",
      "469/469 [==============================] - 2s 5ms/step - loss: 0.0578 - accuracy: 0.9820\n",
      "Epoch 14/20\n",
      "469/469 [==============================] - 2s 5ms/step - loss: 0.0453 - accuracy: 0.9872\n",
      "Epoch 15/20\n",
      "469/469 [==============================] - 2s 5ms/step - loss: 0.0421 - accuracy: 0.9859\n",
      "Epoch 16/20\n",
      "469/469 [==============================] - 2s 5ms/step - loss: 0.0830 - accuracy: 0.9774\n",
      "Epoch 17/20\n",
      "469/469 [==============================] - 2s 4ms/step - loss: 0.0221 - accuracy: 0.9931\n",
      "Epoch 18/20\n",
      "469/469 [==============================] - 2s 4ms/step - loss: 0.0485 - accuracy: 0.9863\n",
      "Epoch 19/20\n",
      "469/469 [==============================] - 2s 4ms/step - loss: 0.0281 - accuracy: 0.9913\n",
      "Epoch 20/20\n",
      "469/469 [==============================] - 2s 4ms/step - loss: 0.0518 - accuracy: 0.9871\n"
     ]
    },
    {
     "data": {
      "text/plain": [
       "<tensorflow.python.keras.callbacks.History at 0x7f1a54670610>"
      ]
     },
     "execution_count": 49,
     "metadata": {},
     "output_type": "execute_result"
    }
   ],
   "source": [
    "model.compile(optimizer='adam',\n",
    "             loss='sparse_categorical_crossentropy',\n",
    "             metrics=['accuracy'])\n",
    "\n",
    "# 모델 훈련\n",
    "model.fit(x_train, y_train, epochs=n_train_epoch)"
   ]
  },
  {
   "cell_type": "markdown",
   "metadata": {},
   "source": [
    "## >>학습결과 정확도 0.9871! 테스트 데이터로 확인해보자!"
   ]
  },
  {
   "cell_type": "code",
   "execution_count": 50,
   "metadata": {},
   "outputs": [
    {
     "name": "stdout",
     "output_type": "stream",
     "text": [
      "이미지 개수는 300 입니다.\n",
      "x_test shape: (300, 28, 28, 3)\n",
      "y_test shape: (300,)\n"
     ]
    }
   ],
   "source": [
    "# x_test, y_test를 만드는 방법은 x_train, y_train을 만드는 방법과 아주 유사합니다.\n",
    "image_dir_path_test = os.getenv(\"HOME\") + \"/E01_Rock_Scissor_Paper/test_dataset\"\n",
    "(x_test, y_test)=load_data(image_dir_path_test)\n",
    "\n",
    "print(\"x_test shape: {}\".format(x_test.shape))\n",
    "print(\"y_test shape: {}\".format(y_test.shape))"
   ]
  },
  {
   "cell_type": "code",
   "execution_count": 51,
   "metadata": {
    "scrolled": true
   },
   "outputs": [
    {
     "name": "stdout",
     "output_type": "stream",
     "text": [
      "10/10 - 0s - loss: 0.0234 - accuracy: 0.9933\n",
      "test_loss: 0.02341587096452713 \n",
      "test_accuracy: 0.9933333396911621\n"
     ]
    }
   ],
   "source": [
    "test_loss, test_accuracy = model.evaluate(x_test, y_test, verbose=2)\n",
    "print(\"test_loss: {} \".format(test_loss))\n",
    "print(\"test_accuracy: {}\".format(test_accuracy))"
   ]
  },
  {
   "cell_type": "markdown",
   "metadata": {},
   "source": [
    "  ## >> 테스트결과 정확도 0.9933! 모델 학습이 잘 되어 새로운 테스트 데이터에도 높은 정확도를 보여준다."
   ]
  },
  {
   "cell_type": "markdown",
   "metadata": {},
   "source": [
    "# 5. 결과 요약\n",
    "\n",
    "## 1) 파라미터 변경에 따른 변화 (언더피팅 완화)\n",
    "### 아래 결과의 0번과 3번 행을 보면 n_dense가 3-> 64로 증가했다.\n",
    "### 이에 따라 학습 데이터의 정확도가 0.333 -> 0.9967으로 상승해 기존에 있던 언더피팅을 완화시켰다.\n",
    "#### ※언더피팅 모델은 train set의 sample 조차 제대로 모델링을 못하는 경우이다. (학습 정확도가 낮다.)\n",
    "#### ※ 오버피팅 모델은 train set의 sample에 지나치게 적합되어서 그 외의 데이터를 표현하지 못합니다. (평가 정확도가 낮다.)\n",
    "<br/>\n",
    "\n",
    "## 2) 훈련 데이터 수 변화에 따른 변화 (오버피팅 완화)\n",
    "### 아래 결과의 3번과 4번 행을 보면 평가 데이터의 정확도가 0.3266 -> 0.9933으로 상승해 학습된 모델이 \n",
    "### 새로운 데이터에 대해서도 잘 평가하는 것을 알 수 있다. (오버피팅 완화)"
   ]
  },
  {
   "cell_type": "markdown",
   "metadata": {},
   "source": [
    "### 좌측부터 언더피팅, 피팅, 오버피팅을 나타내는 그래프이다.\n",
    "![언더피팅, 오버피팅](https://img1.daumcdn.net/thumb/R1280x0/?scode=mtistory2&fname=https%3A%2F%2Fblog.kakaocdn.net%2Fdn%2FBVZM9%2FbtqzQ7EllAZ%2FMoe17j0pCFTaxK4ya8ue2K%2Fimg.png)\n",
    "##### 출처: https://dataplay.tistory.com/32"
   ]
  },
  {
   "cell_type": "code",
   "execution_count": 55,
   "metadata": {},
   "outputs": [
    {
     "data": {
      "text/html": [
       "<div>\n",
       "<style scoped>\n",
       "    .dataframe tbody tr th:only-of-type {\n",
       "        vertical-align: middle;\n",
       "    }\n",
       "\n",
       "    .dataframe tbody tr th {\n",
       "        vertical-align: top;\n",
       "    }\n",
       "\n",
       "    .dataframe thead th {\n",
       "        text-align: right;\n",
       "    }\n",
       "</style>\n",
       "<table border=\"1\" class=\"dataframe\">\n",
       "  <thead>\n",
       "    <tr style=\"text-align: right;\">\n",
       "      <th></th>\n",
       "      <th>name</th>\n",
       "      <th>n_channel_1</th>\n",
       "      <th>n_channel_2</th>\n",
       "      <th>n_dense</th>\n",
       "      <th>n_train_epoch</th>\n",
       "      <th>trainable_params</th>\n",
       "      <th>train_accuracy</th>\n",
       "      <th>test_accuracy</th>\n",
       "    </tr>\n",
       "  </thead>\n",
       "  <tbody>\n",
       "    <tr>\n",
       "      <th>0</th>\n",
       "      <td>최초시도</td>\n",
       "      <td>32</td>\n",
       "      <td>64</td>\n",
       "      <td>3</td>\n",
       "      <td>20</td>\n",
       "      <td>24207</td>\n",
       "      <td>0.3333</td>\n",
       "      <td>0.3333</td>\n",
       "    </tr>\n",
       "    <tr>\n",
       "      <th>1</th>\n",
       "      <td>개선(1)-훈련데이터 변경</td>\n",
       "      <td>32</td>\n",
       "      <td>64</td>\n",
       "      <td>3</td>\n",
       "      <td>20</td>\n",
       "      <td>24207</td>\n",
       "      <td>0.3333</td>\n",
       "      <td>0.3333</td>\n",
       "    </tr>\n",
       "    <tr>\n",
       "      <th>2</th>\n",
       "      <td>개선(2)-훈련 데이터 사이즈 원본(224*224)</td>\n",
       "      <td>32</td>\n",
       "      <td>64</td>\n",
       "      <td>3</td>\n",
       "      <td>20</td>\n",
       "      <td>579279</td>\n",
       "      <td>0.3333</td>\n",
       "      <td>0.3333</td>\n",
       "    </tr>\n",
       "    <tr>\n",
       "      <th>3</th>\n",
       "      <td>개선(3)-파라미터 변경(최초 시도 훈련 데이터)</td>\n",
       "      <td>32</td>\n",
       "      <td>64</td>\n",
       "      <td>64</td>\n",
       "      <td>20</td>\n",
       "      <td>122051</td>\n",
       "      <td>0.9967</td>\n",
       "      <td>0.3266</td>\n",
       "    </tr>\n",
       "    <tr>\n",
       "      <th>4</th>\n",
       "      <td>개선(4)-훈련데이터 증가(300-&gt;15000)</td>\n",
       "      <td>32</td>\n",
       "      <td>64</td>\n",
       "      <td>64</td>\n",
       "      <td>20</td>\n",
       "      <td>122051</td>\n",
       "      <td>0.9871</td>\n",
       "      <td>0.9330</td>\n",
       "    </tr>\n",
       "  </tbody>\n",
       "</table>\n",
       "</div>"
      ],
      "text/plain": [
       "                           name  n_channel_1  n_channel_2  n_dense  \\\n",
       "0                          최초시도           32           64        3   \n",
       "1                개선(1)-훈련데이터 변경           32           64        3   \n",
       "2  개선(2)-훈련 데이터 사이즈 원본(224*224)           32           64        3   \n",
       "3   개선(3)-파라미터 변경(최초 시도 훈련 데이터)           32           64       64   \n",
       "4    개선(4)-훈련데이터 증가(300->15000)           32           64       64   \n",
       "\n",
       "   n_train_epoch  trainable_params  train_accuracy  test_accuracy  \n",
       "0             20             24207          0.3333         0.3333  \n",
       "1             20             24207          0.3333         0.3333  \n",
       "2             20            579279          0.3333         0.3333  \n",
       "3             20            122051          0.9967         0.3266  \n",
       "4             20            122051          0.9871         0.9330  "
      ]
     },
     "execution_count": 55,
     "metadata": {},
     "output_type": "execute_result"
    }
   ],
   "source": [
    "import pandas as pd\n",
    "\n",
    "data = {'name' : ['최초시도','개선(1)-훈련데이터 변경', '개선(2)-훈련 데이터 사이즈 원본(224*224)', \n",
    "                  '개선(3)-파라미터 변경(최초 시도 훈련 데이터)', '개선(4)-훈련데이터 증가(300->15000)'],\n",
    "       'n_channel_1' : [32, 32, 32, 32, 32],\n",
    "       'n_channel_2' : [64, 64, 64, 64, 64],\n",
    "       'n_dense' : [3, 3, 3, 64, 64],\n",
    "       'n_train_epoch' : [20, 20, 20, 20, 20],\n",
    "       'trainable_params' : [24207, 24207, 579279, 122051, 122051],\n",
    "       'train_accuracy' : [0.3333, 0.3333, 0.3333, 0.9967, 0.9871],\n",
    "       'test_accuracy' : [0.3333, 0.3333, 0.3333, 0.3266, 0.933]\n",
    "       }\n",
    "df = pd.DataFrame(data)\n",
    "df"
   ]
  },
  {
   "cell_type": "markdown",
   "metadata": {},
   "source": [
    "# 6.  마무리하며...\n",
    "### AIFFEL을 진행하면서 처음 하는 실습 + 과제였는데 이미지 처리라는 거대한 산의 산맥을 파악한 기분이다.\n",
    "### 먼저 좋았던 점을 간략하게 적어보면\n",
    "* 직접 데이터를 생성해보고 이미지 처리 분야의 큰 축인 분류를 경험해 볼 수 있었다.\n",
    "* 예상은 했지만 처음부터 정확도가 높지 않았다. (33%) 하지만 이런 실전 경험을 통해 배우는 것을 뛰어넘어 손과 머리로 익힐 수 있었다.\n",
    "* 제공해준 load_data 함수의 범용성을 높였다. 입력되는 이미지 크기대로 알아서 입력되고 이미지 숫자도 코드를 통해 상수가 아닌 알아서 입력되도록 했다.\n",
    "* 또한 많은 사람들의 의견과 데이터를 공유하며 모델의 성능을 높일 수 있는 방법을 습득하게 되었다.\n",
    "\n",
    "### 반성하는 점을 간략하게 적어보면\n",
    "* 맨 처음 데이터를 준비할 때 다양성 있는 이미지를 생성하지 않은 것 같다.\n",
    "* 파라미터 변경을 크게 신경쓰지 못했는데 팀원들과 함께 고민한 결과 파라미터 변경을 통해 성능을 확인해보라고 해서 크게 깨달았다.\n",
    "\n",
    "### **배우는 것뿐만 아니라 손과 머리로 부딪혀보고 사람들과 다양하게 고민하며 앞으로 나아가는 과정이 즐겁습니다. 나머지 실습들도 좋았단 점은 기억하고 반성하는 점은 개선해 진행하도록 하겠습니다!**"
   ]
  }
 ],
 "metadata": {
  "kernelspec": {
   "display_name": "aiffel",
   "language": "python",
   "name": "aiffel"
  },
  "language_info": {
   "codemirror_mode": {
    "name": "ipython",
    "version": 3
   },
   "file_extension": ".py",
   "mimetype": "text/x-python",
   "name": "python",
   "nbconvert_exporter": "python",
   "pygments_lexer": "ipython3",
   "version": "3.7.9"
  }
 },
 "nbformat": 4,
 "nbformat_minor": 4
}
