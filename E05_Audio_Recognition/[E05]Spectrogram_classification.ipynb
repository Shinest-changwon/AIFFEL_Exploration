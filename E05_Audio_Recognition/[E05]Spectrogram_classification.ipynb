{
 "cells": [
  {
   "cell_type": "markdown",
   "id": "warming-accessory",
   "metadata": {},
   "source": [
    "# 🔥Exploration 5. Spectrogram classification 모델 구현🔥"
   ]
  },
  {
   "cell_type": "markdown",
   "id": "atlantic-casting",
   "metadata": {},
   "source": [
    "## 🎯프로젝트 목표🎯\n",
    "### - 2차원 Spectrogram 데이터를 입력받아 이전 학습한 모델(1차원 Waveform 데이터를 입력받아 Text라벨을 출력하는 모델을 기본 버전과 Skip-connection 버전으로 나누어 학습)과 동일한 역할을 수행하는 모델 작성\n",
    "\n",
    "## ✅프로젝트 순서✅\n",
    "### 1. 데이터 처리와 분류\n",
    "### 2. 학습을 위한 파라미터 설정\n",
    "### 3. 데이터셋 구성\n",
    "### 4. 2차원 Spectrogram 데이터를 처리하는 모델 구성\n",
    "### 5. 학습 후, 학습이 어떻게 진행됐는지 그래프로 출력\n",
    "### 6. Test dataset을 이용해서 모델의 성능을 평가\n",
    "### 7. 루브릭 평가 및 회고"
   ]
  },
  {
   "cell_type": "markdown",
   "id": "split-implement",
   "metadata": {},
   "source": [
    " \n",
    " \n",
    "  \n",
    "  \n",
    "   \n",
    "    \n",
    "    \n",
    "    \n",
    "    "
   ]
  },
  {
   "cell_type": "markdown",
   "id": "decreased-dinner",
   "metadata": {},
   "source": [
    "## 1. 데이터 처리와 분류\n",
    "* ### 라벨 데이터 처리하기\n",
    "* ### sklearn의 train_test_split함수를 이용해 train, test 분리\n"
   ]
  },
  {
   "cell_type": "markdown",
   "id": "identified-austin",
   "metadata": {},
   "source": [
    "### 1-1. 데이터 불러오기 & 살펴보기"
   ]
  },
  {
   "cell_type": "code",
   "execution_count": 1,
   "id": "abstract-conditions",
   "metadata": {
    "scrolled": true
   },
   "outputs": [
    {
     "name": "stdout",
     "output_type": "stream",
     "text": [
      "데이터 불러오기 완료\n"
     ]
    }
   ],
   "source": [
    "# 데이터 불러오기\n",
    "import numpy as np\n",
    "import os\n",
    "\n",
    "data_path = os.getenv(\"HOME\")+'/1.AIFFEL_Study/Exploration/E05_Audio_Recognition/data/speech_wav_8000.npz'\n",
    "speech_data = np.load(data_path)\n",
    "\n",
    "print(\"데이터 불러오기 완료\")"
   ]
  },
  {
   "cell_type": "code",
   "execution_count": 2,
   "id": "alike-table",
   "metadata": {},
   "outputs": [],
   "source": [
    "os.environ['TF_FORCE_GPU_ALLOW_GROWTH'] = 'true' # 노드를 진행할때도 해당 코드를 한번 실행해주고 Tensorflow를 사용해보세요!"
   ]
  },
  {
   "cell_type": "code",
   "execution_count": 3,
   "id": "absolute-comedy",
   "metadata": {},
   "outputs": [
    {
     "name": "stdout",
     "output_type": "stream",
     "text": [
      "Wave data shape :  (50620, 8000)\n",
      "Label data shape :  (50620, 1)\n",
      "데이터 살펴보기 완료\n"
     ]
    }
   ],
   "source": [
    "# 데이터 살펴보기\n",
    "print(\"Wave data shape : \", speech_data[\"wav_vals\"].shape)\n",
    "print(\"Label data shape : \", speech_data[\"label_vals\"].shape)\n",
    "print(\"데이터 살펴보기 완료\")"
   ]
  },
  {
   "cell_type": "markdown",
   "id": "hydraulic-needle",
   "metadata": {},
   "source": [
    "### >>> 데이터는 1초 길이이며, 50,620개를 가지고 있다."
   ]
  },
  {
   "cell_type": "code",
   "execution_count": 4,
   "id": "provincial-stable",
   "metadata": {
    "scrolled": true
   },
   "outputs": [
    {
     "name": "stdout",
     "output_type": "stream",
     "text": [
      "rand num :  43527\n",
      "Wave data shape :  (8000,)\n",
      "label :  ['unknown']\n",
      "rand: 43527\n"
     ]
    },
    {
     "data": {
      "text/html": [
       "\n",
       "                <audio  controls=\"controls\" >\n",
       "                    <source src=\"data:audio/wav;base64,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\" type=\"audio/wav\" />\n",
       "                    Your browser does not support the audio element.\n",
       "                </audio>\n",
       "              "
      ],
      "text/plain": [
       "<IPython.lib.display.Audio object>"
      ]
     },
     "execution_count": 4,
     "metadata": {},
     "output_type": "execute_result"
    }
   ],
   "source": [
    "import IPython.display as ipd\n",
    "\n",
    "import random\n",
    "\n",
    "# 데이터 선택 (랜덤하게 선택하고 있으니, 여러번 실행해 보세요)\n",
    "rand = random.randint(0, len(speech_data[\"wav_vals\"]//2))\n",
    "print(\"rand num : \", rand)\n",
    "\n",
    "sr = 8000 # 1초동안 재생되는 샘플의 갯수\n",
    "data = speech_data[\"wav_vals\"][rand]\n",
    "print(\"Wave data shape : \", data.shape)\n",
    "print(\"label : \", speech_data[\"label_vals\"][rand])\n",
    "print('rand:', rand)\n",
    "ipd.Audio(data, rate=sr)"
   ]
  },
  {
   "cell_type": "markdown",
   "id": "turkish-grass",
   "metadata": {},
   "source": [
    "### >>> 오디오 데이터에서 사용되는 sample rate=8000을 적용\n",
    "### >>> 샘플 데이터 하나 청취: 오디오 확인!"
   ]
  },
  {
   "cell_type": "markdown",
   "id": "continental-project",
   "metadata": {},
   "source": [
    "## **❗2차원 Spectrogram 데이터변환**\n",
    "### Spectrogram으로 변환하기 위해 파이썬에 있는 librosa 라이브러리 활용"
   ]
  },
  {
   "cell_type": "code",
   "execution_count": 5,
   "id": "threatened-explanation",
   "metadata": {},
   "outputs": [],
   "source": [
    "import librosa\n",
    "\n",
    "def wav2spec(wav, fft_size=258): # spectrogram shape을 맞추기위해서 size 변형\n",
    "    D = np.abs(librosa.stft(wav, n_fft=fft_size))\n",
    "    return D"
   ]
  },
  {
   "cell_type": "code",
   "execution_count": 6,
   "id": "personalized-phenomenon",
   "metadata": {
    "scrolled": false
   },
   "outputs": [
    {
     "name": "stdout",
     "output_type": "stream",
     "text": [
      "(25310, 130, 126)\n",
      "[[8.9552603e-04 1.3810064e-03 1.6072338e-03 ... 2.0662896e-02\n",
      "  7.1404278e-02 1.1528762e-01]\n",
      " [6.0091719e-05 1.0750835e-03 9.6700463e-04 ... 6.3589118e-02\n",
      "  7.1058586e-02 1.8128322e-01]\n",
      " [1.1767675e-03 5.5588660e-04 3.7995775e-04 ... 1.0615811e-01\n",
      "  2.9328763e-01 4.1529435e-01]\n",
      " ...\n",
      " [1.8260365e-05 9.7071952e-06 5.9431427e-06 ... 2.2589404e-05\n",
      "  8.9194457e-04 1.7504499e-03]\n",
      " [1.6128397e-05 6.9310840e-06 4.3358773e-07 ... 2.9531270e-06\n",
      "  8.8640873e-04 1.7095361e-03]\n",
      " [1.5151313e-05 8.8060378e-06 9.0604811e-07 ... 4.4976341e-06\n",
      "  8.7678141e-04 1.6987949e-03]]\n"
     ]
    }
   ],
   "source": [
    "spec_data = []\n",
    "for wav in speech_data[\"wav_vals\"][:len(speech_data[\"wav_vals\"])//2]:\n",
    "    spec_data.append(wav2spec(wav))\n",
    "    \n",
    "spec_arr = np.array(spec_data)\n",
    "print(spec_arr.shape)\n",
    "print(spec_arr[10]) # Spectrogram의 10번 데이터 확인"
   ]
  },
  {
   "cell_type": "code",
   "execution_count": 7,
   "id": "continued-polls",
   "metadata": {
    "scrolled": true
   },
   "outputs": [
    {
     "name": "stdout",
     "output_type": "stream",
     "text": [
      "Waveform shape :  (8000,)\n",
      "Spectrogram shape :  (130, 126)\n"
     ]
    }
   ],
   "source": [
    "print(\"Waveform shape : \", speech_data[\"wav_vals\"][10].shape)\n",
    "print(\"Spectrogram shape : \", spec_arr[10].shape)"
   ]
  },
  {
   "cell_type": "markdown",
   "id": "loaded-photographer",
   "metadata": {},
   "source": [
    "### >>> Waveform 데이터: 1차원의 데이터이며 8000개\n",
    "### >>> Spectrogram 데이터: 2차원 데이터로 변환! (130, 126)"
   ]
  },
  {
   "cell_type": "markdown",
   "id": "animated-collectible",
   "metadata": {},
   "source": [
    "## **❗2차원 Spectrogram 출력**"
   ]
  },
  {
   "cell_type": "code",
   "execution_count": 8,
   "id": "alone-yacht",
   "metadata": {},
   "outputs": [
    {
     "data": {
      "image/png": "[encoded data removed]",
      "text/plain": [
       "<Figure size 432x288 with 2 Axes>"
      ]
     },
     "metadata": {
      "needs_background": "light"
     },
     "output_type": "display_data"
    }
   ],
   "source": [
    "import librosa.display\n",
    "import matplotlib.pyplot as plt\n",
    "\n",
    "spec = spec_data[10]\n",
    "librosa.display.specshow(librosa.amplitude_to_db(spec, ref=np.max), x_axis='time')\n",
    "plt.title('Power spectrogram')\n",
    "plt.colorbar(format='%+2.0f dB')\n",
    "plt.xticks(range(0, 1))\n",
    "plt.tight_layout()\n",
    "plt.show()"
   ]
  },
  {
   "cell_type": "markdown",
   "id": "suited-blade",
   "metadata": {},
   "source": [
    " \n"
   ]
  },
  {
   "cell_type": "markdown",
   "id": "genuine-visibility",
   "metadata": {},
   "source": [
    "### **1-2. train, test나누기 & 라벨링**\n",
    "### - 현재 단어의 정답은 문자열이므로 학습가능한 형태(int, bool 등)로 변경 필요\n",
    "### label 목록 = ['yes', 'no', 'up', 'down', 'left', 'right', 'on', 'off', 'stop', 'go' ]\n",
    "### 위 목록이외의 데이터들은 'unknown', 'silence'로 분류되어 있습니다."
   ]
  },
  {
   "cell_type": "markdown",
   "id": "exact-contract",
   "metadata": {},
   "source": [
    "## **❗라벨 출력 및 라벨별 숫자 부여(int로 변경해 학습에 이용하기 위함!!)**"
   ]
  },
  {
   "cell_type": "code",
   "execution_count": 9,
   "id": "widespread-simple",
   "metadata": {
    "scrolled": true
   },
   "outputs": [
    {
     "name": "stdout",
     "output_type": "stream",
     "text": [
      "LABEL :  ['yes', 'no', 'up', 'down', 'left', 'right', 'on', 'off', 'stop', 'go', 'unknown', 'silence']\n",
      "Indexed LABEL :  {'yes': 0, 'no': 1, 'up': 2, 'down': 3, 'left': 4, 'right': 5, 'on': 6, 'off': 7, 'stop': 8, 'go': 9, 'unknown': 10, 'silence': 11}\n"
     ]
    }
   ],
   "source": [
    "# 라벨 출력 및 라벨별 숫자 부여(int로 변경해 학습에 이용하기 위함!!)\n",
    "\n",
    "target_list = ['yes', 'no', 'up', 'down', 'left', 'right', 'on', 'off', 'stop', 'go']\n",
    "\n",
    "label_value = target_list\n",
    "label_value.append('unknown')\n",
    "label_value.append('silence')\n",
    "\n",
    "print('LABEL : ', label_value)\n",
    "\n",
    "new_label_value = dict()\n",
    "for i, l in enumerate(label_value):\n",
    "    new_label_value[l] = i\n",
    "label_value = new_label_value\n",
    "\n",
    "print('Indexed LABEL : ', new_label_value)"
   ]
  },
  {
   "cell_type": "markdown",
   "id": "patient-finland",
   "metadata": {},
   "source": [
    "## **❗라벨 데이터 만들기**"
   ]
  },
  {
   "cell_type": "code",
   "execution_count": 10,
   "id": "governmental-texas",
   "metadata": {
    "scrolled": true
   },
   "outputs": [
    {
     "name": "stdout",
     "output_type": "stream",
     "text": [
      "[3 3 3 ... 9 9 9]\n",
      "25310\n"
     ]
    }
   ],
   "source": [
    "# 라벨 데이터 만들기\n",
    "\n",
    "temp = []\n",
    "for v in speech_data[\"label_vals\"][:len(speech_data[\"label_vals\"])//2]:\n",
    "    temp.append(label_value[v[0]])\n",
    "label_data = np.array(temp)\n",
    "\n",
    "print(label_data)\n",
    "print(len(label_data))"
   ]
  },
  {
   "cell_type": "markdown",
   "id": "major-reducing",
   "metadata": {},
   "source": [
    "## **❗train, test 분리**"
   ]
  },
  {
   "cell_type": "code",
   "execution_count": 11,
   "id": "pleased-appraisal",
   "metadata": {},
   "outputs": [
    {
     "name": "stdout",
     "output_type": "stream",
     "text": [
      "(22779, 130, 126, 1)\n"
     ]
    }
   ],
   "source": [
    "# train, test 분리\n",
    "\n",
    "from sklearn.model_selection import train_test_split\n",
    "sr = spec_arr.shape[1] \n",
    "sc = spec_arr.shape[2]\n",
    "train_spectrogram, test_spectrogram, train_label, test_label = train_test_split(spec_arr, \n",
    "                                                                label_data, \n",
    "                                                                test_size=0.1,\n",
    "                                                                shuffle=True)\n",
    "\n",
    "test_audio = test_spectrogram.copy()\n",
    "\n",
    "train_spectrogram = train_spectrogram.reshape([-1, sr, sc, 1]) # add channel for CNN # reshape할 때 리스트 사용해도 무방\n",
    "test_spectrogram = test_spectrogram.reshape([-1, sr, sc, 1]) # (22779, 130, 126, 1)\n",
    "print(train_spectrogram.shape)"
   ]
  },
  {
   "cell_type": "code",
   "execution_count": 12,
   "id": "owned-limitation",
   "metadata": {},
   "outputs": [
    {
     "data": {
      "text/plain": [
       "TensorShape([2531, 130, 126, 1])"
      ]
     },
     "execution_count": 12,
     "metadata": {},
     "output_type": "execute_result"
    }
   ],
   "source": [
    "# reshape에 대한 고찰\n",
    "# -1은 사용자가 계산하기 어려울 때 자동으로 컴퓨터에게 계산을 요청할 때 사용\n",
    "# 예시) (4*5) array를 (2,10)으로 변경할 때 reshape(2,-1) 또는 (-1,10)을 사용\n",
    "\n",
    "import tensorflow as tf\n",
    "type(train_spectrogram)\n",
    "test_spectrogram_ = test_spectrogram.copy()\n",
    "# test_spectrogram_ = test_spectrogram_.reshape([-1,sr,sc,1]) # list = (2531,130,126,1)\n",
    "test_spectrogram_ = tf.reshape(test_spectrogram_, [-1,sr,sc,1]) # 텐서를 reshape를 할 때는 tf 사용\n",
    "test_spectrogram_.shape"
   ]
  },
  {
   "cell_type": "code",
   "execution_count": 13,
   "id": "searching-herald",
   "metadata": {},
   "outputs": [],
   "source": [
    "del spec_data\n",
    "del speech_data\n",
    "del spec_arr\n",
    "del spec"
   ]
  },
  {
   "cell_type": "markdown",
   "id": "brown-neighborhood",
   "metadata": {},
   "source": [
    "## **❗분리된 데이터 확인**\n",
    "### >>> Train: 총 50620개 중 90%인 45558개\n",
    "### >>> Test: 총 50620개 중 10%인 5062개"
   ]
  },
  {
   "cell_type": "code",
   "execution_count": 14,
   "id": "destroyed-concept",
   "metadata": {},
   "outputs": [
    {
     "name": "stdout",
     "output_type": "stream",
     "text": [
      "train data :  (22779, 130, 126, 1)\n",
      "train labels :  (22779,)\n",
      "test data :  (2531, 130, 126, 1)\n",
      "test labels :  (2531,)\n"
     ]
    }
   ],
   "source": [
    "# 분리된 데이터 확인\n",
    "\n",
    "print(\"train data : \", train_spectrogram.shape)\n",
    "print(\"train labels : \", train_label.shape)\n",
    "print(\"test data : \", test_spectrogram.shape)\n",
    "print(\"test labels : \", test_label.shape)"
   ]
  },
  {
   "cell_type": "markdown",
   "id": "dominant-august",
   "metadata": {},
   "source": [
    " \n",
    " \n",
    "  \n",
    "  \n",
    "   \n",
    "    \n",
    "    \n",
    "    \n",
    "    "
   ]
  },
  {
   "cell_type": "markdown",
   "id": "every-estate",
   "metadata": {},
   "source": [
    "## 2. 학습을 위한 파라미터 설정"
   ]
  },
  {
   "cell_type": "markdown",
   "id": "modular-scientist",
   "metadata": {},
   "source": [
    "## **❗파라미터 설정**\n",
    "### >>> 모델 체크포인트 저장을 위한 체크포인트 경로 설정\n",
    "### >>> 나중에 모델 체크포인트 Callback 함수를 설정하거나, 모델을 불러올 때 사용!\n",
    "### >>> 배치사이즈 = 32 (전체 데이터를 10개 단위로 쪼개어 학습 진행)\n",
    "### >>> 최대epoch = 10 (학습을 진행 시 최대 몇회까지 학습을 할 것인지 지정)"
   ]
  },
  {
   "cell_type": "code",
   "execution_count": 15,
   "id": "toxic-asian",
   "metadata": {},
   "outputs": [
    {
     "data": {
      "text/plain": [
       "'/home/aiffel-dj40/1.AIFFEL_Study/Exploration/E05_Audio_Recognition//models/wav'"
      ]
     },
     "execution_count": 15,
     "metadata": {},
     "output_type": "execute_result"
    }
   ],
   "source": [
    "batch_size = 32\n",
    "max_epochs = 10\n",
    "\n",
    "# the save point\n",
    "checkpoint_dir = os.getenv('HOME')+'/1.AIFFEL_Study/Exploration/E05_Audio_Recognition//models/wav'\n",
    "\n",
    "checkpoint_dir"
   ]
  },
  {
   "cell_type": "markdown",
   "id": "willing-egyptian",
   "metadata": {},
   "source": [
    " \n",
    " \n",
    "  \n",
    "  \n",
    "   \n",
    "    \n",
    "    \n",
    "    \n",
    "    "
   ]
  },
  {
   "cell_type": "markdown",
   "id": "atomic-covering",
   "metadata": {},
   "source": [
    "## 3. 데이터셋 구성\n",
    "* ### tf.data.Dataset 이용\n",
    "* ### from_tensor_slices 함수에 return 받길 원하는 데이터를 튜플 (data, label) 형태로 넣어서 사용\n",
    "* ### map과 batch를 이용한 데이터 전처리\n",
    "* ### 주의 : waveform을 spectrogram으로 변환하기 위해 추가로 사용하는 메모리 때문에 이후 메모리 부족 현상을 겪게 될수도 있습니다. tf.data.Dataset이 생성된 이후, 아래 예시와 같이 wav 데이터나 spectrogram 데이터를 담아둔 메모리 버퍼를 비워 주면 도움이 됩니다. "
   ]
  },
  {
   "cell_type": "markdown",
   "id": "hispanic-robertson",
   "metadata": {},
   "source": [
    "## **❗one_hot 메소드 활용**"
   ]
  },
  {
   "cell_type": "code",
   "execution_count": 16,
   "id": "compressed-renaissance",
   "metadata": {},
   "outputs": [
    {
     "name": "stdout",
     "output_type": "stream",
     "text": [
      "✅\n"
     ]
    }
   ],
   "source": [
    "def one_hot_label(wav, label):\n",
    "    label = tf.one_hot(label, depth=12)\n",
    "    return wav, label\n",
    "print(\"✅\")"
   ]
  },
  {
   "cell_type": "markdown",
   "id": "broken-lender",
   "metadata": {},
   "source": [
    "## **❗tf.data.Dataset 함수 구성**\n",
    "### Tensorflow에 포함된 이 데이터셋 관리 패키지는 데이터셋 전처리, 배치처리 등을 쉽게 할 수 있게 한다.\n",
    "### tf.data.Dataset.from_tensor_slices 함수에 return 받길 원하는 데이터를 튜플 (data, label) 형태로 넣어서 사용할 수 있다."
   ]
  },
  {
   "cell_type": "code",
   "execution_count": 17,
   "id": "median-exemption",
   "metadata": {},
   "outputs": [
    {
     "name": "stdout",
     "output_type": "stream",
     "text": [
      "<BatchDataset shapes: ((None, 130, 126, 1), (None, 12)), types: (tf.float32, tf.float32)>\n"
     ]
    }
   ],
   "source": [
    "import tensorflow as tf\n",
    "\n",
    "# for train\n",
    "train_dataset = tf.data.Dataset.from_tensor_slices((train_spectrogram, train_label))\n",
    "train_dataset = train_dataset.map(one_hot_label) # from_tensor_slice에 입력한 튜플 형태로 데이터를 받으려 리턴값으로 어떤 데이터 반환할 지 결정\n",
    "train_dataset = train_dataset.repeat().batch(batch_size=batch_size)\n",
    "print(train_dataset)"
   ]
  },
  {
   "cell_type": "code",
   "execution_count": 18,
   "id": "flexible-afghanistan",
   "metadata": {},
   "outputs": [
    {
     "name": "stdout",
     "output_type": "stream",
     "text": [
      "<BatchDataset shapes: ((None, 130, 126, 1), (None, 12)), types: (tf.float32, tf.float32)>\n"
     ]
    }
   ],
   "source": [
    "# for test\n",
    "test_dataset = tf.data.Dataset.from_tensor_slices((test_spectrogram, test_label))\n",
    "test_dataset = test_dataset.map(one_hot_label)\n",
    "test_dataset = test_dataset.batch(batch_size=batch_size)\n",
    "print(test_dataset)"
   ]
  },
  {
   "cell_type": "markdown",
   "id": "hidden-terrorist",
   "metadata": {},
   "source": [
    " \n",
    " \n",
    "  \n",
    "  \n",
    "   \n",
    "    \n",
    "    \n",
    "    \n",
    "    "
   ]
  },
  {
   "cell_type": "markdown",
   "id": "historical-jerusalem",
   "metadata": {},
   "source": [
    "## 4. 2차원 Spectrogram 데이터를 처리하는 모델 구성\n",
    "* ### 2차원 Spectrogram 데이터의 시간축 방향으로 Conv1D layer를 적용, 혹은 Conv2D layer를 적용 가능\n",
    "* ### batchnorm, dropout, dense layer 등을 이용\n",
    "* ### 12개의 단어 class를 구분하는 loss를 사용하고 Adam optimizer를 사용\n",
    "* ### 모델 가중치를 저장하는 checkpoint callback 함수 추가\n",
    "* ### 다양한 모델의 실험을 진행해 보시기 바랍니다."
   ]
  },
  {
   "cell_type": "markdown",
   "id": "portuguese-domain",
   "metadata": {},
   "source": [
    "## **❗모델 설계 (1) - Conv1D**"
   ]
  },
  {
   "cell_type": "code",
   "execution_count": 19,
   "id": "voluntary-jackson",
   "metadata": {
    "scrolled": true
   },
   "outputs": [
    {
     "name": "stdout",
     "output_type": "stream",
     "text": [
      "Model: \"model\"\n",
      "_________________________________________________________________\n",
      "Layer (type)                 Output Shape              Param #   \n",
      "=================================================================\n",
      "input_1 (InputLayer)         [(None, 130, 126)]        0         \n",
      "_________________________________________________________________\n",
      "conv1d (Conv1D)              (None, 130, 32)           36320     \n",
      "_________________________________________________________________\n",
      "conv1d_1 (Conv1D)            (None, 130, 32)           9248      \n",
      "_________________________________________________________________\n",
      "max_pooling1d (MaxPooling1D) (None, 65, 32)            0         \n",
      "_________________________________________________________________\n",
      "conv1d_2 (Conv1D)            (None, 65, 64)            18496     \n",
      "_________________________________________________________________\n",
      "conv1d_3 (Conv1D)            (None, 65, 64)            36928     \n",
      "_________________________________________________________________\n",
      "max_pooling1d_1 (MaxPooling1 (None, 32, 64)            0         \n",
      "_________________________________________________________________\n",
      "conv1d_4 (Conv1D)            (None, 32, 128)           73856     \n",
      "_________________________________________________________________\n",
      "conv1d_5 (Conv1D)            (None, 32, 128)           147584    \n",
      "_________________________________________________________________\n",
      "conv1d_6 (Conv1D)            (None, 32, 128)           147584    \n",
      "_________________________________________________________________\n",
      "max_pooling1d_2 (MaxPooling1 (None, 16, 128)           0         \n",
      "_________________________________________________________________\n",
      "conv1d_7 (Conv1D)            (None, 16, 256)           295168    \n",
      "_________________________________________________________________\n",
      "conv1d_8 (Conv1D)            (None, 16, 256)           590080    \n",
      "_________________________________________________________________\n",
      "conv1d_9 (Conv1D)            (None, 16, 256)           590080    \n",
      "_________________________________________________________________\n",
      "max_pooling1d_3 (MaxPooling1 (None, 8, 256)            0         \n",
      "_________________________________________________________________\n",
      "dropout (Dropout)            (None, 8, 256)            0         \n",
      "_________________________________________________________________\n",
      "flatten (Flatten)            (None, 2048)              0         \n",
      "_________________________________________________________________\n",
      "dense (Dense)                (None, 256)               524544    \n",
      "_________________________________________________________________\n",
      "batch_normalization (BatchNo (None, 256)               1024      \n",
      "_________________________________________________________________\n",
      "activation (Activation)      (None, 256)               0         \n",
      "_________________________________________________________________\n",
      "dense_1 (Dense)              (None, 12)                3084      \n",
      "=================================================================\n",
      "Total params: 2,473,996\n",
      "Trainable params: 2,473,484\n",
      "Non-trainable params: 512\n",
      "_________________________________________________________________\n"
     ]
    }
   ],
   "source": [
    "from tensorflow.keras import layers\n",
    "\n",
    "input_tensor = layers.Input(shape=(sr,sc,))\n",
    "\n",
    "x = layers.Conv1D(32, 9, padding='same', activation='relu')(input_tensor)\n",
    "x = layers.Conv1D(32, 9, padding='same', activation='relu')(x)\n",
    "x = layers.MaxPool1D()(x)\n",
    "\n",
    "x = layers.Conv1D(64, 9, padding='same', activation='relu')(x)\n",
    "x = layers.Conv1D(64, 9, padding='same', activation='relu')(x)\n",
    "x = layers.MaxPool1D()(x)\n",
    "\n",
    "x = layers.Conv1D(128, 9, padding='same', activation='relu')(x)\n",
    "x = layers.Conv1D(128, 9, padding='same', activation='relu')(x)\n",
    "x = layers.Conv1D(128, 9, padding='same', activation='relu')(x)\n",
    "x = layers.MaxPool1D()(x)\n",
    "\n",
    "x = layers.Conv1D(256, 9, padding='same', activation='relu')(x)\n",
    "x = layers.Conv1D(256, 9, padding='same', activation='relu')(x)\n",
    "x = layers.Conv1D(256, 9, padding='same', activation='relu')(x)\n",
    "x = layers.MaxPool1D()(x)\n",
    "x = layers.Dropout(0.3)(x)\n",
    "\n",
    "x = layers.Flatten()(x)\n",
    "x = layers.Dense(256)(x)\n",
    "x = layers.BatchNormalization()(x)\n",
    "x = layers.Activation('relu')(x)\n",
    "\n",
    "output_tensor = layers.Dense(12)(x)\n",
    "\n",
    "model_spectrogram = tf.keras.Model(input_tensor, output_tensor)\n",
    "\n",
    "model_spectrogram.summary()"
   ]
  },
  {
   "cell_type": "markdown",
   "id": "needed-punch",
   "metadata": {},
   "source": [
    "## **❗12개의 단어 class를 구분하는 loss를 사용하고 Adam optimizer를 사용**\n",
    "### class를 구분하기 위해 multi-class classification 사용, 이를 수행하기 위한 loss로 Categorical Cross-Entropy loss사용"
   ]
  },
  {
   "cell_type": "code",
   "execution_count": 20,
   "id": "focused-blame",
   "metadata": {},
   "outputs": [
    {
     "name": "stdout",
     "output_type": "stream",
     "text": [
      "✅\n"
     ]
    }
   ],
   "source": [
    "optimizer=tf.keras.optimizers.Adam(1e-4)\n",
    "model_spectrogram.compile(loss=tf.keras.losses.CategoricalCrossentropy(from_logits=True),\n",
    "             optimizer=optimizer,\n",
    "             metrics=['accuracy'])\n",
    "print(\"✅\")"
   ]
  },
  {
   "cell_type": "markdown",
   "id": "accessory-sister",
   "metadata": {},
   "source": [
    "## **❗callback**\n",
    "### model.fit 사용시 callback함수를 이용해 학습 중간 원하는 동작을 하도록 설정 가능\n",
    "### 모델 재사용을 위해 가중치를 저장하는 callback 함수 추가\n",
    "### ModelCheckpoin메소드는 학습을 진행하며 다양한 인자를 지정해서 모니터하며 동작하게 설정할 수 있다.\n",
    "### 아래는 검증 loss가 낮아지면 모델 파라미터를 저장하도록 구성."
   ]
  },
  {
   "cell_type": "code",
   "execution_count": 21,
   "id": "joined-leave",
   "metadata": {},
   "outputs": [
    {
     "name": "stdout",
     "output_type": "stream",
     "text": [
      "✅\n"
     ]
    }
   ],
   "source": [
    "cp_callback = tf.keras.callbacks.ModelCheckpoint(checkpoint_dir,\n",
    "                                                 save_weights_only=True,\n",
    "                                                 monitor='val_loss',\n",
    "                                                 mode='auto',\n",
    "                                                 save_best_only=True,\n",
    "                                                 verbose=1)\n",
    "print(\"✅\")"
   ]
  },
  {
   "cell_type": "markdown",
   "id": "bound-beast",
   "metadata": {},
   "source": [
    "## **❗학습 (1) - Conv1D**\n",
    "### 배치 사이즈 = 32, 최대epoch = 10으로 설정함(파라미터 설정 부분에서 정의함)"
   ]
  },
  {
   "cell_type": "code",
   "execution_count": 22,
   "id": "constitutional-reunion",
   "metadata": {},
   "outputs": [
    {
     "name": "stdout",
     "output_type": "stream",
     "text": [
      "Epoch 1/10\n",
      "706/711 [============================>.] - ETA: 0s - loss: 1.5422 - accuracy: 0.4713\n",
      "Epoch 00001: val_loss improved from inf to 1.07369, saving model to /home/aiffel-dj40/1.AIFFEL_Study/Exploration/E05_Audio_Recognition//models/wav\n",
      "711/711 [==============================] - 6s 8ms/step - loss: 1.5387 - accuracy: 0.4725 - val_loss: 1.0737 - val_accuracy: 0.6262\n",
      "Epoch 2/10\n",
      "708/711 [============================>.] - ETA: 0s - loss: 0.8437 - accuracy: 0.7085\n",
      "Epoch 00002: val_loss improved from 1.07369 to 0.66623, saving model to /home/aiffel-dj40/1.AIFFEL_Study/Exploration/E05_Audio_Recognition//models/wav\n",
      "711/711 [==============================] - 6s 8ms/step - loss: 0.8430 - accuracy: 0.7086 - val_loss: 0.6662 - val_accuracy: 0.7729\n",
      "Epoch 3/10\n",
      "709/711 [============================>.] - ETA: 0s - loss: 0.5441 - accuracy: 0.8158\n",
      "Epoch 00003: val_loss improved from 0.66623 to 0.53566, saving model to /home/aiffel-dj40/1.AIFFEL_Study/Exploration/E05_Audio_Recognition//models/wav\n",
      "711/711 [==============================] - 5s 8ms/step - loss: 0.5439 - accuracy: 0.8158 - val_loss: 0.5357 - val_accuracy: 0.8176\n",
      "Epoch 4/10\n",
      "708/711 [============================>.] - ETA: 0s - loss: 0.4041 - accuracy: 0.8659\n",
      "Epoch 00004: val_loss improved from 0.53566 to 0.44114, saving model to /home/aiffel-dj40/1.AIFFEL_Study/Exploration/E05_Audio_Recognition//models/wav\n",
      "711/711 [==============================] - 5s 8ms/step - loss: 0.4035 - accuracy: 0.8662 - val_loss: 0.4411 - val_accuracy: 0.8528\n",
      "Epoch 5/10\n",
      "710/711 [============================>.] - ETA: 0s - loss: 0.3146 - accuracy: 0.8949\n",
      "Epoch 00005: val_loss improved from 0.44114 to 0.41999, saving model to /home/aiffel-dj40/1.AIFFEL_Study/Exploration/E05_Audio_Recognition//models/wav\n",
      "711/711 [==============================] - 5s 7ms/step - loss: 0.3144 - accuracy: 0.8950 - val_loss: 0.4200 - val_accuracy: 0.8623\n",
      "Epoch 6/10\n",
      "707/711 [============================>.] - ETA: 0s - loss: 0.2488 - accuracy: 0.9170\n",
      "Epoch 00006: val_loss improved from 0.41999 to 0.37313, saving model to /home/aiffel-dj40/1.AIFFEL_Study/Exploration/E05_Audio_Recognition//models/wav\n",
      "711/711 [==============================] - 5s 8ms/step - loss: 0.2486 - accuracy: 0.9171 - val_loss: 0.3731 - val_accuracy: 0.8774\n",
      "Epoch 7/10\n",
      "707/711 [============================>.] - ETA: 0s - loss: 0.2070 - accuracy: 0.9307\n",
      "Epoch 00007: val_loss did not improve from 0.37313\n",
      "711/711 [==============================] - 5s 7ms/step - loss: 0.2068 - accuracy: 0.9308 - val_loss: 0.3806 - val_accuracy: 0.8746\n",
      "Epoch 8/10\n",
      "711/711 [==============================] - ETA: 0s - loss: 0.1771 - accuracy: 0.9402\n",
      "Epoch 00008: val_loss improved from 0.37313 to 0.35893, saving model to /home/aiffel-dj40/1.AIFFEL_Study/Exploration/E05_Audio_Recognition//models/wav\n",
      "711/711 [==============================] - 5s 8ms/step - loss: 0.1771 - accuracy: 0.9402 - val_loss: 0.3589 - val_accuracy: 0.8841\n",
      "Epoch 9/10\n",
      "704/711 [============================>.] - ETA: 0s - loss: 0.1521 - accuracy: 0.9487\n",
      "Epoch 00009: val_loss did not improve from 0.35893\n",
      "711/711 [==============================] - 5s 7ms/step - loss: 0.1518 - accuracy: 0.9487 - val_loss: 0.3624 - val_accuracy: 0.8813\n",
      "Epoch 10/10\n",
      "707/711 [============================>.] - ETA: 0s - loss: 0.1325 - accuracy: 0.9549\n",
      "Epoch 00010: val_loss improved from 0.35893 to 0.35859, saving model to /home/aiffel-dj40/1.AIFFEL_Study/Exploration/E05_Audio_Recognition//models/wav\n",
      "711/711 [==============================] - 5s 7ms/step - loss: 0.1324 - accuracy: 0.9549 - val_loss: 0.3586 - val_accuracy: 0.8884\n",
      "✅\n"
     ]
    }
   ],
   "source": [
    "#30분 내외 소요 (메모리 사용량에 주의해 주세요.)\n",
    "history_spectrogram = model_spectrogram.fit(train_dataset, epochs=max_epochs,\n",
    "                    steps_per_epoch=len(train_spectrogram) // batch_size,\n",
    "                    validation_data=test_dataset,\n",
    "                    validation_steps=len(test_spectrogram) // batch_size,\n",
    "                    callbacks=[cp_callback]\n",
    "                    )\n",
    "print(\"✅\")"
   ]
  },
  {
   "cell_type": "markdown",
   "id": "blessed-career",
   "metadata": {},
   "source": [
    " \n",
    " \n",
    "  \n",
    "  \n",
    "   \n",
    "    \n",
    "    \n",
    "    \n",
    "    "
   ]
  },
  {
   "cell_type": "markdown",
   "id": "million-concept",
   "metadata": {},
   "source": [
    "## 5. 학습 후, 학습이 어떻게 진행됐는지 그래프로 출력\n",
    "* ### loss, accuracy를 그래프로 표현"
   ]
  },
  {
   "cell_type": "markdown",
   "id": "alive-european",
   "metadata": {},
   "source": [
    "## **❗학습결과 Plot (1) - Conv1D**\n",
    "### history메소드를 활용해 저장된 정확도와 loss를 불러와 그래프 시각화 진행\n",
    "### >>> epoch=2 이후부터 train_loss 와 val_loss 차이가 커져 오버피팅 의심"
   ]
  },
  {
   "cell_type": "code",
   "execution_count": 23,
   "id": "warming-marker",
   "metadata": {
    "scrolled": true
   },
   "outputs": [
    {
     "data": {
      "image/png": "[encoded data removed]",
      "text/plain": [
       "<Figure size 576x576 with 2 Axes>"
      ]
     },
     "metadata": {
      "needs_background": "light"
     },
     "output_type": "display_data"
    },
    {
     "name": "stdout",
     "output_type": "stream",
     "text": [
      "✅\n"
     ]
    }
   ],
   "source": [
    "import matplotlib.pyplot as plt\n",
    "\n",
    "acc = history_spectrogram.history['accuracy']\n",
    "val_acc = history_spectrogram.history['val_accuracy']\n",
    "\n",
    "loss=history_spectrogram.history['loss']\n",
    "val_loss=history_spectrogram.history['val_loss']\n",
    "\n",
    "epochs_range = range(len(acc))\n",
    "\n",
    "plt.figure(figsize=(8, 8))\n",
    "plt.subplot(1, 2, 1)\n",
    "plt.plot(epochs_range, acc, label='Training Accuracy')\n",
    "plt.plot(epochs_range, val_acc, label='Validation Accuracy')\n",
    "plt.legend(loc='lower right')\n",
    "plt.title('Training and Validation Accuracy')\n",
    "\n",
    "plt.subplot(1, 2, 2)\n",
    "plt.plot(epochs_range, loss, label='Training Loss')\n",
    "plt.plot(epochs_range, val_loss, label='Validation Loss')\n",
    "plt.legend(loc='upper right')\n",
    "plt.title('Training and Validation Loss')\n",
    "plt.show()\n",
    "print(\"✅\")"
   ]
  },
  {
   "cell_type": "markdown",
   "id": "subjective-blanket",
   "metadata": {},
   "source": [
    " \n",
    " \n",
    "  \n",
    "  \n",
    "   \n",
    "    \n",
    "    \n",
    "    \n",
    "    "
   ]
  },
  {
   "cell_type": "markdown",
   "id": "acceptable-narrative",
   "metadata": {},
   "source": [
    " \n",
    " \n",
    "  \n",
    "  \n",
    "   \n",
    "    \n",
    "    \n",
    "    \n",
    "    "
   ]
  },
  {
   "cell_type": "markdown",
   "id": "marine-objective",
   "metadata": {},
   "source": [
    "## 6. Test dataset을 이용해서 모델의 성능을 평가\n",
    "* ### 저장한 weight 불러오기\n",
    "* ### 모델의 예측값과 정답값이 얼마나 일치하는지 확인\n"
   ]
  },
  {
   "cell_type": "markdown",
   "id": "quality-packing",
   "metadata": {},
   "source": [
    "## **❗모델 평가 (1) - Conv1D**\n",
    "### checkpoint callback 함수가 저장한 weight를 다시 불러와서 테스트 준비"
   ]
  },
  {
   "cell_type": "code",
   "execution_count": 24,
   "id": "excited-exhibition",
   "metadata": {},
   "outputs": [
    {
     "name": "stdout",
     "output_type": "stream",
     "text": [
      "✅\n"
     ]
    }
   ],
   "source": [
    "# 평가\n",
    "model_spectrogram.load_weights(checkpoint_dir)\n",
    "print(\"✅\")"
   ]
  },
  {
   "cell_type": "markdown",
   "id": "reliable-european",
   "metadata": {},
   "source": [
    "## **❗Test data를 이용해 모델의 예측값과 실제값이 얼마나 일치하는지 확인 (1) - Conv1D**"
   ]
  },
  {
   "cell_type": "code",
   "execution_count": 25,
   "id": "announced-poison",
   "metadata": {},
   "outputs": [
    {
     "name": "stdout",
     "output_type": "stream",
     "text": [
      "80/80 [==============================] - 16s 196ms/step - loss: 0.3589 - accuracy: 0.8882\n",
      "✅\n"
     ]
    }
   ],
   "source": [
    "# Test data을 이용하여 모델의 예측값과 실제값이 얼마나 일치하는지 확인하겠습니다.\n",
    "results = model_spectrogram.evaluate(test_dataset)\n",
    "print(\"✅\")"
   ]
  },
  {
   "cell_type": "code",
   "execution_count": 26,
   "id": "friendly-format",
   "metadata": {
    "scrolled": true
   },
   "outputs": [
    {
     "name": "stdout",
     "output_type": "stream",
     "text": [
      "loss value: 0.359\n",
      "accuracy value: 88.8187%\n",
      "✅\n"
     ]
    }
   ],
   "source": [
    "# loss\n",
    "print(\"loss value: {:.3f}\".format(results[0]))\n",
    "# accuracy\n",
    "print(\"accuracy value: {:.4f}%\".format(results[1]*100))\n",
    "print(\"✅\")"
   ]
  },
  {
   "cell_type": "markdown",
   "id": "technological-handy",
   "metadata": {},
   "source": [
    "## **❗Test data set을 골라 직접 들어보고 모델의 예측이 맞는지 확인 (1) - Conv1D**"
   ]
  },
  {
   "cell_type": "code",
   "execution_count": 27,
   "id": "mature-zoning",
   "metadata": {},
   "outputs": [
    {
     "data": {
      "text/plain": [
       "{'yes': 0,\n",
       " 'no': 1,\n",
       " 'up': 2,\n",
       " 'down': 3,\n",
       " 'left': 4,\n",
       " 'right': 5,\n",
       " 'on': 6,\n",
       " 'off': 7,\n",
       " 'stop': 8,\n",
       " 'go': 9,\n",
       " 'unknown': 10,\n",
       " 'silence': 11}"
      ]
     },
     "execution_count": 27,
     "metadata": {},
     "output_type": "execute_result"
    }
   ],
   "source": [
    "label_value"
   ]
  },
  {
   "cell_type": "code",
   "execution_count": 28,
   "id": "prospective-dominant",
   "metadata": {},
   "outputs": [],
   "source": [
    "def spec2wav(wav):\n",
    "    D = np.abs(librosa.istft(wav))\n",
    "    return D"
   ]
  },
  {
   "cell_type": "code",
   "execution_count": 29,
   "id": "usual-disease",
   "metadata": {},
   "outputs": [
    {
     "name": "stdout",
     "output_type": "stream",
     "text": [
      "y_pred: down(Correct!)\n"
     ]
    }
   ],
   "source": [
    "# Test data 셋을 골라 직접 들어보고 모델의 예측이 맞는지 확인해 봅시다.\n",
    "inv_label_value = {v: k for k, v in label_value.items()}\n",
    "batch_index = np.random.choice(len(test_spectrogram), size=1, replace=False)\n",
    "\n",
    "batch_xs = test_spectrogram[batch_index]\n",
    "batch_ys = test_label[batch_index]\n",
    "y_pred_ = model_spectrogram(batch_xs, training=False)\n",
    "\n",
    "# 위에서 확인해본 테스트셋의 라벨과 우리 모델의 실제 prediction 결과를 비교해 봅시다.\n",
    "if np.argmax(y_pred_) == batch_ys[0]:\n",
    "    print(\"y_pred: \" + str(inv_label_value[np.argmax(y_pred_)]) + '(Correct!)')\n",
    "else:\n",
    "    print(\"y_pred: \" + str(inv_label_value[np.argmax(y_pred_)]) + '(Incorrect!)')"
   ]
  },
  {
   "cell_type": "code",
   "execution_count": 30,
   "id": "sonic-combining",
   "metadata": {
    "scrolled": false
   },
   "outputs": [
    {
     "data": {
      "text/plain": [
       "(2531, 8000)"
      ]
     },
     "execution_count": 30,
     "metadata": {},
     "output_type": "execute_result"
    }
   ],
   "source": [
    "data_wav = []\n",
    "for spec in test_audio:\n",
    "    wav = spec2wav(spec)\n",
    "    data_wav.append(wav)\n",
    "data_wav = np.array(data_wav)\n",
    "data_wav.shape"
   ]
  },
  {
   "cell_type": "code",
   "execution_count": 31,
   "id": "satellite-cleaner",
   "metadata": {},
   "outputs": [
    {
     "name": "stdout",
     "output_type": "stream",
     "text": [
      "label :  down\n"
     ]
    },
    {
     "data": {
      "text/html": [
       "\n",
       "                <audio  controls=\"controls\" >\n",
       "                    <source src=\"data:audio/wav;base64,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\" type=\"audio/wav\" />\n",
       "                    Your browser does not support the audio element.\n",
       "                </audio>\n",
       "              "
      ],
      "text/plain": [
       "<IPython.lib.display.Audio object>"
      ]
     },
     "execution_count": 31,
     "metadata": {},
     "output_type": "execute_result"
    }
   ],
   "source": [
    "import IPython.display as ipd\n",
    "\n",
    "x = data_wav[batch_index]\n",
    "print(\"label : \", str(inv_label_value[batch_ys[0]]))\n",
    "ipd.Audio(x.reshape(8000,), rate=8000)"
   ]
  },
  {
   "cell_type": "markdown",
   "id": "dense-feeding",
   "metadata": {},
   "source": [
    " \n",
    " \n",
    "  \n",
    "  \n",
    "   \n",
    "    \n",
    "    \n",
    "    \n",
    "    "
   ]
  },
  {
   "cell_type": "markdown",
   "id": "increased-northwest",
   "metadata": {},
   "source": [
    "## **❗모델 설계 (2) - Conv2D**"
   ]
  },
  {
   "cell_type": "markdown",
   "id": "changing-immigration",
   "metadata": {},
   "source": [
    "## ❗Conv2D 사용 (모델 설계부터 평가까지)"
   ]
  },
  {
   "cell_type": "markdown",
   "id": "fluid-charleston",
   "metadata": {},
   "source": [
    "### Conv1D -> Conv2D\n",
    "x = layers.Conv<span style=\"color:red\">**1D**</span>(32, <span style=\"color:red\">**9**</span>, padding='same', activation='relu')(input_tensor)\n",
    "\n",
    "-> x = layers.Conv<span style=\"color:red\">**2D**</span>(32, <span style=\"color:red\">**(3,3)**</span>, padding = 'same', activation = 'relu')(input_tensor)"
   ]
  },
  {
   "cell_type": "code",
   "execution_count": 32,
   "id": "electric-knitting",
   "metadata": {
    "scrolled": true
   },
   "outputs": [
    {
     "name": "stdout",
     "output_type": "stream",
     "text": [
      "Model: \"model_1\"\n",
      "_________________________________________________________________\n",
      "Layer (type)                 Output Shape              Param #   \n",
      "=================================================================\n",
      "input_2 (InputLayer)         [(None, 130, 126, 1)]     0         \n",
      "_________________________________________________________________\n",
      "conv2d (Conv2D)              (None, 130, 126, 32)      320       \n",
      "_________________________________________________________________\n",
      "conv2d_1 (Conv2D)            (None, 130, 126, 32)      9248      \n",
      "_________________________________________________________________\n",
      "max_pooling2d (MaxPooling2D) (None, 65, 63, 32)        0         \n",
      "_________________________________________________________________\n",
      "conv2d_2 (Conv2D)            (None, 65, 63, 64)        18496     \n",
      "_________________________________________________________________\n",
      "conv2d_3 (Conv2D)            (None, 65, 63, 64)        36928     \n",
      "_________________________________________________________________\n",
      "max_pooling2d_1 (MaxPooling2 (None, 32, 31, 64)        0         \n",
      "_________________________________________________________________\n",
      "conv2d_4 (Conv2D)            (None, 32, 31, 128)       73856     \n",
      "_________________________________________________________________\n",
      "conv2d_5 (Conv2D)            (None, 32, 31, 128)       147584    \n",
      "_________________________________________________________________\n",
      "conv2d_6 (Conv2D)            (None, 32, 31, 128)       147584    \n",
      "_________________________________________________________________\n",
      "max_pooling2d_2 (MaxPooling2 (None, 16, 15, 128)       0         \n",
      "_________________________________________________________________\n",
      "conv2d_7 (Conv2D)            (None, 16, 15, 256)       295168    \n",
      "_________________________________________________________________\n",
      "conv2d_8 (Conv2D)            (None, 16, 15, 256)       590080    \n",
      "_________________________________________________________________\n",
      "conv2d_9 (Conv2D)            (None, 16, 15, 256)       590080    \n",
      "_________________________________________________________________\n",
      "max_pooling2d_3 (MaxPooling2 (None, 8, 7, 256)         0         \n",
      "_________________________________________________________________\n",
      "dropout_1 (Dropout)          (None, 8, 7, 256)         0         \n",
      "_________________________________________________________________\n",
      "flatten_1 (Flatten)          (None, 14336)             0         \n",
      "_________________________________________________________________\n",
      "dense_2 (Dense)              (None, 256)               3670272   \n",
      "_________________________________________________________________\n",
      "batch_normalization_1 (Batch (None, 256)               1024      \n",
      "_________________________________________________________________\n",
      "activation_1 (Activation)    (None, 256)               0         \n",
      "_________________________________________________________________\n",
      "dense_3 (Dense)              (None, 12)                3084      \n",
      "=================================================================\n",
      "Total params: 5,583,724\n",
      "Trainable params: 5,583,212\n",
      "Non-trainable params: 512\n",
      "_________________________________________________________________\n"
     ]
    }
   ],
   "source": [
    "from tensorflow.keras import layers\n",
    "\n",
    "input_tensor = layers.Input(shape=(sr,sc,1))\n",
    "\n",
    "x = layers.Conv2D(32, (3,3), padding='same', activation='relu')(input_tensor)\n",
    "x = layers.Conv2D(32, (3,3), padding='same', activation='relu')(x)\n",
    "x = layers.MaxPool2D()(x)\n",
    "\n",
    "x = layers.Conv2D(64, (3,3), padding='same', activation='relu')(x)\n",
    "x = layers.Conv2D(64, (3,3), padding='same', activation='relu')(x)\n",
    "x = layers.MaxPool2D()(x)\n",
    "\n",
    "x = layers.Conv2D(128, (3,3), padding='same', activation='relu')(x)\n",
    "x = layers.Conv2D(128, (3,3), padding='same', activation='relu')(x)\n",
    "x = layers.Conv2D(128, (3,3), padding='same', activation='relu')(x)\n",
    "x = layers.MaxPool2D()(x)\n",
    "\n",
    "x = layers.Conv2D(256, (3,3), padding='same', activation='relu')(x)\n",
    "x = layers.Conv2D(256, (3,3), padding='same', activation='relu')(x)\n",
    "x = layers.Conv2D(256, (3,3), padding='same', activation='relu')(x)\n",
    "x = layers.MaxPool2D()(x)\n",
    "x = layers.Dropout(0.3)(x)\n",
    "\n",
    "x = layers.Flatten()(x)\n",
    "x = layers.Dense(256)(x)\n",
    "x = layers.BatchNormalization()(x)\n",
    "x = layers.Activation('relu')(x)\n",
    "\n",
    "output_tensor = layers.Dense(12)(x)\n",
    "\n",
    "model_Spectrogram_2D = tf.keras.Model(input_tensor, output_tensor)\n",
    "\n",
    "model_Spectrogram_2D.summary()"
   ]
  },
  {
   "cell_type": "code",
   "execution_count": 33,
   "id": "breeding-patent",
   "metadata": {
    "scrolled": true
   },
   "outputs": [
    {
     "name": "stdout",
     "output_type": "stream",
     "text": [
      "✅\n"
     ]
    }
   ],
   "source": [
    "optimizer=tf.keras.optimizers.Adam(1e-4)\n",
    "model_Spectrogram_2D.compile(loss=tf.keras.losses.CategoricalCrossentropy(from_logits=True),\n",
    "             optimizer=optimizer,\n",
    "             metrics=['accuracy'])\n",
    "print(\"✅\")"
   ]
  },
  {
   "cell_type": "code",
   "execution_count": 34,
   "id": "about-grace",
   "metadata": {},
   "outputs": [
    {
     "name": "stdout",
     "output_type": "stream",
     "text": [
      "✅\n"
     ]
    }
   ],
   "source": [
    "# the save point\n",
    "checkpoint_dir = os.getenv('HOME')+'/aiffel/speech_recognition/models/spectrogram_2D'\n",
    "\n",
    "cp_callback = tf.keras.callbacks.ModelCheckpoint(checkpoint_dir,\n",
    "                                                 save_weights_only=True,\n",
    "                                                 monitor='val_loss',\n",
    "                                                 mode='auto',\n",
    "                                                 save_best_only=True,\n",
    "                                                 verbose=1)\n",
    "print(\"✅\")"
   ]
  },
  {
   "cell_type": "code",
   "execution_count": 35,
   "id": "compact-gambling",
   "metadata": {},
   "outputs": [
    {
     "name": "stdout",
     "output_type": "stream",
     "text": [
      "Epoch 1/10\n",
      "583/711 [=======================>......] - ETA: 5s - loss: 0.9998 - accuracy: 0.6666"
     ]
    },
    {
     "ename": "KeyboardInterrupt",
     "evalue": "",
     "output_type": "error",
     "traceback": [
      "\u001b[0;31m---------------------------------------------------------------------------\u001b[0m",
      "\u001b[0;31mKeyboardInterrupt\u001b[0m                         Traceback (most recent call last)",
      "\u001b[0;32m<ipython-input-35-90ed0fc302c5>\u001b[0m in \u001b[0;36m<module>\u001b[0;34m\u001b[0m\n\u001b[1;32m      4\u001b[0m                     \u001b[0mvalidation_data\u001b[0m\u001b[0;34m=\u001b[0m\u001b[0mtest_dataset\u001b[0m\u001b[0;34m,\u001b[0m\u001b[0;34m\u001b[0m\u001b[0;34m\u001b[0m\u001b[0m\n\u001b[1;32m      5\u001b[0m                     \u001b[0mvalidation_steps\u001b[0m\u001b[0;34m=\u001b[0m\u001b[0mlen\u001b[0m\u001b[0;34m(\u001b[0m\u001b[0mtest_spectrogram\u001b[0m\u001b[0;34m)\u001b[0m \u001b[0;34m//\u001b[0m \u001b[0mbatch_size\u001b[0m\u001b[0;34m,\u001b[0m\u001b[0;34m\u001b[0m\u001b[0;34m\u001b[0m\u001b[0m\n\u001b[0;32m----> 6\u001b[0;31m                     \u001b[0mcallbacks\u001b[0m\u001b[0;34m=\u001b[0m\u001b[0;34m[\u001b[0m\u001b[0mcp_callback\u001b[0m\u001b[0;34m]\u001b[0m\u001b[0;34m\u001b[0m\u001b[0;34m\u001b[0m\u001b[0m\n\u001b[0m\u001b[1;32m      7\u001b[0m                     )\n\u001b[1;32m      8\u001b[0m \u001b[0mprint\u001b[0m\u001b[0;34m(\u001b[0m\u001b[0;34m\"✅\"\u001b[0m\u001b[0;34m)\u001b[0m\u001b[0;34m\u001b[0m\u001b[0;34m\u001b[0m\u001b[0m\n",
      "\u001b[0;32m~/anaconda3/envs/aiffel/lib/python3.7/site-packages/tensorflow/python/keras/engine/training.py\u001b[0m in \u001b[0;36m_method_wrapper\u001b[0;34m(self, *args, **kwargs)\u001b[0m\n\u001b[1;32m     64\u001b[0m   \u001b[0;32mdef\u001b[0m \u001b[0m_method_wrapper\u001b[0m\u001b[0;34m(\u001b[0m\u001b[0mself\u001b[0m\u001b[0;34m,\u001b[0m \u001b[0;34m*\u001b[0m\u001b[0margs\u001b[0m\u001b[0;34m,\u001b[0m \u001b[0;34m**\u001b[0m\u001b[0mkwargs\u001b[0m\u001b[0;34m)\u001b[0m\u001b[0;34m:\u001b[0m\u001b[0;34m\u001b[0m\u001b[0;34m\u001b[0m\u001b[0m\n\u001b[1;32m     65\u001b[0m     \u001b[0;32mif\u001b[0m \u001b[0;32mnot\u001b[0m \u001b[0mself\u001b[0m\u001b[0;34m.\u001b[0m\u001b[0m_in_multi_worker_mode\u001b[0m\u001b[0;34m(\u001b[0m\u001b[0;34m)\u001b[0m\u001b[0;34m:\u001b[0m  \u001b[0;31m# pylint: disable=protected-access\u001b[0m\u001b[0;34m\u001b[0m\u001b[0;34m\u001b[0m\u001b[0m\n\u001b[0;32m---> 66\u001b[0;31m       \u001b[0;32mreturn\u001b[0m \u001b[0mmethod\u001b[0m\u001b[0;34m(\u001b[0m\u001b[0mself\u001b[0m\u001b[0;34m,\u001b[0m \u001b[0;34m*\u001b[0m\u001b[0margs\u001b[0m\u001b[0;34m,\u001b[0m \u001b[0;34m**\u001b[0m\u001b[0mkwargs\u001b[0m\u001b[0;34m)\u001b[0m\u001b[0;34m\u001b[0m\u001b[0;34m\u001b[0m\u001b[0m\n\u001b[0m\u001b[1;32m     67\u001b[0m \u001b[0;34m\u001b[0m\u001b[0m\n\u001b[1;32m     68\u001b[0m     \u001b[0;31m# Running inside `run_distribute_coordinator` already.\u001b[0m\u001b[0;34m\u001b[0m\u001b[0;34m\u001b[0m\u001b[0;34m\u001b[0m\u001b[0m\n",
      "\u001b[0;32m~/anaconda3/envs/aiffel/lib/python3.7/site-packages/tensorflow/python/keras/engine/training.py\u001b[0m in \u001b[0;36mfit\u001b[0;34m(self, x, y, batch_size, epochs, verbose, callbacks, validation_split, validation_data, shuffle, class_weight, sample_weight, initial_epoch, steps_per_epoch, validation_steps, validation_batch_size, validation_freq, max_queue_size, workers, use_multiprocessing)\u001b[0m\n\u001b[1;32m    853\u001b[0m                 \u001b[0mcontext\u001b[0m\u001b[0;34m.\u001b[0m\u001b[0masync_wait\u001b[0m\u001b[0;34m(\u001b[0m\u001b[0;34m)\u001b[0m\u001b[0;34m\u001b[0m\u001b[0;34m\u001b[0m\u001b[0m\n\u001b[1;32m    854\u001b[0m               \u001b[0mlogs\u001b[0m \u001b[0;34m=\u001b[0m \u001b[0mtmp_logs\u001b[0m  \u001b[0;31m# No error, now safe to assign to logs.\u001b[0m\u001b[0;34m\u001b[0m\u001b[0;34m\u001b[0m\u001b[0m\n\u001b[0;32m--> 855\u001b[0;31m               \u001b[0mcallbacks\u001b[0m\u001b[0;34m.\u001b[0m\u001b[0mon_train_batch_end\u001b[0m\u001b[0;34m(\u001b[0m\u001b[0mstep\u001b[0m\u001b[0;34m,\u001b[0m \u001b[0mlogs\u001b[0m\u001b[0;34m)\u001b[0m\u001b[0;34m\u001b[0m\u001b[0;34m\u001b[0m\u001b[0m\n\u001b[0m\u001b[1;32m    856\u001b[0m         \u001b[0mepoch_logs\u001b[0m \u001b[0;34m=\u001b[0m \u001b[0mcopy\u001b[0m\u001b[0;34m.\u001b[0m\u001b[0mcopy\u001b[0m\u001b[0;34m(\u001b[0m\u001b[0mlogs\u001b[0m\u001b[0;34m)\u001b[0m\u001b[0;34m\u001b[0m\u001b[0;34m\u001b[0m\u001b[0m\n\u001b[1;32m    857\u001b[0m \u001b[0;34m\u001b[0m\u001b[0m\n",
      "\u001b[0;32m~/anaconda3/envs/aiffel/lib/python3.7/site-packages/tensorflow/python/keras/callbacks.py\u001b[0m in \u001b[0;36mon_train_batch_end\u001b[0;34m(self, batch, logs)\u001b[0m\n\u001b[1;32m    387\u001b[0m     \"\"\"\n\u001b[1;32m    388\u001b[0m     \u001b[0;32mif\u001b[0m \u001b[0mself\u001b[0m\u001b[0;34m.\u001b[0m\u001b[0m_should_call_train_batch_hooks\u001b[0m\u001b[0;34m:\u001b[0m\u001b[0;34m\u001b[0m\u001b[0;34m\u001b[0m\u001b[0m\n\u001b[0;32m--> 389\u001b[0;31m       \u001b[0mlogs\u001b[0m \u001b[0;34m=\u001b[0m \u001b[0mself\u001b[0m\u001b[0;34m.\u001b[0m\u001b[0m_process_logs\u001b[0m\u001b[0;34m(\u001b[0m\u001b[0mlogs\u001b[0m\u001b[0;34m)\u001b[0m\u001b[0;34m\u001b[0m\u001b[0;34m\u001b[0m\u001b[0m\n\u001b[0m\u001b[1;32m    390\u001b[0m       \u001b[0mself\u001b[0m\u001b[0;34m.\u001b[0m\u001b[0m_call_batch_hook\u001b[0m\u001b[0;34m(\u001b[0m\u001b[0mModeKeys\u001b[0m\u001b[0;34m.\u001b[0m\u001b[0mTRAIN\u001b[0m\u001b[0;34m,\u001b[0m \u001b[0;34m'end'\u001b[0m\u001b[0;34m,\u001b[0m \u001b[0mbatch\u001b[0m\u001b[0;34m,\u001b[0m \u001b[0mlogs\u001b[0m\u001b[0;34m=\u001b[0m\u001b[0mlogs\u001b[0m\u001b[0;34m)\u001b[0m\u001b[0;34m\u001b[0m\u001b[0;34m\u001b[0m\u001b[0m\n\u001b[1;32m    391\u001b[0m \u001b[0;34m\u001b[0m\u001b[0m\n",
      "\u001b[0;32m~/anaconda3/envs/aiffel/lib/python3.7/site-packages/tensorflow/python/keras/callbacks.py\u001b[0m in \u001b[0;36m_process_logs\u001b[0;34m(self, logs)\u001b[0m\n\u001b[1;32m    263\u001b[0m     \u001b[0;34m\"\"\"Turns tensors into numpy arrays or Python scalars.\"\"\"\u001b[0m\u001b[0;34m\u001b[0m\u001b[0;34m\u001b[0m\u001b[0m\n\u001b[1;32m    264\u001b[0m     \u001b[0;32mif\u001b[0m \u001b[0mlogs\u001b[0m\u001b[0;34m:\u001b[0m\u001b[0;34m\u001b[0m\u001b[0;34m\u001b[0m\u001b[0m\n\u001b[0;32m--> 265\u001b[0;31m       \u001b[0;32mreturn\u001b[0m \u001b[0mtf_utils\u001b[0m\u001b[0;34m.\u001b[0m\u001b[0mto_numpy_or_python_type\u001b[0m\u001b[0;34m(\u001b[0m\u001b[0mlogs\u001b[0m\u001b[0;34m)\u001b[0m\u001b[0;34m\u001b[0m\u001b[0;34m\u001b[0m\u001b[0m\n\u001b[0m\u001b[1;32m    266\u001b[0m     \u001b[0;32mreturn\u001b[0m \u001b[0;34m{\u001b[0m\u001b[0;34m}\u001b[0m\u001b[0;34m\u001b[0m\u001b[0;34m\u001b[0m\u001b[0m\n\u001b[1;32m    267\u001b[0m \u001b[0;34m\u001b[0m\u001b[0m\n",
      "\u001b[0;32m~/anaconda3/envs/aiffel/lib/python3.7/site-packages/tensorflow/python/keras/utils/tf_utils.py\u001b[0m in \u001b[0;36mto_numpy_or_python_type\u001b[0;34m(tensors)\u001b[0m\n\u001b[1;32m    521\u001b[0m     \u001b[0;32mreturn\u001b[0m \u001b[0mt\u001b[0m  \u001b[0;31m# Don't turn ragged or sparse tensors to NumPy.\u001b[0m\u001b[0;34m\u001b[0m\u001b[0;34m\u001b[0m\u001b[0m\n\u001b[1;32m    522\u001b[0m \u001b[0;34m\u001b[0m\u001b[0m\n\u001b[0;32m--> 523\u001b[0;31m   \u001b[0;32mreturn\u001b[0m \u001b[0mnest\u001b[0m\u001b[0;34m.\u001b[0m\u001b[0mmap_structure\u001b[0m\u001b[0;34m(\u001b[0m\u001b[0m_to_single_numpy_or_python_type\u001b[0m\u001b[0;34m,\u001b[0m \u001b[0mtensors\u001b[0m\u001b[0;34m)\u001b[0m\u001b[0;34m\u001b[0m\u001b[0;34m\u001b[0m\u001b[0m\n\u001b[0m\u001b[1;32m    524\u001b[0m \u001b[0;34m\u001b[0m\u001b[0m\n",
      "\u001b[0;32m~/anaconda3/envs/aiffel/lib/python3.7/site-packages/tensorflow/python/util/nest.py\u001b[0m in \u001b[0;36mmap_structure\u001b[0;34m(func, *structure, **kwargs)\u001b[0m\n\u001b[1;32m    615\u001b[0m \u001b[0;34m\u001b[0m\u001b[0m\n\u001b[1;32m    616\u001b[0m   return pack_sequence_as(\n\u001b[0;32m--> 617\u001b[0;31m       \u001b[0mstructure\u001b[0m\u001b[0;34m[\u001b[0m\u001b[0;36m0\u001b[0m\u001b[0;34m]\u001b[0m\u001b[0;34m,\u001b[0m \u001b[0;34m[\u001b[0m\u001b[0mfunc\u001b[0m\u001b[0;34m(\u001b[0m\u001b[0;34m*\u001b[0m\u001b[0mx\u001b[0m\u001b[0;34m)\u001b[0m \u001b[0;32mfor\u001b[0m \u001b[0mx\u001b[0m \u001b[0;32min\u001b[0m \u001b[0mentries\u001b[0m\u001b[0;34m]\u001b[0m\u001b[0;34m,\u001b[0m\u001b[0;34m\u001b[0m\u001b[0;34m\u001b[0m\u001b[0m\n\u001b[0m\u001b[1;32m    618\u001b[0m       expand_composites=expand_composites)\n\u001b[1;32m    619\u001b[0m \u001b[0;34m\u001b[0m\u001b[0m\n",
      "\u001b[0;32m~/anaconda3/envs/aiffel/lib/python3.7/site-packages/tensorflow/python/util/nest.py\u001b[0m in \u001b[0;36m<listcomp>\u001b[0;34m(.0)\u001b[0m\n\u001b[1;32m    615\u001b[0m \u001b[0;34m\u001b[0m\u001b[0m\n\u001b[1;32m    616\u001b[0m   return pack_sequence_as(\n\u001b[0;32m--> 617\u001b[0;31m       \u001b[0mstructure\u001b[0m\u001b[0;34m[\u001b[0m\u001b[0;36m0\u001b[0m\u001b[0;34m]\u001b[0m\u001b[0;34m,\u001b[0m \u001b[0;34m[\u001b[0m\u001b[0mfunc\u001b[0m\u001b[0;34m(\u001b[0m\u001b[0;34m*\u001b[0m\u001b[0mx\u001b[0m\u001b[0;34m)\u001b[0m \u001b[0;32mfor\u001b[0m \u001b[0mx\u001b[0m \u001b[0;32min\u001b[0m \u001b[0mentries\u001b[0m\u001b[0;34m]\u001b[0m\u001b[0;34m,\u001b[0m\u001b[0;34m\u001b[0m\u001b[0;34m\u001b[0m\u001b[0m\n\u001b[0m\u001b[1;32m    618\u001b[0m       expand_composites=expand_composites)\n\u001b[1;32m    619\u001b[0m \u001b[0;34m\u001b[0m\u001b[0m\n",
      "\u001b[0;32m~/anaconda3/envs/aiffel/lib/python3.7/site-packages/tensorflow/python/keras/utils/tf_utils.py\u001b[0m in \u001b[0;36m_to_single_numpy_or_python_type\u001b[0;34m(t)\u001b[0m\n\u001b[1;32m    517\u001b[0m   \u001b[0;32mdef\u001b[0m \u001b[0m_to_single_numpy_or_python_type\u001b[0m\u001b[0;34m(\u001b[0m\u001b[0mt\u001b[0m\u001b[0;34m)\u001b[0m\u001b[0;34m:\u001b[0m\u001b[0;34m\u001b[0m\u001b[0;34m\u001b[0m\u001b[0m\n\u001b[1;32m    518\u001b[0m     \u001b[0;32mif\u001b[0m \u001b[0misinstance\u001b[0m\u001b[0;34m(\u001b[0m\u001b[0mt\u001b[0m\u001b[0;34m,\u001b[0m \u001b[0mops\u001b[0m\u001b[0;34m.\u001b[0m\u001b[0mTensor\u001b[0m\u001b[0;34m)\u001b[0m\u001b[0;34m:\u001b[0m\u001b[0;34m\u001b[0m\u001b[0;34m\u001b[0m\u001b[0m\n\u001b[0;32m--> 519\u001b[0;31m       \u001b[0mx\u001b[0m \u001b[0;34m=\u001b[0m \u001b[0mt\u001b[0m\u001b[0;34m.\u001b[0m\u001b[0mnumpy\u001b[0m\u001b[0;34m(\u001b[0m\u001b[0;34m)\u001b[0m\u001b[0;34m\u001b[0m\u001b[0;34m\u001b[0m\u001b[0m\n\u001b[0m\u001b[1;32m    520\u001b[0m       \u001b[0;32mreturn\u001b[0m \u001b[0mx\u001b[0m\u001b[0;34m.\u001b[0m\u001b[0mitem\u001b[0m\u001b[0;34m(\u001b[0m\u001b[0;34m)\u001b[0m \u001b[0;32mif\u001b[0m \u001b[0mnp\u001b[0m\u001b[0;34m.\u001b[0m\u001b[0mndim\u001b[0m\u001b[0;34m(\u001b[0m\u001b[0mx\u001b[0m\u001b[0;34m)\u001b[0m \u001b[0;34m==\u001b[0m \u001b[0;36m0\u001b[0m \u001b[0;32melse\u001b[0m \u001b[0mx\u001b[0m\u001b[0;34m\u001b[0m\u001b[0;34m\u001b[0m\u001b[0m\n\u001b[1;32m    521\u001b[0m     \u001b[0;32mreturn\u001b[0m \u001b[0mt\u001b[0m  \u001b[0;31m# Don't turn ragged or sparse tensors to NumPy.\u001b[0m\u001b[0;34m\u001b[0m\u001b[0;34m\u001b[0m\u001b[0m\n",
      "\u001b[0;32m~/anaconda3/envs/aiffel/lib/python3.7/site-packages/tensorflow/python/framework/ops.py\u001b[0m in \u001b[0;36mnumpy\u001b[0;34m(self)\u001b[0m\n\u001b[1;32m    959\u001b[0m     \"\"\"\n\u001b[1;32m    960\u001b[0m     \u001b[0;31m# TODO(slebedev): Consider avoiding a copy for non-CPU or remote tensors.\u001b[0m\u001b[0;34m\u001b[0m\u001b[0;34m\u001b[0m\u001b[0;34m\u001b[0m\u001b[0m\n\u001b[0;32m--> 961\u001b[0;31m     \u001b[0mmaybe_arr\u001b[0m \u001b[0;34m=\u001b[0m \u001b[0mself\u001b[0m\u001b[0;34m.\u001b[0m\u001b[0m_numpy\u001b[0m\u001b[0;34m(\u001b[0m\u001b[0;34m)\u001b[0m  \u001b[0;31m# pylint: disable=protected-access\u001b[0m\u001b[0;34m\u001b[0m\u001b[0;34m\u001b[0m\u001b[0m\n\u001b[0m\u001b[1;32m    962\u001b[0m     \u001b[0;32mreturn\u001b[0m \u001b[0mmaybe_arr\u001b[0m\u001b[0;34m.\u001b[0m\u001b[0mcopy\u001b[0m\u001b[0;34m(\u001b[0m\u001b[0;34m)\u001b[0m \u001b[0;32mif\u001b[0m \u001b[0misinstance\u001b[0m\u001b[0;34m(\u001b[0m\u001b[0mmaybe_arr\u001b[0m\u001b[0;34m,\u001b[0m \u001b[0mnp\u001b[0m\u001b[0;34m.\u001b[0m\u001b[0mndarray\u001b[0m\u001b[0;34m)\u001b[0m \u001b[0;32melse\u001b[0m \u001b[0mmaybe_arr\u001b[0m\u001b[0;34m\u001b[0m\u001b[0;34m\u001b[0m\u001b[0m\n\u001b[1;32m    963\u001b[0m \u001b[0;34m\u001b[0m\u001b[0m\n",
      "\u001b[0;32m~/anaconda3/envs/aiffel/lib/python3.7/site-packages/tensorflow/python/framework/ops.py\u001b[0m in \u001b[0;36m_numpy\u001b[0;34m(self)\u001b[0m\n\u001b[1;32m    925\u001b[0m     \u001b[0;31m# pylint: disable=protected-access\u001b[0m\u001b[0;34m\u001b[0m\u001b[0;34m\u001b[0m\u001b[0;34m\u001b[0m\u001b[0m\n\u001b[1;32m    926\u001b[0m     \u001b[0;32mtry\u001b[0m\u001b[0;34m:\u001b[0m\u001b[0;34m\u001b[0m\u001b[0;34m\u001b[0m\u001b[0m\n\u001b[0;32m--> 927\u001b[0;31m       \u001b[0;32mreturn\u001b[0m \u001b[0mself\u001b[0m\u001b[0;34m.\u001b[0m\u001b[0m_numpy_internal\u001b[0m\u001b[0;34m(\u001b[0m\u001b[0;34m)\u001b[0m\u001b[0;34m\u001b[0m\u001b[0;34m\u001b[0m\u001b[0m\n\u001b[0m\u001b[1;32m    928\u001b[0m     \u001b[0;32mexcept\u001b[0m \u001b[0mcore\u001b[0m\u001b[0;34m.\u001b[0m\u001b[0m_NotOkStatusException\u001b[0m \u001b[0;32mas\u001b[0m \u001b[0me\u001b[0m\u001b[0;34m:\u001b[0m\u001b[0;34m\u001b[0m\u001b[0;34m\u001b[0m\u001b[0m\n\u001b[1;32m    929\u001b[0m       \u001b[0msix\u001b[0m\u001b[0;34m.\u001b[0m\u001b[0mraise_from\u001b[0m\u001b[0;34m(\u001b[0m\u001b[0mcore\u001b[0m\u001b[0;34m.\u001b[0m\u001b[0m_status_to_exception\u001b[0m\u001b[0;34m(\u001b[0m\u001b[0me\u001b[0m\u001b[0;34m.\u001b[0m\u001b[0mcode\u001b[0m\u001b[0;34m,\u001b[0m \u001b[0me\u001b[0m\u001b[0;34m.\u001b[0m\u001b[0mmessage\u001b[0m\u001b[0;34m)\u001b[0m\u001b[0;34m,\u001b[0m \u001b[0;32mNone\u001b[0m\u001b[0;34m)\u001b[0m\u001b[0;34m\u001b[0m\u001b[0;34m\u001b[0m\u001b[0m\n",
      "\u001b[0;31mKeyboardInterrupt\u001b[0m: "
     ]
    }
   ],
   "source": [
    "#30분 내외 소요\n",
    "history_spectrogram_2D = model_Spectrogram_2D.fit(train_dataset, epochs=max_epochs,\n",
    "                    steps_per_epoch=len(train_spectrogram) // batch_size,\n",
    "                    validation_data=test_dataset,\n",
    "                    validation_steps=len(test_spectrogram) // batch_size,\n",
    "                    callbacks=[cp_callback]\n",
    "                    )\n",
    "print(\"✅\")"
   ]
  },
  {
   "cell_type": "code",
   "execution_count": null,
   "id": "ecological-lindsay",
   "metadata": {
    "scrolled": true
   },
   "outputs": [],
   "source": [
    "import matplotlib.pyplot as plt\n",
    "\n",
    "acc = history_spectrogram_2D.history['accuracy']\n",
    "val_acc = history_spectrogram_2D.history['val_accuracy']\n",
    "\n",
    "loss=history_spectrogram_2D.history['loss']\n",
    "val_loss=history_spectrogram_2D.history['val_loss']\n",
    "\n",
    "epochs_range = range(len(acc))\n",
    "\n",
    "plt.figure(figsize=(8, 8))\n",
    "plt.subplot(1, 2, 1)\n",
    "plt.plot(epochs_range, acc, label='Training Accuracy')\n",
    "plt.plot(epochs_range, val_acc, label='Validation Accuracy')\n",
    "plt.legend(loc='lower right')\n",
    "plt.title('Training and Validation Accuracy')\n",
    "\n",
    "plt.subplot(1, 2, 2)\n",
    "plt.plot(epochs_range, loss, label='Training Loss')\n",
    "plt.plot(epochs_range, val_loss, label='Validation Loss')\n",
    "plt.legend(loc='upper right')\n",
    "plt.title('Training and Validation Loss')\n",
    "plt.show()\n",
    "print(\"✅\")"
   ]
  },
  {
   "cell_type": "code",
   "execution_count": null,
   "id": "lovely-wrapping",
   "metadata": {
    "scrolled": true
   },
   "outputs": [],
   "source": [
    "# Evaluation \n",
    "\n",
    "model_Spectrogram_2D.load_weights(checkpoint_dir)\n",
    "results = model_Spectrogram_2D.evaluate(test_dataset)\n",
    "\n",
    "# loss\n",
    "print(\"loss value: {:.3f}\".format(results[0]))\n",
    "# accuracy\n",
    "print(\"accuracy value: {:.4f}%\".format(results[1]*100))\n",
    "print(\"✅\")"
   ]
  },
  {
   "cell_type": "code",
   "execution_count": null,
   "id": "intimate-burner",
   "metadata": {},
   "outputs": [],
   "source": [
    "inv_label_value = {v: k for k, v in label_value.items()}\n",
    "batch_index = np.random.choice(len(test_spectrogram), size=1, replace=False)\n",
    "\n",
    "batch_xs = test_spectrogram[batch_index]\n",
    "batch_ys = test_label[batch_index]\n",
    "y_pred_ = model_Spectrogram_2D(batch_xs, training=False)\n",
    "\n",
    "if np.argmax(y_pred_) == batch_ys[0]:\n",
    "    print(\"y_pred: \" + str(inv_label_value[np.argmax(y_pred_)]) + '(Correct!)')\n",
    "else:\n",
    "    print(\"y_pred: \" + str(inv_label_value[np.argmax(y_pred_)]) + '(Incorrect!)')"
   ]
  },
  {
   "cell_type": "markdown",
   "id": "appreciated-stream",
   "metadata": {},
   "source": [
    " \n",
    " \n",
    "  \n",
    "  \n",
    "   \n",
    "    \n",
    "    \n",
    "    \n",
    "    "
   ]
  },
  {
   "cell_type": "markdown",
   "id": "characteristic-crazy",
   "metadata": {},
   "source": [
    "## **❗모델 설계 (3) - Skip-connection**"
   ]
  },
  {
   "cell_type": "markdown",
   "id": "dutch-librarian",
   "metadata": {},
   "source": [
    "## ❗Skip-connection model 사용 (모델 설계부터 평가까지)"
   ]
  },
  {
   "cell_type": "code",
   "execution_count": null,
   "id": "stone-carolina",
   "metadata": {},
   "outputs": [],
   "source": [
    "input_tensor = layers.Input(shape=(sr,sc))\n",
    "\n",
    "x = layers.Conv1D(32, 9, padding='same', activation='relu')(input_tensor)\n",
    "x = layers.Conv1D(32, 9, padding='same', activation='relu')(x)\n",
    "skip_1 = layers.MaxPool1D()(x)\n",
    "\n",
    "x = layers.Conv1D(64, 9, padding='same', activation='relu')(skip_1)\n",
    "x = layers.Conv1D(64, 9, padding='same', activation='relu')(x)\n",
    "x = tf.concat([x, skip_1], -1)\n",
    "skip_2 = layers.MaxPool1D()(x)\n",
    "\n",
    "x = layers.Conv1D(128, 9, padding='same', activation='relu')(skip_2)\n",
    "x = layers.Conv1D(128, 9, padding='same', activation='relu')(x)\n",
    "x = layers.Conv1D(128, 9, padding='same', activation='relu')(x)\n",
    "x = tf.concat([x, skip_2], -1)\n",
    "skip_3 = layers.MaxPool1D()(x)\n",
    "\n",
    "x = layers.Conv1D(256, 9, padding='same', activation='relu')(skip_3)\n",
    "x = layers.Conv1D(256, 9, padding='same', activation='relu')(x)\n",
    "x = layers.Conv1D(256, 9, padding='same', activation='relu')(x)\n",
    "x = tf.concat([x, skip_3], -1)\n",
    "x = layers.MaxPool1D()(x)\n",
    "x = layers.Dropout(0.3)(x)\n",
    "\n",
    "x = layers.Flatten()(x)\n",
    "x = layers.Dense(256)(x)\n",
    "x = layers.BatchNormalization()(x)\n",
    "x = layers.Activation('relu')(x)\n",
    "\n",
    "output_tensor = layers.Dense(12)(x)\n",
    "\n",
    "model_spectrogram_skip = tf.keras.Model(input_tensor, output_tensor)\n",
    "\n",
    "model_spectrogram_skip.summary()"
   ]
  },
  {
   "cell_type": "code",
   "execution_count": null,
   "id": "careful-western",
   "metadata": {
    "scrolled": true
   },
   "outputs": [],
   "source": [
    "optimizer=tf.keras.optimizers.Adam(1e-4)\n",
    "model_spectrogram_skip.compile(loss=tf.keras.losses.CategoricalCrossentropy(from_logits=True),\n",
    "             optimizer=optimizer,\n",
    "             metrics=['accuracy'])\n",
    "print(\"✅\")"
   ]
  },
  {
   "cell_type": "code",
   "execution_count": null,
   "id": "under-innocent",
   "metadata": {},
   "outputs": [],
   "source": [
    "# the save point\n",
    "checkpoint_dir = os.getenv('HOME')+'/aiffel/speech_recognition/models/spectrogram_skip'\n",
    "\n",
    "cp_callback = tf.keras.callbacks.ModelCheckpoint(checkpoint_dir,\n",
    "                                                 save_weights_only=True,\n",
    "                                                 monitor='val_loss',\n",
    "                                                 mode='auto',\n",
    "                                                 save_best_only=True,\n",
    "                                                 verbose=1)\n",
    "print(\"✅\")"
   ]
  },
  {
   "cell_type": "code",
   "execution_count": null,
   "id": "applicable-indiana",
   "metadata": {},
   "outputs": [],
   "source": [
    "#30분 내외 소요\n",
    "history_spectrogram_skip = model_spectrogram_skip.fit(train_dataset, epochs=max_epochs,\n",
    "                    steps_per_epoch=len(train_spectrogram) // batch_size,\n",
    "                    validation_data=test_dataset,\n",
    "                    validation_steps=len(test_spectrogram) // batch_size,\n",
    "                    callbacks=[cp_callback]\n",
    "                    )\n",
    "print(\"✅\")"
   ]
  },
  {
   "cell_type": "code",
   "execution_count": null,
   "id": "respective-exposure",
   "metadata": {},
   "outputs": [],
   "source": [
    "import matplotlib.pyplot as plt\n",
    "\n",
    "acc = history_spectrogram_skip.history['accuracy']\n",
    "val_acc = history_spectrogram_skip.history['val_accuracy']\n",
    "\n",
    "loss=history_spectrogram_skip.history['loss']\n",
    "val_loss=history_spectrogram_skip.history['val_loss']\n",
    "\n",
    "epochs_range = range(len(acc))\n",
    "\n",
    "plt.figure(figsize=(8, 8))\n",
    "plt.subplot(1, 2, 1)\n",
    "plt.plot(epochs_range, acc, label='Training Accuracy')\n",
    "plt.plot(epochs_range, val_acc, label='Validation Accuracy')\n",
    "plt.legend(loc='lower right')\n",
    "plt.title('Training and Validation Accuracy')\n",
    "\n",
    "plt.subplot(1, 2, 2)\n",
    "plt.plot(epochs_range, loss, label='Training Loss')\n",
    "plt.plot(epochs_range, val_loss, label='Validation Loss')\n",
    "plt.legend(loc='upper right')\n",
    "plt.title('Training and Validation Loss')\n",
    "plt.show()\n",
    "print(\"✅\")"
   ]
  },
  {
   "cell_type": "code",
   "execution_count": null,
   "id": "sticky-context",
   "metadata": {},
   "outputs": [],
   "source": [
    "# Evaluation \n",
    "\n",
    "model_spectrogram_skip.load_weights(checkpoint_dir)\n",
    "results = model_spectrogram_skip.evaluate(test_dataset)\n",
    "\n",
    "# loss\n",
    "print(\"loss value: {:.3f}\".format(results[0]))\n",
    "# accuracy\n",
    "print(\"accuracy value: {:.4f}%\".format(results[1]*100))\n",
    "print(\"✅\")"
   ]
  },
  {
   "cell_type": "code",
   "execution_count": null,
   "id": "crude-samuel",
   "metadata": {},
   "outputs": [],
   "source": [
    "inv_label_value = {v: k for k, v in label_value.items()}\n",
    "batch_index = np.random.choice(len(test_spectrogram), size=1, replace=False)\n",
    "\n",
    "batch_xs = test_spectrogram[batch_index]\n",
    "batch_ys = test_label[batch_index]\n",
    "y_pred_ = model_spectrogram_skip(batch_xs, training=False)\n",
    "\n",
    "if np.argmax(y_pred_) == batch_ys[0]:\n",
    "    print(\"y_pred: \" + str(inv_label_value[np.argmax(y_pred_)]) + '(Correct!)')\n",
    "else:\n",
    "    print(\"y_pred: \" + str(inv_label_value[np.argmax(y_pred_)]) + '(Incorrect!)')"
   ]
  },
  {
   "cell_type": "markdown",
   "id": "northern-acoustic",
   "metadata": {},
   "source": [
    " \n",
    " \n",
    "  \n",
    "  \n",
    "   \n",
    "    \n",
    "    \n",
    "    \n",
    "    "
   ]
  },
  {
   "cell_type": "markdown",
   "id": "vietnamese-criterion",
   "metadata": {},
   "source": [
    "## 7. 루브릭 평가 및 회고"
   ]
  },
  {
   "cell_type": "markdown",
   "id": "charming-warning",
   "metadata": {},
   "source": [
    "## <루브릭 평가>\n",
    "### 1. 음성데이터를 2차원 Spectrogram 으로 변환하여 데이터셋을 구성하였다.\n",
    "### - \n",
    "\n",
    "### 2. 1,2차원 데이터를 처리하는 음성인식 모델이 정상 작동한다.\n",
    "### - \n",
    "\n",
    "### 3. 테스트셋 수행결과 음성인식 모델의 Accuracy가 일정 수준(75%이상)에 도달하였다.\n",
    "### -"
   ]
  },
  {
   "cell_type": "markdown",
   "id": "stuck-pottery",
   "metadata": {},
   "source": [
    "## <회고>\n",
    "### - "
   ]
  }
 ],
 "metadata": {
  "kernelspec": {
   "display_name": "aiffel",
   "language": "python",
   "name": "aiffel"
  },
  "language_info": {
   "codemirror_mode": {
    "name": "ipython",
    "version": 3
   },
   "file_extension": ".py",
   "mimetype": "text/x-python",
   "name": "python",
   "nbconvert_exporter": "python",
   "pygments_lexer": "ipython3",
   "version": "3.7.9"
  }
 },
 "nbformat": 4,
 "nbformat_minor": 5
}
