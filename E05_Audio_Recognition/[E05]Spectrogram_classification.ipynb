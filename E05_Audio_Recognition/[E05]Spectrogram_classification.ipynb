{
 "cells": [
  {
   "cell_type": "markdown",
   "id": "under-telescope",
   "metadata": {},
   "source": [
    "# 🔥Exploration 5. Spectrogram classification 모델 구현🔥"
   ]
  },
  {
   "cell_type": "markdown",
   "id": "instrumental-prediction",
   "metadata": {},
   "source": [
    "## 🎯프로젝트 목표🎯\n",
    "### - 2차원 Spectrogram 데이터를 입력받아 이전 학습한 모델(1차원 Waveform 데이터를 입력받아 Text라벨을 출력하는 모델을 기본 버전과 Skip-connection 버전으로 나누어 학습)과 동일한 역할을 수행하는 모델 작성\n",
    "\n",
    "## ✅프로젝트 순서✅\n",
    "### 1. 데이터 처리와 분류\n",
    "### 2. 학습을 위한 파라미터 설정\n",
    "### 3. 데이터셋 구성\n",
    "### 4. 2차원 Spectrogram 데이터를 처리하는 모델 구성\n",
    "### 5. 학습 후, 학습이 어떻게 진행됐는지 그래프로 출력\n",
    "### 6. Test dataset을 이용해서 모델의 성능을 평가\n",
    "### 7. 루브릭 평가 및 회고"
   ]
  },
  {
   "cell_type": "markdown",
   "id": "medieval-magazine",
   "metadata": {},
   "source": [
    " \n",
    " \n",
    "  \n",
    "  \n",
    "   \n",
    "    \n",
    "    \n",
    "    \n",
    "    "
   ]
  },
  {
   "cell_type": "markdown",
   "id": "multiple-alexandria",
   "metadata": {},
   "source": [
    "## 1. 데이터 처리와 분류\n",
    "* ### 라벨 데이터 처리하기\n",
    "* ### sklearn의 train_test_split함수를 이용해 train, test 분리\n"
   ]
  },
  {
   "cell_type": "markdown",
   "id": "affiliated-investigator",
   "metadata": {},
   "source": [
    "### 1-1. 데이터 불러오기 & 살펴보기"
   ]
  },
  {
   "cell_type": "code",
   "execution_count": 1,
   "id": "declared-hindu",
   "metadata": {
    "scrolled": true
   },
   "outputs": [
    {
     "name": "stdout",
     "output_type": "stream",
     "text": [
      "데이터 불러오기 완료\n"
     ]
    }
   ],
   "source": [
    "# 데이터 불러오기\n",
    "import numpy as np\n",
    "import os\n",
    "\n",
    "data_path = os.getenv(\"HOME\")+'/1.AIFFEL_Study/Exploration/E05_Audio_Recognition/data/speech_wav_8000.npz'\n",
    "speech_data = np.load(data_path)\n",
    "\n",
    "print(\"데이터 불러오기 완료\")"
   ]
  },
  {
   "cell_type": "code",
   "execution_count": 2,
   "id": "invalid-aurora",
   "metadata": {},
   "outputs": [],
   "source": [
    "os.environ['TF_FORCE_GPU_ALLOW_GROWTH'] = 'true' # 노드를 진행할때도 해당 코드를 한번 실행해주고 Tensorflow를 사용해보세요!"
   ]
  },
  {
   "cell_type": "code",
   "execution_count": 3,
   "id": "dynamic-symbol",
   "metadata": {},
   "outputs": [
    {
     "name": "stdout",
     "output_type": "stream",
     "text": [
      "Wave data shape :  (50620, 8000)\n",
      "Label data shape :  (50620, 1)\n",
      "데이터 살펴보기 완료\n"
     ]
    }
   ],
   "source": [
    "# 데이터 살펴보기\n",
    "print(\"Wave data shape : \", speech_data[\"wav_vals\"].shape)\n",
    "print(\"Label data shape : \", speech_data[\"label_vals\"].shape)\n",
    "print(\"데이터 살펴보기 완료\")"
   ]
  },
  {
   "cell_type": "markdown",
   "id": "deluxe-retro",
   "metadata": {},
   "source": [
    "### >>> 데이터는 1초 길이이며, 50,620개를 가지고 있다."
   ]
  },
  {
   "cell_type": "code",
   "execution_count": 4,
   "id": "measured-stockholm",
   "metadata": {
    "scrolled": true
   },
   "outputs": [
    {
     "name": "stdout",
     "output_type": "stream",
     "text": [
      "rand num :  878\n",
      "Wave data shape :  (8000,)\n",
      "label :  ['down']\n",
      "rand: 878\n"
     ]
    },
    {
     "data": {
      "text/html": [
       "\n",
       "                <audio  controls=\"controls\" >\n",
       "                    <source src=\"data:audio/wav;base64,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\" type=\"audio/wav\" />\n",
       "                    Your browser does not support the audio element.\n",
       "                </audio>\n",
       "              "
      ],
      "text/plain": [
       "<IPython.lib.display.Audio object>"
      ]
     },
     "execution_count": 4,
     "metadata": {},
     "output_type": "execute_result"
    }
   ],
   "source": [
    "import IPython.display as ipd\n",
    "\n",
    "import random\n",
    "\n",
    "# 데이터 선택 (랜덤하게 선택하고 있으니, 여러번 실행해 보세요)\n",
    "rand = random.randint(0, len(speech_data[\"wav_vals\"]//2))\n",
    "print(\"rand num : \", rand)\n",
    "\n",
    "sr = 8000 # 1초동안 재생되는 샘플의 갯수\n",
    "data = speech_data[\"wav_vals\"][rand]\n",
    "print(\"Wave data shape : \", data.shape)\n",
    "print(\"label : \", speech_data[\"label_vals\"][rand])\n",
    "print('rand:', rand)\n",
    "ipd.Audio(data, rate=sr)"
   ]
  },
  {
   "cell_type": "markdown",
   "id": "modular-alpha",
   "metadata": {},
   "source": [
    "### >>> 오디오 데이터에서 사용되는 sample rate=8000을 적용\n",
    "### >>> 샘플 데이터 하나 청취: 오디오 확인!"
   ]
  },
  {
   "cell_type": "markdown",
   "id": "valuable-sheet",
   "metadata": {},
   "source": [
    "## **❗2차원 Spectrogram 데이터변환**\n",
    "### Spectrogram으로 변환하기 위해 파이썬에 있는 librosa 라이브러리 활용"
   ]
  },
  {
   "cell_type": "code",
   "execution_count": 5,
   "id": "british-constitutional",
   "metadata": {},
   "outputs": [],
   "source": [
    "import librosa\n",
    "\n",
    "def wav2spec(wav, fft_size=258): # spectrogram shape을 맞추기위해서 size 변형\n",
    "    D = np.abs(librosa.stft(wav, n_fft=fft_size))\n",
    "    return D"
   ]
  },
  {
   "cell_type": "code",
   "execution_count": 6,
   "id": "stopped-plain",
   "metadata": {
    "scrolled": false
   },
   "outputs": [
    {
     "name": "stdout",
     "output_type": "stream",
     "text": [
      "(25310, 130, 126)\n",
      "[[8.9552603e-04 1.3810064e-03 1.6072338e-03 ... 2.0662896e-02\n",
      "  7.1404278e-02 1.1528762e-01]\n",
      " [6.0091719e-05 1.0750835e-03 9.6700463e-04 ... 6.3589118e-02\n",
      "  7.1058586e-02 1.8128322e-01]\n",
      " [1.1767675e-03 5.5588660e-04 3.7995775e-04 ... 1.0615811e-01\n",
      "  2.9328763e-01 4.1529435e-01]\n",
      " ...\n",
      " [1.8260365e-05 9.7071952e-06 5.9431427e-06 ... 2.2589404e-05\n",
      "  8.9194457e-04 1.7504499e-03]\n",
      " [1.6128397e-05 6.9310840e-06 4.3358773e-07 ... 2.9531270e-06\n",
      "  8.8640873e-04 1.7095361e-03]\n",
      " [1.5151313e-05 8.8060378e-06 9.0604811e-07 ... 4.4976341e-06\n",
      "  8.7678141e-04 1.6987949e-03]]\n"
     ]
    }
   ],
   "source": [
    "spec_data = []\n",
    "for wav in speech_data[\"wav_vals\"][:len(speech_data[\"wav_vals\"])//2]:\n",
    "    spec_data.append(wav2spec(wav))\n",
    "    \n",
    "spec_arr = np.array(spec_data)\n",
    "print(spec_arr.shape)\n",
    "print(spec_arr[10]) # Spectrogram의 10번 데이터 확인"
   ]
  },
  {
   "cell_type": "code",
   "execution_count": 7,
   "id": "accessory-tower",
   "metadata": {
    "scrolled": true
   },
   "outputs": [
    {
     "name": "stdout",
     "output_type": "stream",
     "text": [
      "Waveform shape :  (8000,)\n",
      "Spectrogram shape :  (130, 126)\n"
     ]
    }
   ],
   "source": [
    "print(\"Waveform shape : \", speech_data[\"wav_vals\"][10].shape)\n",
    "print(\"Spectrogram shape : \", spec_arr[10].shape)"
   ]
  },
  {
   "cell_type": "markdown",
   "id": "assigned-pledge",
   "metadata": {},
   "source": [
    "### >>> Waveform 데이터: 1차원의 데이터이며 8000개\n",
    "### >>> Spectrogram 데이터: 2차원 데이터로 변환! (130, 126)"
   ]
  },
  {
   "cell_type": "markdown",
   "id": "allied-notice",
   "metadata": {},
   "source": [
    "## **❗2차원 Spectrogram 출력**"
   ]
  },
  {
   "cell_type": "code",
   "execution_count": 8,
   "id": "promising-agent",
   "metadata": {},
   "outputs": [
    {
     "data": {
      "image/png": "[encoded data removed]",
      "text/plain": [
       "<Figure size 432x288 with 2 Axes>"
      ]
     },
     "metadata": {
      "needs_background": "light"
     },
     "output_type": "display_data"
    }
   ],
   "source": [
    "import librosa.display\n",
    "import matplotlib.pyplot as plt\n",
    "\n",
    "spec = spec_data[10]\n",
    "librosa.display.specshow(librosa.amplitude_to_db(spec, ref=np.max), x_axis='time')\n",
    "plt.title('Power spectrogram')\n",
    "plt.colorbar(format='%+2.0f dB')\n",
    "plt.xticks(range(0, 1))\n",
    "plt.tight_layout()\n",
    "plt.show()"
   ]
  },
  {
   "cell_type": "markdown",
   "id": "sonic-register",
   "metadata": {},
   "source": [
    " \n"
   ]
  },
  {
   "cell_type": "markdown",
   "id": "peaceful-pressing",
   "metadata": {},
   "source": [
    "### **1-2. train, test나누기 & 라벨링**\n",
    "### - 현재 단어의 정답은 문자열이므로 학습가능한 형태(int, bool 등)로 변경 필요\n",
    "### label 목록 = ['yes', 'no', 'up', 'down', 'left', 'right', 'on', 'off', 'stop', 'go' ]\n",
    "### 위 목록이외의 데이터들은 'unknown', 'silence'로 분류되어 있습니다."
   ]
  },
  {
   "cell_type": "markdown",
   "id": "alone-glasgow",
   "metadata": {},
   "source": [
    "## **❗라벨 출력 및 라벨별 숫자 부여(int로 변경해 학습에 이용하기 위함!!)**"
   ]
  },
  {
   "cell_type": "code",
   "execution_count": 9,
   "id": "bibliographic-minority",
   "metadata": {
    "scrolled": true
   },
   "outputs": [
    {
     "name": "stdout",
     "output_type": "stream",
     "text": [
      "LABEL :  ['yes', 'no', 'up', 'down', 'left', 'right', 'on', 'off', 'stop', 'go', 'unknown', 'silence']\n",
      "Indexed LABEL :  {'yes': 0, 'no': 1, 'up': 2, 'down': 3, 'left': 4, 'right': 5, 'on': 6, 'off': 7, 'stop': 8, 'go': 9, 'unknown': 10, 'silence': 11}\n"
     ]
    }
   ],
   "source": [
    "# 라벨 출력 및 라벨별 숫자 부여(int로 변경해 학습에 이용하기 위함!!)\n",
    "\n",
    "target_list = ['yes', 'no', 'up', 'down', 'left', 'right', 'on', 'off', 'stop', 'go']\n",
    "\n",
    "label_value = target_list\n",
    "label_value.append('unknown')\n",
    "label_value.append('silence')\n",
    "\n",
    "print('LABEL : ', label_value)\n",
    "\n",
    "new_label_value = dict()\n",
    "for i, l in enumerate(label_value):\n",
    "    new_label_value[l] = i\n",
    "label_value = new_label_value\n",
    "\n",
    "print('Indexed LABEL : ', new_label_value)"
   ]
  },
  {
   "cell_type": "markdown",
   "id": "still-mediterranean",
   "metadata": {},
   "source": [
    "## **❗라벨 데이터 만들기**"
   ]
  },
  {
   "cell_type": "code",
   "execution_count": 10,
   "id": "working-sacrifice",
   "metadata": {
    "scrolled": true
   },
   "outputs": [
    {
     "name": "stdout",
     "output_type": "stream",
     "text": [
      "[3 3 3 ... 9 9 9]\n",
      "25310\n"
     ]
    }
   ],
   "source": [
    "# 라벨 데이터 만들기\n",
    "\n",
    "temp = []\n",
    "for v in speech_data[\"label_vals\"][:len(speech_data[\"label_vals\"])//2]:\n",
    "    temp.append(label_value[v[0]])\n",
    "label_data = np.array(temp)\n",
    "\n",
    "print(label_data)\n",
    "print(len(label_data))"
   ]
  },
  {
   "cell_type": "markdown",
   "id": "governing-popularity",
   "metadata": {},
   "source": [
    "## **❗train, test 분리**"
   ]
  },
  {
   "cell_type": "code",
   "execution_count": 11,
   "id": "choice-jones",
   "metadata": {},
   "outputs": [
    {
     "name": "stdout",
     "output_type": "stream",
     "text": [
      "(22779, 130, 126, 1)\n"
     ]
    }
   ],
   "source": [
    "# train, test 분리\n",
    "\n",
    "from sklearn.model_selection import train_test_split\n",
    "sr = spec_arr.shape[1] \n",
    "sc = spec_arr.shape[2]\n",
    "train_spectrogram, test_spectrogram, train_label, test_label = train_test_split(spec_arr, \n",
    "                                                                label_data, \n",
    "                                                                test_size=0.1,\n",
    "                                                                shuffle=True)\n",
    "\n",
    "test_audio = test_spectrogram.copy()\n",
    "\n",
    "train_spectrogram = train_spectrogram.reshape([-1, sr, sc, 1]) # add channel for CNN # reshape할 때 리스트 사용해도 무방\n",
    "test_spectrogram = test_spectrogram.reshape([-1, sr, sc, 1]) # (22779, 130, 126, 1)\n",
    "print(train_spectrogram.shape)"
   ]
  },
  {
   "cell_type": "code",
   "execution_count": 12,
   "id": "subsequent-funeral",
   "metadata": {},
   "outputs": [
    {
     "data": {
      "text/plain": [
       "TensorShape([2531, 130, 126, 1])"
      ]
     },
     "execution_count": 12,
     "metadata": {},
     "output_type": "execute_result"
    }
   ],
   "source": [
    "# reshape에 대한 고찰\n",
    "# -1은 사용자가 계산하기 어려울 때 자동으로 컴퓨터에게 계산을 요청할 때 사용\n",
    "# 예시) (4*5) array를 (2,10)으로 변경할 때 reshape(2,-1) 또는 (-1,10)을 사용\n",
    "\n",
    "import tensorflow as tf\n",
    "type(train_spectrogram)\n",
    "test_spectrogram_ = test_spectrogram.copy()\n",
    "# test_spectrogram_ = test_spectrogram_.reshape([-1,sr,sc,1]) # list = (2531,130,126,1)\n",
    "test_spectrogram_ = tf.reshape(test_spectrogram_, [-1,sr,sc,1]) # 텐서를 reshape를 할 때는 tf 사용\n",
    "test_spectrogram_.shape"
   ]
  },
  {
   "cell_type": "code",
   "execution_count": 13,
   "id": "hispanic-punishment",
   "metadata": {},
   "outputs": [],
   "source": [
    "del spec_data\n",
    "del speech_data\n",
    "del spec_arr\n",
    "del spec"
   ]
  },
  {
   "cell_type": "markdown",
   "id": "turned-brooks",
   "metadata": {},
   "source": [
    "## **❗분리된 데이터 확인**\n",
    "### >>> Train: 총 50620개 중 90%인 45558개\n",
    "### >>> Test: 총 50620개 중 10%인 5062개"
   ]
  },
  {
   "cell_type": "code",
   "execution_count": 14,
   "id": "chicken-weapon",
   "metadata": {},
   "outputs": [
    {
     "name": "stdout",
     "output_type": "stream",
     "text": [
      "train data :  (22779, 130, 126, 1)\n",
      "train labels :  (22779,)\n",
      "test data :  (2531, 130, 126, 1)\n",
      "test labels :  (2531,)\n"
     ]
    }
   ],
   "source": [
    "# 분리된 데이터 확인\n",
    "\n",
    "print(\"train data : \", train_spectrogram.shape)\n",
    "print(\"train labels : \", train_label.shape)\n",
    "print(\"test data : \", test_spectrogram.shape)\n",
    "print(\"test labels : \", test_label.shape)"
   ]
  },
  {
   "cell_type": "markdown",
   "id": "political-combining",
   "metadata": {},
   "source": [
    " \n",
    " \n",
    "  \n",
    "  \n",
    "   \n",
    "    \n",
    "    \n",
    "    \n",
    "    "
   ]
  },
  {
   "cell_type": "markdown",
   "id": "final-catch",
   "metadata": {},
   "source": [
    "## 2. 학습을 위한 파라미터 설정"
   ]
  },
  {
   "cell_type": "markdown",
   "id": "bulgarian-ranking",
   "metadata": {},
   "source": [
    "## **❗파라미터 설정**\n",
    "### >>> 모델 체크포인트 저장을 위한 체크포인트 경로 설정\n",
    "### >>> 나중에 모델 체크포인트 Callback 함수를 설정하거나, 모델을 불러올 때 사용!\n",
    "### >>> 배치사이즈 = 32 (전체 데이터를 10개 단위로 쪼개어 학습 진행)\n",
    "### >>> 최대epoch = 10 (학습을 진행 시 최대 몇회까지 학습을 할 것인지 지정)"
   ]
  },
  {
   "cell_type": "code",
   "execution_count": 15,
   "id": "adequate-bosnia",
   "metadata": {},
   "outputs": [
    {
     "data": {
      "text/plain": [
       "'/home/aiffel-dj40/1.AIFFEL_Study/Exploration/E05_Audio_Recognition//models/wav'"
      ]
     },
     "execution_count": 15,
     "metadata": {},
     "output_type": "execute_result"
    }
   ],
   "source": [
    "batch_size = 32\n",
    "max_epochs = 10\n",
    "\n",
    "# the save point\n",
    "checkpoint_dir = os.getenv('HOME')+'/1.AIFFEL_Study/Exploration/E05_Audio_Recognition//models/wav'\n",
    "\n",
    "checkpoint_dir"
   ]
  },
  {
   "cell_type": "markdown",
   "id": "wound-identity",
   "metadata": {},
   "source": [
    " \n",
    " \n",
    "  \n",
    "  \n",
    "   \n",
    "    \n",
    "    \n",
    "    \n",
    "    "
   ]
  },
  {
   "cell_type": "markdown",
   "id": "violent-nurse",
   "metadata": {},
   "source": [
    "## 3. 데이터셋 구성\n",
    "* ### tf.data.Dataset 이용\n",
    "* ### from_tensor_slices 함수에 return 받길 원하는 데이터를 튜플 (data, label) 형태로 넣어서 사용\n",
    "* ### map과 batch를 이용한 데이터 전처리\n",
    "* ### 주의 : waveform을 spectrogram으로 변환하기 위해 추가로 사용하는 메모리 때문에 이후 메모리 부족 현상을 겪게 될수도 있습니다. tf.data.Dataset이 생성된 이후, 아래 예시와 같이 wav 데이터나 spectrogram 데이터를 담아둔 메모리 버퍼를 비워 주면 도움이 됩니다. "
   ]
  },
  {
   "cell_type": "markdown",
   "id": "collect-output",
   "metadata": {},
   "source": [
    "## **❗one_hot 메소드 활용**"
   ]
  },
  {
   "cell_type": "code",
   "execution_count": 16,
   "id": "particular-mission",
   "metadata": {},
   "outputs": [
    {
     "name": "stdout",
     "output_type": "stream",
     "text": [
      "✅\n"
     ]
    }
   ],
   "source": [
    "def one_hot_label(wav, label):\n",
    "    label = tf.one_hot(label, depth=12)\n",
    "    return wav, label\n",
    "print(\"✅\")"
   ]
  },
  {
   "cell_type": "markdown",
   "id": "parliamentary-height",
   "metadata": {},
   "source": [
    "## **❗tf.data.Dataset 함수 구성**\n",
    "### Tensorflow에 포함된 이 데이터셋 관리 패키지는 데이터셋 전처리, 배치처리 등을 쉽게 할 수 있게 한다.\n",
    "### tf.data.Dataset.from_tensor_slices 함수에 return 받길 원하는 데이터를 튜플 (data, label) 형태로 넣어서 사용할 수 있다."
   ]
  },
  {
   "cell_type": "code",
   "execution_count": 17,
   "id": "daily-ensemble",
   "metadata": {},
   "outputs": [
    {
     "name": "stdout",
     "output_type": "stream",
     "text": [
      "<BatchDataset shapes: ((None, 130, 126, 1), (None, 12)), types: (tf.float32, tf.float32)>\n"
     ]
    }
   ],
   "source": [
    "import tensorflow as tf\n",
    "\n",
    "# for train\n",
    "train_dataset = tf.data.Dataset.from_tensor_slices((train_spectrogram, train_label))\n",
    "train_dataset = train_dataset.map(one_hot_label) # from_tensor_slice에 입력한 튜플 형태로 데이터를 받으려 리턴값으로 어떤 데이터 반환할 지 결정\n",
    "train_dataset = train_dataset.repeat().batch(batch_size=batch_size)\n",
    "print(train_dataset)"
   ]
  },
  {
   "cell_type": "code",
   "execution_count": 18,
   "id": "consecutive-chester",
   "metadata": {},
   "outputs": [
    {
     "name": "stdout",
     "output_type": "stream",
     "text": [
      "<BatchDataset shapes: ((None, 130, 126, 1), (None, 12)), types: (tf.float32, tf.float32)>\n"
     ]
    }
   ],
   "source": [
    "# for test\n",
    "test_dataset = tf.data.Dataset.from_tensor_slices((test_spectrogram, test_label))\n",
    "test_dataset = test_dataset.map(one_hot_label)\n",
    "test_dataset = test_dataset.batch(batch_size=batch_size)\n",
    "print(test_dataset)"
   ]
  },
  {
   "cell_type": "markdown",
   "id": "incorporated-cleaners",
   "metadata": {},
   "source": [
    " \n",
    " \n",
    "  \n",
    "  \n",
    "   \n",
    "    \n",
    "    \n",
    "    \n",
    "    "
   ]
  },
  {
   "cell_type": "markdown",
   "id": "massive-interview",
   "metadata": {},
   "source": [
    "## 4. 2차원 Spectrogram 데이터를 처리하는 모델 구성\n",
    "* ### 2차원 Spectrogram 데이터의 시간축 방향으로 Conv1D layer를 적용, 혹은 Conv2D layer를 적용 가능\n",
    "* ### batchnorm, dropout, dense layer 등을 이용\n",
    "* ### 12개의 단어 class를 구분하는 loss를 사용하고 Adam optimizer를 사용\n",
    "* ### 모델 가중치를 저장하는 checkpoint callback 함수 추가\n",
    "* ### 다양한 모델의 실험을 진행해 보시기 바랍니다."
   ]
  },
  {
   "cell_type": "markdown",
   "id": "reduced-kingston",
   "metadata": {},
   "source": [
    "## **❗모델 설계 (1) - Conv1D**"
   ]
  },
  {
   "cell_type": "code",
   "execution_count": 19,
   "id": "latin-deployment",
   "metadata": {
    "scrolled": true
   },
   "outputs": [
    {
     "name": "stdout",
     "output_type": "stream",
     "text": [
      "Model: \"model\"\n",
      "_________________________________________________________________\n",
      "Layer (type)                 Output Shape              Param #   \n",
      "=================================================================\n",
      "input_1 (InputLayer)         [(None, 130, 126)]        0         \n",
      "_________________________________________________________________\n",
      "conv1d (Conv1D)              (None, 130, 32)           36320     \n",
      "_________________________________________________________________\n",
      "conv1d_1 (Conv1D)            (None, 130, 32)           9248      \n",
      "_________________________________________________________________\n",
      "max_pooling1d (MaxPooling1D) (None, 65, 32)            0         \n",
      "_________________________________________________________________\n",
      "conv1d_2 (Conv1D)            (None, 65, 64)            18496     \n",
      "_________________________________________________________________\n",
      "conv1d_3 (Conv1D)            (None, 65, 64)            36928     \n",
      "_________________________________________________________________\n",
      "max_pooling1d_1 (MaxPooling1 (None, 32, 64)            0         \n",
      "_________________________________________________________________\n",
      "conv1d_4 (Conv1D)            (None, 32, 128)           73856     \n",
      "_________________________________________________________________\n",
      "conv1d_5 (Conv1D)            (None, 32, 128)           147584    \n",
      "_________________________________________________________________\n",
      "conv1d_6 (Conv1D)            (None, 32, 128)           147584    \n",
      "_________________________________________________________________\n",
      "max_pooling1d_2 (MaxPooling1 (None, 16, 128)           0         \n",
      "_________________________________________________________________\n",
      "conv1d_7 (Conv1D)            (None, 16, 256)           295168    \n",
      "_________________________________________________________________\n",
      "conv1d_8 (Conv1D)            (None, 16, 256)           590080    \n",
      "_________________________________________________________________\n",
      "conv1d_9 (Conv1D)            (None, 16, 256)           590080    \n",
      "_________________________________________________________________\n",
      "max_pooling1d_3 (MaxPooling1 (None, 8, 256)            0         \n",
      "_________________________________________________________________\n",
      "dropout (Dropout)            (None, 8, 256)            0         \n",
      "_________________________________________________________________\n",
      "flatten (Flatten)            (None, 2048)              0         \n",
      "_________________________________________________________________\n",
      "dense (Dense)                (None, 256)               524544    \n",
      "_________________________________________________________________\n",
      "batch_normalization (BatchNo (None, 256)               1024      \n",
      "_________________________________________________________________\n",
      "activation (Activation)      (None, 256)               0         \n",
      "_________________________________________________________________\n",
      "dense_1 (Dense)              (None, 12)                3084      \n",
      "=================================================================\n",
      "Total params: 2,473,996\n",
      "Trainable params: 2,473,484\n",
      "Non-trainable params: 512\n",
      "_________________________________________________________________\n"
     ]
    }
   ],
   "source": [
    "from tensorflow.keras import layers\n",
    "\n",
    "input_tensor = layers.Input(shape=(sr,sc,))\n",
    "\n",
    "x = layers.Conv1D(32, 9, padding='same', activation='relu')(input_tensor)\n",
    "x = layers.Conv1D(32, 9, padding='same', activation='relu')(x)\n",
    "x = layers.MaxPool1D()(x)\n",
    "\n",
    "x = layers.Conv1D(64, 9, padding='same', activation='relu')(x)\n",
    "x = layers.Conv1D(64, 9, padding='same', activation='relu')(x)\n",
    "x = layers.MaxPool1D()(x)\n",
    "\n",
    "x = layers.Conv1D(128, 9, padding='same', activation='relu')(x)\n",
    "x = layers.Conv1D(128, 9, padding='same', activation='relu')(x)\n",
    "x = layers.Conv1D(128, 9, padding='same', activation='relu')(x)\n",
    "x = layers.MaxPool1D()(x)\n",
    "\n",
    "x = layers.Conv1D(256, 9, padding='same', activation='relu')(x)\n",
    "x = layers.Conv1D(256, 9, padding='same', activation='relu')(x)\n",
    "x = layers.Conv1D(256, 9, padding='same', activation='relu')(x)\n",
    "x = layers.MaxPool1D()(x)\n",
    "x = layers.Dropout(0.3)(x)\n",
    "\n",
    "x = layers.Flatten()(x)\n",
    "x = layers.Dense(256)(x)\n",
    "x = layers.BatchNormalization()(x)\n",
    "x = layers.Activation('relu')(x)\n",
    "\n",
    "output_tensor = layers.Dense(12)(x)\n",
    "\n",
    "model_spectrogram = tf.keras.Model(input_tensor, output_tensor)\n",
    "\n",
    "model_spectrogram.summary()"
   ]
  },
  {
   "cell_type": "markdown",
   "id": "flush-order",
   "metadata": {},
   "source": [
    "## **❗12개의 단어 class를 구분하는 loss를 사용하고 Adam optimizer를 사용**\n",
    "### class를 구분하기 위해 multi-class classification 사용, 이를 수행하기 위한 loss로 Categorical Cross-Entropy loss사용"
   ]
  },
  {
   "cell_type": "code",
   "execution_count": 20,
   "id": "asian-puppy",
   "metadata": {},
   "outputs": [
    {
     "name": "stdout",
     "output_type": "stream",
     "text": [
      "✅\n"
     ]
    }
   ],
   "source": [
    "optimizer=tf.keras.optimizers.Adam(1e-4)\n",
    "model_spectrogram.compile(loss=tf.keras.losses.CategoricalCrossentropy(from_logits=True),\n",
    "             optimizer=optimizer,\n",
    "             metrics=['accuracy'])\n",
    "print(\"✅\")"
   ]
  },
  {
   "cell_type": "markdown",
   "id": "young-bulgarian",
   "metadata": {},
   "source": [
    "## **❗callback**\n",
    "### model.fit 사용시 callback함수를 이용해 학습 중간 원하는 동작을 하도록 설정 가능\n",
    "### 모델 재사용을 위해 가중치를 저장하는 callback 함수 추가\n",
    "### ModelCheckpoin메소드는 학습을 진행하며 다양한 인자를 지정해서 모니터하며 동작하게 설정할 수 있다.\n",
    "### 아래는 검증 loss가 낮아지면 모델 파라미터를 저장하도록 구성."
   ]
  },
  {
   "cell_type": "code",
   "execution_count": 21,
   "id": "distinguished-geneva",
   "metadata": {},
   "outputs": [
    {
     "name": "stdout",
     "output_type": "stream",
     "text": [
      "✅\n"
     ]
    }
   ],
   "source": [
    "cp_callback = tf.keras.callbacks.ModelCheckpoint(checkpoint_dir,\n",
    "                                                 save_weights_only=True,\n",
    "                                                 monitor='val_loss',\n",
    "                                                 mode='auto',\n",
    "                                                 save_best_only=True,\n",
    "                                                 verbose=1)\n",
    "print(\"✅\")"
   ]
  },
  {
   "cell_type": "markdown",
   "id": "polish-india",
   "metadata": {},
   "source": [
    "## **❗학습 (1) - Conv1D**\n",
    "### 배치 사이즈 = 32, 최대epoch = 10으로 설정함(파라미터 설정 부분에서 정의함)"
   ]
  },
  {
   "cell_type": "code",
   "execution_count": 22,
   "id": "plain-senator",
   "metadata": {},
   "outputs": [
    {
     "name": "stdout",
     "output_type": "stream",
     "text": [
      "Epoch 1/10\n",
      "708/711 [============================>.] - ETA: 0s - loss: 1.5704 - accuracy: 0.4577\n",
      "Epoch 00001: val_loss improved from inf to 1.06453, saving model to /home/aiffel-dj40/1.AIFFEL_Study/Exploration/E05_Audio_Recognition//models/wav\n",
      "711/711 [==============================] - 5s 7ms/step - loss: 1.5685 - accuracy: 0.4582 - val_loss: 1.0645 - val_accuracy: 0.6242\n",
      "Epoch 2/10\n",
      "707/711 [============================>.] - ETA: 0s - loss: 0.9155 - accuracy: 0.6851\n",
      "Epoch 00002: val_loss improved from 1.06453 to 0.64869, saving model to /home/aiffel-dj40/1.AIFFEL_Study/Exploration/E05_Audio_Recognition//models/wav\n",
      "711/711 [==============================] - 5s 7ms/step - loss: 0.9137 - accuracy: 0.6856 - val_loss: 0.6487 - val_accuracy: 0.7801\n",
      "Epoch 3/10\n",
      "704/711 [============================>.] - ETA: 0s - loss: 0.5864 - accuracy: 0.8013\n",
      "Epoch 00003: val_loss improved from 0.64869 to 0.45808, saving model to /home/aiffel-dj40/1.AIFFEL_Study/Exploration/E05_Audio_Recognition//models/wav\n",
      "711/711 [==============================] - 5s 7ms/step - loss: 0.5852 - accuracy: 0.8018 - val_loss: 0.4581 - val_accuracy: 0.8445\n",
      "Epoch 4/10\n",
      "706/711 [============================>.] - ETA: 0s - loss: 0.4225 - accuracy: 0.8571\n",
      "Epoch 00004: val_loss improved from 0.45808 to 0.38759, saving model to /home/aiffel-dj40/1.AIFFEL_Study/Exploration/E05_Audio_Recognition//models/wav\n",
      "711/711 [==============================] - 5s 7ms/step - loss: 0.4216 - accuracy: 0.8574 - val_loss: 0.3876 - val_accuracy: 0.8718\n",
      "Epoch 5/10\n",
      "707/711 [============================>.] - ETA: 0s - loss: 0.3259 - accuracy: 0.8909\n",
      "Epoch 00005: val_loss did not improve from 0.38759\n",
      "711/711 [==============================] - 5s 7ms/step - loss: 0.3256 - accuracy: 0.8910 - val_loss: 0.3918 - val_accuracy: 0.8651\n",
      "Epoch 6/10\n",
      "704/711 [============================>.] - ETA: 0s - loss: 0.2592 - accuracy: 0.9116\n",
      "Epoch 00006: val_loss improved from 0.38759 to 0.38609, saving model to /home/aiffel-dj40/1.AIFFEL_Study/Exploration/E05_Audio_Recognition//models/wav\n",
      "711/711 [==============================] - 5s 7ms/step - loss: 0.2588 - accuracy: 0.9117 - val_loss: 0.3861 - val_accuracy: 0.8722\n",
      "Epoch 7/10\n",
      "711/711 [==============================] - ETA: 0s - loss: 0.2114 - accuracy: 0.9287\n",
      "Epoch 00007: val_loss did not improve from 0.38609\n",
      "711/711 [==============================] - 5s 7ms/step - loss: 0.2114 - accuracy: 0.9287 - val_loss: 0.4282 - val_accuracy: 0.8691\n",
      "Epoch 8/10\n",
      "705/711 [============================>.] - ETA: 0s - loss: 0.1831 - accuracy: 0.9392\n",
      "Epoch 00008: val_loss improved from 0.38609 to 0.32993, saving model to /home/aiffel-dj40/1.AIFFEL_Study/Exploration/E05_Audio_Recognition//models/wav\n",
      "711/711 [==============================] - 5s 7ms/step - loss: 0.1828 - accuracy: 0.9393 - val_loss: 0.3299 - val_accuracy: 0.8916\n",
      "Epoch 9/10\n",
      "704/711 [============================>.] - ETA: 0s - loss: 0.1551 - accuracy: 0.9483\n",
      "Epoch 00009: val_loss did not improve from 0.32993\n",
      "711/711 [==============================] - 5s 7ms/step - loss: 0.1551 - accuracy: 0.9484 - val_loss: 0.3548 - val_accuracy: 0.8936\n",
      "Epoch 10/10\n",
      "711/711 [==============================] - ETA: 0s - loss: 0.1341 - accuracy: 0.9558\n",
      "Epoch 00010: val_loss did not improve from 0.32993\n",
      "711/711 [==============================] - 5s 7ms/step - loss: 0.1341 - accuracy: 0.9558 - val_loss: 0.3384 - val_accuracy: 0.8968\n",
      "✅\n"
     ]
    }
   ],
   "source": [
    "#30분 내외 소요 (메모리 사용량에 주의해 주세요.)\n",
    "history_spectrogram = model_spectrogram.fit(train_dataset, epochs=max_epochs,\n",
    "                    steps_per_epoch=len(train_spectrogram) // batch_size,\n",
    "                    validation_data=test_dataset,\n",
    "                    validation_steps=len(test_spectrogram) // batch_size,\n",
    "                    callbacks=[cp_callback]\n",
    "                    )\n",
    "print(\"✅\")"
   ]
  },
  {
   "cell_type": "markdown",
   "id": "lasting-physics",
   "metadata": {},
   "source": [
    " \n",
    " \n",
    "  \n",
    "  \n",
    "   \n",
    "    \n",
    "    \n",
    "    \n",
    "    "
   ]
  },
  {
   "cell_type": "markdown",
   "id": "billion-mileage",
   "metadata": {},
   "source": [
    "## 5. 학습 후, 학습이 어떻게 진행됐는지 그래프로 출력\n",
    "* ### loss, accuracy를 그래프로 표현"
   ]
  },
  {
   "cell_type": "markdown",
   "id": "multiple-appeal",
   "metadata": {},
   "source": [
    "## **❗학습결과 Plot (1) - Conv1D**\n",
    "### history메소드를 활용해 저장된 정확도와 loss를 불러와 그래프 시각화 진행\n",
    "### >>> epoch=2 이후부터 train_loss 와 val_loss 차이가 커져 오버피팅 의심"
   ]
  },
  {
   "cell_type": "code",
   "execution_count": 23,
   "id": "reported-connecticut",
   "metadata": {
    "scrolled": true
   },
   "outputs": [
    {
     "data": {
      "image/png": "[encoded data removed]",
      "text/plain": [
       "<Figure size 576x576 with 2 Axes>"
      ]
     },
     "metadata": {
      "needs_background": "light"
     },
     "output_type": "display_data"
    },
    {
     "name": "stdout",
     "output_type": "stream",
     "text": [
      "✅\n"
     ]
    }
   ],
   "source": [
    "import matplotlib.pyplot as plt\n",
    "\n",
    "acc = history_spectrogram.history['accuracy']\n",
    "val_acc = history_spectrogram.history['val_accuracy']\n",
    "\n",
    "loss=history_spectrogram.history['loss']\n",
    "val_loss=history_spectrogram.history['val_loss']\n",
    "\n",
    "epochs_range = range(len(acc))\n",
    "\n",
    "plt.figure(figsize=(8, 8))\n",
    "plt.subplot(1, 2, 1)\n",
    "plt.plot(epochs_range, acc, label='Training Accuracy')\n",
    "plt.plot(epochs_range, val_acc, label='Validation Accuracy')\n",
    "plt.legend(loc='lower right')\n",
    "plt.title('Training and Validation Accuracy')\n",
    "\n",
    "plt.subplot(1, 2, 2)\n",
    "plt.plot(epochs_range, loss, label='Training Loss')\n",
    "plt.plot(epochs_range, val_loss, label='Validation Loss')\n",
    "plt.legend(loc='upper right')\n",
    "plt.title('Training and Validation Loss')\n",
    "plt.show()\n",
    "print(\"✅\")"
   ]
  },
  {
   "cell_type": "markdown",
   "id": "alive-intranet",
   "metadata": {},
   "source": [
    " \n",
    " \n",
    "  \n",
    "  \n",
    "   \n",
    "    \n",
    "    \n",
    "    \n",
    "    "
   ]
  },
  {
   "cell_type": "markdown",
   "id": "wrong-nation",
   "metadata": {},
   "source": [
    " \n",
    " \n",
    "  \n",
    "  \n",
    "   \n",
    "    \n",
    "    \n",
    "    \n",
    "    "
   ]
  },
  {
   "cell_type": "markdown",
   "id": "champion-research",
   "metadata": {},
   "source": [
    "## 6. Test dataset을 이용해서 모델의 성능을 평가\n",
    "* ### 저장한 weight 불러오기\n",
    "* ### 모델의 예측값과 정답값이 얼마나 일치하는지 확인\n"
   ]
  },
  {
   "cell_type": "markdown",
   "id": "successful-philosophy",
   "metadata": {},
   "source": [
    "## **❗모델 평가 (1) - Conv1D**\n",
    "### checkpoint callback 함수가 저장한 weight를 다시 불러와서 테스트 준비"
   ]
  },
  {
   "cell_type": "code",
   "execution_count": 24,
   "id": "running-quest",
   "metadata": {},
   "outputs": [
    {
     "name": "stdout",
     "output_type": "stream",
     "text": [
      "✅\n"
     ]
    }
   ],
   "source": [
    "# 평가\n",
    "model_spectrogram.load_weights(checkpoint_dir)\n",
    "print(\"✅\")"
   ]
  },
  {
   "cell_type": "markdown",
   "id": "enormous-genealogy",
   "metadata": {},
   "source": [
    "## **❗Test data를 이용해 모델의 예측값과 실제값이 얼마나 일치하는지 확인 (1) - Conv1D**"
   ]
  },
  {
   "cell_type": "code",
   "execution_count": 25,
   "id": "entire-village",
   "metadata": {},
   "outputs": [
    {
     "name": "stdout",
     "output_type": "stream",
     "text": [
      "80/80 [==============================] - 14s 179ms/step - loss: 0.3296 - accuracy: 0.8917\n",
      "✅\n"
     ]
    }
   ],
   "source": [
    "# Test data을 이용하여 모델의 예측값과 실제값이 얼마나 일치하는지 확인하겠습니다.\n",
    "results = model_spectrogram.evaluate(test_dataset)\n",
    "print(\"✅\")"
   ]
  },
  {
   "cell_type": "code",
   "execution_count": 26,
   "id": "linear-antibody",
   "metadata": {
    "scrolled": true
   },
   "outputs": [
    {
     "name": "stdout",
     "output_type": "stream",
     "text": [
      "loss value: 0.330\n",
      "accuracy value: 89.1742%\n",
      "✅\n"
     ]
    }
   ],
   "source": [
    "# loss\n",
    "print(\"loss value: {:.3f}\".format(results[0]))\n",
    "# accuracy\n",
    "print(\"accuracy value: {:.4f}%\".format(results[1]*100))\n",
    "print(\"✅\")"
   ]
  },
  {
   "cell_type": "markdown",
   "id": "worthy-switch",
   "metadata": {},
   "source": [
    "## **❗Test data set을 골라 직접 들어보고 모델의 예측이 맞는지 확인 (1) - Conv1D**"
   ]
  },
  {
   "cell_type": "code",
   "execution_count": 27,
   "id": "constant-stocks",
   "metadata": {},
   "outputs": [
    {
     "data": {
      "text/plain": [
       "{'yes': 0,\n",
       " 'no': 1,\n",
       " 'up': 2,\n",
       " 'down': 3,\n",
       " 'left': 4,\n",
       " 'right': 5,\n",
       " 'on': 6,\n",
       " 'off': 7,\n",
       " 'stop': 8,\n",
       " 'go': 9,\n",
       " 'unknown': 10,\n",
       " 'silence': 11}"
      ]
     },
     "execution_count": 27,
     "metadata": {},
     "output_type": "execute_result"
    }
   ],
   "source": [
    "label_value"
   ]
  },
  {
   "cell_type": "code",
   "execution_count": 28,
   "id": "skilled-workstation",
   "metadata": {},
   "outputs": [],
   "source": [
    "def spec2wav(wav):\n",
    "    D = np.abs(librosa.istft(wav))\n",
    "    return D"
   ]
  },
  {
   "cell_type": "code",
   "execution_count": 29,
   "id": "starting-teens",
   "metadata": {},
   "outputs": [
    {
     "name": "stdout",
     "output_type": "stream",
     "text": [
      "y_pred: yes(Correct!)\n"
     ]
    }
   ],
   "source": [
    "# Test data 셋을 골라 직접 들어보고 모델의 예측이 맞는지 확인해 봅시다.\n",
    "inv_label_value = {v: k for k, v in label_value.items()}\n",
    "batch_index = np.random.choice(len(test_spectrogram), size=1, replace=False)\n",
    "\n",
    "batch_xs = test_spectrogram[batch_index]\n",
    "batch_ys = test_label[batch_index]\n",
    "y_pred_ = model_spectrogram(batch_xs, training=False)\n",
    "\n",
    "# 위에서 확인해본 테스트셋의 라벨과 우리 모델의 실제 prediction 결과를 비교해 봅시다.\n",
    "if np.argmax(y_pred_) == batch_ys[0]:\n",
    "    print(\"y_pred: \" + str(inv_label_value[np.argmax(y_pred_)]) + '(Correct!)')\n",
    "else:\n",
    "    print(\"y_pred: \" + str(inv_label_value[np.argmax(y_pred_)]) + '(Incorrect!)')"
   ]
  },
  {
   "cell_type": "code",
   "execution_count": 30,
   "id": "latest-guard",
   "metadata": {
    "scrolled": false
   },
   "outputs": [
    {
     "data": {
      "text/plain": [
       "(2531, 8000)"
      ]
     },
     "execution_count": 30,
     "metadata": {},
     "output_type": "execute_result"
    }
   ],
   "source": [
    "data_wav = []\n",
    "for spec in test_audio:\n",
    "    wav = spec2wav(spec)\n",
    "    data_wav.append(wav)\n",
    "data_wav = np.array(data_wav)\n",
    "data_wav.shape"
   ]
  },
  {
   "cell_type": "code",
   "execution_count": 31,
   "id": "industrial-synthesis",
   "metadata": {},
   "outputs": [
    {
     "name": "stdout",
     "output_type": "stream",
     "text": [
      "label :  yes\n"
     ]
    },
    {
     "data": {
      "text/html": [
       "\n",
       "                <audio  controls=\"controls\" >\n",
       "                    <source src=\"data:audio/wav;base64,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\" type=\"audio/wav\" />\n",
       "                    Your browser does not support the audio element.\n",
       "                </audio>\n",
       "              "
      ],
      "text/plain": [
       "<IPython.lib.display.Audio object>"
      ]
     },
     "execution_count": 31,
     "metadata": {},
     "output_type": "execute_result"
    }
   ],
   "source": [
    "import IPython.display as ipd\n",
    "\n",
    "x = data_wav[batch_index]\n",
    "print(\"label : \", str(inv_label_value[batch_ys[0]]))\n",
    "ipd.Audio(x.reshape(8000,), rate=8000)"
   ]
  },
  {
   "cell_type": "markdown",
   "id": "documentary-kenya",
   "metadata": {},
   "source": [
    " \n",
    " \n",
    "  \n",
    "  \n",
    "   \n",
    "    \n",
    "    \n",
    "    \n",
    "    "
   ]
  },
  {
   "cell_type": "markdown",
   "id": "relevant-lottery",
   "metadata": {},
   "source": [
    "## **❗모델 설계 (2) - Conv2D**"
   ]
  },
  {
   "cell_type": "markdown",
   "id": "impressed-halloween",
   "metadata": {},
   "source": [
    "## ❗Conv2D 사용 (모델 설계부터 평가까지)"
   ]
  },
  {
   "cell_type": "markdown",
   "id": "coordinate-serbia",
   "metadata": {},
   "source": [
    "### Conv1D -> Conv2D\n",
    "x = layers.Conv<span style=\"color:red\">**1D**</span>(32, <span style=\"color:red\">**9**</span>, padding='same', activation='relu')(input_tensor)\n",
    "\n",
    "-> x = layers.Conv<span style=\"color:red\">**2D**</span>(32, <span style=\"color:red\">**(3,3)**</span>, padding = 'same', activation = 'relu')(input_tensor)"
   ]
  },
  {
   "cell_type": "code",
   "execution_count": 32,
   "id": "automatic-wrapping",
   "metadata": {
    "scrolled": true
   },
   "outputs": [
    {
     "name": "stdout",
     "output_type": "stream",
     "text": [
      "Model: \"model_1\"\n",
      "_________________________________________________________________\n",
      "Layer (type)                 Output Shape              Param #   \n",
      "=================================================================\n",
      "input_2 (InputLayer)         [(None, 130, 126, 1)]     0         \n",
      "_________________________________________________________________\n",
      "conv2d (Conv2D)              (None, 130, 126, 32)      320       \n",
      "_________________________________________________________________\n",
      "conv2d_1 (Conv2D)            (None, 130, 126, 32)      9248      \n",
      "_________________________________________________________________\n",
      "max_pooling2d (MaxPooling2D) (None, 65, 63, 32)        0         \n",
      "_________________________________________________________________\n",
      "conv2d_2 (Conv2D)            (None, 65, 63, 64)        18496     \n",
      "_________________________________________________________________\n",
      "conv2d_3 (Conv2D)            (None, 65, 63, 64)        36928     \n",
      "_________________________________________________________________\n",
      "max_pooling2d_1 (MaxPooling2 (None, 32, 31, 64)        0         \n",
      "_________________________________________________________________\n",
      "conv2d_4 (Conv2D)            (None, 32, 31, 128)       73856     \n",
      "_________________________________________________________________\n",
      "conv2d_5 (Conv2D)            (None, 32, 31, 128)       147584    \n",
      "_________________________________________________________________\n",
      "conv2d_6 (Conv2D)            (None, 32, 31, 128)       147584    \n",
      "_________________________________________________________________\n",
      "max_pooling2d_2 (MaxPooling2 (None, 16, 15, 128)       0         \n",
      "_________________________________________________________________\n",
      "conv2d_7 (Conv2D)            (None, 16, 15, 256)       295168    \n",
      "_________________________________________________________________\n",
      "conv2d_8 (Conv2D)            (None, 16, 15, 256)       590080    \n",
      "_________________________________________________________________\n",
      "conv2d_9 (Conv2D)            (None, 16, 15, 256)       590080    \n",
      "_________________________________________________________________\n",
      "max_pooling2d_3 (MaxPooling2 (None, 8, 7, 256)         0         \n",
      "_________________________________________________________________\n",
      "dropout_1 (Dropout)          (None, 8, 7, 256)         0         \n",
      "_________________________________________________________________\n",
      "flatten_1 (Flatten)          (None, 14336)             0         \n",
      "_________________________________________________________________\n",
      "dense_2 (Dense)              (None, 256)               3670272   \n",
      "_________________________________________________________________\n",
      "batch_normalization_1 (Batch (None, 256)               1024      \n",
      "_________________________________________________________________\n",
      "activation_1 (Activation)    (None, 256)               0         \n",
      "_________________________________________________________________\n",
      "dense_3 (Dense)              (None, 12)                3084      \n",
      "=================================================================\n",
      "Total params: 5,583,724\n",
      "Trainable params: 5,583,212\n",
      "Non-trainable params: 512\n",
      "_________________________________________________________________\n"
     ]
    }
   ],
   "source": [
    "from tensorflow.keras import layers\n",
    "\n",
    "input_tensor = layers.Input(shape=(sr,sc,1))\n",
    "\n",
    "x = layers.Conv2D(32, (3,3), padding='same', activation='relu')(input_tensor)\n",
    "x = layers.Conv2D(32, (3,3), padding='same', activation='relu')(x)\n",
    "x = layers.MaxPool2D()(x)\n",
    "\n",
    "x = layers.Conv2D(64, (3,3), padding='same', activation='relu')(x)\n",
    "x = layers.Conv2D(64, (3,3), padding='same', activation='relu')(x)\n",
    "x = layers.MaxPool2D()(x)\n",
    "\n",
    "x = layers.Conv2D(128, (3,3), padding='same', activation='relu')(x)\n",
    "x = layers.Conv2D(128, (3,3), padding='same', activation='relu')(x)\n",
    "x = layers.Conv2D(128, (3,3), padding='same', activation='relu')(x)\n",
    "x = layers.MaxPool2D()(x)\n",
    "\n",
    "x = layers.Conv2D(256, (3,3), padding='same', activation='relu')(x)\n",
    "x = layers.Conv2D(256, (3,3), padding='same', activation='relu')(x)\n",
    "x = layers.Conv2D(256, (3,3), padding='same', activation='relu')(x)\n",
    "x = layers.MaxPool2D()(x)\n",
    "x = layers.Dropout(0.3)(x)\n",
    "\n",
    "x = layers.Flatten()(x)\n",
    "x = layers.Dense(256)(x)\n",
    "x = layers.BatchNormalization()(x)\n",
    "x = layers.Activation('relu')(x)\n",
    "\n",
    "output_tensor = layers.Dense(12)(x)\n",
    "\n",
    "model_Spectrogram_2D = tf.keras.Model(input_tensor, output_tensor)\n",
    "\n",
    "model_Spectrogram_2D.summary()"
   ]
  },
  {
   "cell_type": "code",
   "execution_count": 33,
   "id": "organized-banana",
   "metadata": {
    "scrolled": true
   },
   "outputs": [
    {
     "name": "stdout",
     "output_type": "stream",
     "text": [
      "✅\n"
     ]
    }
   ],
   "source": [
    "optimizer=tf.keras.optimizers.Adam(1e-4)\n",
    "model_Spectrogram_2D.compile(loss=tf.keras.losses.CategoricalCrossentropy(from_logits=True),\n",
    "             optimizer=optimizer,\n",
    "             metrics=['accuracy'])\n",
    "print(\"✅\")"
   ]
  },
  {
   "cell_type": "code",
   "execution_count": 34,
   "id": "bridal-fellowship",
   "metadata": {},
   "outputs": [
    {
     "name": "stdout",
     "output_type": "stream",
     "text": [
      "✅\n"
     ]
    }
   ],
   "source": [
    "# the save point\n",
    "checkpoint_dir = os.getenv('HOME')+'/aiffel/speech_recognition/models/spectrogram_2D'\n",
    "\n",
    "cp_callback = tf.keras.callbacks.ModelCheckpoint(checkpoint_dir,\n",
    "                                                 save_weights_only=True,\n",
    "                                                 monitor='val_loss',\n",
    "                                                 mode='auto',\n",
    "                                                 save_best_only=True,\n",
    "                                                 verbose=1)\n",
    "print(\"✅\")"
   ]
  },
  {
   "cell_type": "code",
   "execution_count": 35,
   "id": "chief-heart",
   "metadata": {},
   "outputs": [
    {
     "name": "stdout",
     "output_type": "stream",
     "text": [
      "Epoch 1/10\n",
      "710/711 [============================>.] - ETA: 0s - loss: 0.8965 - accuracy: 0.7044\n",
      "Epoch 00001: val_loss improved from inf to 0.34792, saving model to /home/aiffel-dj40/aiffel/speech_recognition/models/spectrogram_2D\n",
      "711/711 [==============================] - 30s 43ms/step - loss: 0.8957 - accuracy: 0.7046 - val_loss: 0.3479 - val_accuracy: 0.8892\n",
      "Epoch 2/10\n",
      "711/711 [==============================] - ETA: 0s - loss: 0.2839 - accuracy: 0.9116\n",
      "Epoch 00002: val_loss improved from 0.34792 to 0.24491, saving model to /home/aiffel-dj40/aiffel/speech_recognition/models/spectrogram_2D\n",
      "711/711 [==============================] - 30s 43ms/step - loss: 0.2839 - accuracy: 0.9116 - val_loss: 0.2449 - val_accuracy: 0.9205\n",
      "Epoch 3/10\n",
      "710/711 [============================>.] - ETA: 0s - loss: 0.1830 - accuracy: 0.9459\n",
      "Epoch 00003: val_loss improved from 0.24491 to 0.24169, saving model to /home/aiffel-dj40/aiffel/speech_recognition/models/spectrogram_2D\n",
      "711/711 [==============================] - 31s 43ms/step - loss: 0.1829 - accuracy: 0.9459 - val_loss: 0.2417 - val_accuracy: 0.9241\n",
      "Epoch 4/10\n",
      "711/711 [==============================] - ETA: 0s - loss: 0.1365 - accuracy: 0.9595\n",
      "Epoch 00004: val_loss improved from 0.24169 to 0.20724, saving model to /home/aiffel-dj40/aiffel/speech_recognition/models/spectrogram_2D\n",
      "711/711 [==============================] - 31s 43ms/step - loss: 0.1365 - accuracy: 0.9595 - val_loss: 0.2072 - val_accuracy: 0.9371\n",
      "Epoch 5/10\n",
      "711/711 [==============================] - ETA: 0s - loss: 0.1060 - accuracy: 0.9684\n",
      "Epoch 00005: val_loss improved from 0.20724 to 0.15507, saving model to /home/aiffel-dj40/aiffel/speech_recognition/models/spectrogram_2D\n",
      "711/711 [==============================] - 31s 43ms/step - loss: 0.1060 - accuracy: 0.9684 - val_loss: 0.1551 - val_accuracy: 0.9513\n",
      "Epoch 6/10\n",
      "710/711 [============================>.] - ETA: 0s - loss: 0.0838 - accuracy: 0.9761\n",
      "Epoch 00006: val_loss did not improve from 0.15507\n",
      "711/711 [==============================] - 31s 43ms/step - loss: 0.0837 - accuracy: 0.9761 - val_loss: 0.1749 - val_accuracy: 0.9470\n",
      "Epoch 7/10\n",
      "711/711 [==============================] - ETA: 0s - loss: 0.0701 - accuracy: 0.9794\n",
      "Epoch 00007: val_loss improved from 0.15507 to 0.12611, saving model to /home/aiffel-dj40/aiffel/speech_recognition/models/spectrogram_2D\n",
      "711/711 [==============================] - 31s 43ms/step - loss: 0.0701 - accuracy: 0.9794 - val_loss: 0.1261 - val_accuracy: 0.9577\n",
      "Epoch 8/10\n",
      "711/711 [==============================] - ETA: 0s - loss: 0.0607 - accuracy: 0.9828\n",
      "Epoch 00008: val_loss did not improve from 0.12611\n",
      "711/711 [==============================] - 31s 43ms/step - loss: 0.0607 - accuracy: 0.9828 - val_loss: 0.1294 - val_accuracy: 0.9593\n",
      "Epoch 9/10\n",
      "711/711 [==============================] - ETA: 0s - loss: 0.0526 - accuracy: 0.9845\n",
      "Epoch 00009: val_loss did not improve from 0.12611\n",
      "711/711 [==============================] - 31s 43ms/step - loss: 0.0526 - accuracy: 0.9845 - val_loss: 0.1294 - val_accuracy: 0.9589\n",
      "Epoch 10/10\n",
      "711/711 [==============================] - ETA: 0s - loss: 0.0463 - accuracy: 0.9856\n",
      "Epoch 00010: val_loss did not improve from 0.12611\n",
      "711/711 [==============================] - 30s 43ms/step - loss: 0.0463 - accuracy: 0.9856 - val_loss: 0.1452 - val_accuracy: 0.9533\n",
      "✅\n"
     ]
    }
   ],
   "source": [
    "#30분 내외 소요\n",
    "history_spectrogram_2D = model_Spectrogram_2D.fit(train_dataset, epochs=max_epochs,\n",
    "                    steps_per_epoch=len(train_spectrogram) // batch_size,\n",
    "                    validation_data=test_dataset,\n",
    "                    validation_steps=len(test_spectrogram) // batch_size,\n",
    "                    callbacks=[cp_callback]\n",
    "                    )\n",
    "print(\"✅\")"
   ]
  },
  {
   "cell_type": "code",
   "execution_count": 36,
   "id": "guilty-uncle",
   "metadata": {
    "scrolled": true
   },
   "outputs": [
    {
     "data": {
      "image/png": "[encoded data removed]",
      "text/plain": [
       "<Figure size 576x576 with 2 Axes>"
      ]
     },
     "metadata": {
      "needs_background": "light"
     },
     "output_type": "display_data"
    },
    {
     "name": "stdout",
     "output_type": "stream",
     "text": [
      "✅\n"
     ]
    }
   ],
   "source": [
    "import matplotlib.pyplot as plt\n",
    "\n",
    "acc = history_spectrogram_2D.history['accuracy']\n",
    "val_acc = history_spectrogram_2D.history['val_accuracy']\n",
    "\n",
    "loss=history_spectrogram_2D.history['loss']\n",
    "val_loss=history_spectrogram_2D.history['val_loss']\n",
    "\n",
    "epochs_range = range(len(acc))\n",
    "\n",
    "plt.figure(figsize=(8, 8))\n",
    "plt.subplot(1, 2, 1)\n",
    "plt.plot(epochs_range, acc, label='Training Accuracy')\n",
    "plt.plot(epochs_range, val_acc, label='Validation Accuracy')\n",
    "plt.legend(loc='lower right')\n",
    "plt.title('Training and Validation Accuracy')\n",
    "\n",
    "plt.subplot(1, 2, 2)\n",
    "plt.plot(epochs_range, loss, label='Training Loss')\n",
    "plt.plot(epochs_range, val_loss, label='Validation Loss')\n",
    "plt.legend(loc='upper right')\n",
    "plt.title('Training and Validation Loss')\n",
    "plt.show()\n",
    "print(\"✅\")"
   ]
  },
  {
   "cell_type": "code",
   "execution_count": 37,
   "id": "sweet-november",
   "metadata": {
    "scrolled": true
   },
   "outputs": [
    {
     "name": "stdout",
     "output_type": "stream",
     "text": [
      "80/80 [==============================] - 21s 264ms/step - loss: 0.1260 - accuracy: 0.9577\n",
      "loss value: 0.126\n",
      "accuracy value: 95.7724%\n",
      "✅\n"
     ]
    }
   ],
   "source": [
    "# Evaluation \n",
    "\n",
    "model_Spectrogram_2D.load_weights(checkpoint_dir)\n",
    "results = model_Spectrogram_2D.evaluate(test_dataset)\n",
    "\n",
    "# loss\n",
    "print(\"loss value: {:.3f}\".format(results[0]))\n",
    "# accuracy\n",
    "print(\"accuracy value: {:.4f}%\".format(results[1]*100))\n",
    "print(\"✅\")"
   ]
  },
  {
   "cell_type": "code",
   "execution_count": 38,
   "id": "superb-section",
   "metadata": {},
   "outputs": [
    {
     "name": "stdout",
     "output_type": "stream",
     "text": [
      "y_pred: down(Correct!)\n"
     ]
    }
   ],
   "source": [
    "inv_label_value = {v: k for k, v in label_value.items()}\n",
    "batch_index = np.random.choice(len(test_spectrogram), size=1, replace=False)\n",
    "\n",
    "batch_xs = test_spectrogram[batch_index]\n",
    "batch_ys = test_label[batch_index]\n",
    "y_pred_ = model_Spectrogram_2D(batch_xs, training=False)\n",
    "\n",
    "if np.argmax(y_pred_) == batch_ys[0]:\n",
    "    print(\"y_pred: \" + str(inv_label_value[np.argmax(y_pred_)]) + '(Correct!)')\n",
    "else:\n",
    "    print(\"y_pred: \" + str(inv_label_value[np.argmax(y_pred_)]) + '(Incorrect!)')"
   ]
  },
  {
   "cell_type": "markdown",
   "id": "blond-formula",
   "metadata": {},
   "source": [
    " \n",
    " \n",
    "  \n",
    "  \n",
    "   \n",
    "    \n",
    "    \n",
    "    \n",
    "    "
   ]
  },
  {
   "cell_type": "markdown",
   "id": "moral-keyboard",
   "metadata": {},
   "source": [
    "## **❗모델 설계 (3) - Skip-connection**"
   ]
  },
  {
   "cell_type": "markdown",
   "id": "unsigned-tourism",
   "metadata": {},
   "source": [
    "## ❗Skip-connection model 사용 (모델 설계부터 평가까지)"
   ]
  },
  {
   "cell_type": "code",
   "execution_count": 39,
   "id": "expected-whole",
   "metadata": {},
   "outputs": [
    {
     "name": "stdout",
     "output_type": "stream",
     "text": [
      "Model: \"model_2\"\n",
      "__________________________________________________________________________________________________\n",
      "Layer (type)                    Output Shape         Param #     Connected to                     \n",
      "==================================================================================================\n",
      "input_3 (InputLayer)            [(None, 130, 126)]   0                                            \n",
      "__________________________________________________________________________________________________\n",
      "conv1d_10 (Conv1D)              (None, 130, 32)      36320       input_3[0][0]                    \n",
      "__________________________________________________________________________________________________\n",
      "conv1d_11 (Conv1D)              (None, 130, 32)      9248        conv1d_10[0][0]                  \n",
      "__________________________________________________________________________________________________\n",
      "max_pooling1d_4 (MaxPooling1D)  (None, 65, 32)       0           conv1d_11[0][0]                  \n",
      "__________________________________________________________________________________________________\n",
      "conv1d_12 (Conv1D)              (None, 65, 64)       18496       max_pooling1d_4[0][0]            \n",
      "__________________________________________________________________________________________________\n",
      "conv1d_13 (Conv1D)              (None, 65, 64)       36928       conv1d_12[0][0]                  \n",
      "__________________________________________________________________________________________________\n",
      "tf_op_layer_concat (TensorFlowO [(None, 65, 96)]     0           conv1d_13[0][0]                  \n",
      "                                                                 max_pooling1d_4[0][0]            \n",
      "__________________________________________________________________________________________________\n",
      "max_pooling1d_5 (MaxPooling1D)  (None, 32, 96)       0           tf_op_layer_concat[0][0]         \n",
      "__________________________________________________________________________________________________\n",
      "conv1d_14 (Conv1D)              (None, 32, 128)      110720      max_pooling1d_5[0][0]            \n",
      "__________________________________________________________________________________________________\n",
      "conv1d_15 (Conv1D)              (None, 32, 128)      147584      conv1d_14[0][0]                  \n",
      "__________________________________________________________________________________________________\n",
      "conv1d_16 (Conv1D)              (None, 32, 128)      147584      conv1d_15[0][0]                  \n",
      "__________________________________________________________________________________________________\n",
      "tf_op_layer_concat_1 (TensorFlo [(None, 32, 224)]    0           conv1d_16[0][0]                  \n",
      "                                                                 max_pooling1d_5[0][0]            \n",
      "__________________________________________________________________________________________________\n",
      "max_pooling1d_6 (MaxPooling1D)  (None, 16, 224)      0           tf_op_layer_concat_1[0][0]       \n",
      "__________________________________________________________________________________________________\n",
      "conv1d_17 (Conv1D)              (None, 16, 256)      516352      max_pooling1d_6[0][0]            \n",
      "__________________________________________________________________________________________________\n",
      "conv1d_18 (Conv1D)              (None, 16, 256)      590080      conv1d_17[0][0]                  \n",
      "__________________________________________________________________________________________________\n",
      "conv1d_19 (Conv1D)              (None, 16, 256)      590080      conv1d_18[0][0]                  \n",
      "__________________________________________________________________________________________________\n",
      "tf_op_layer_concat_2 (TensorFlo [(None, 16, 480)]    0           conv1d_19[0][0]                  \n",
      "                                                                 max_pooling1d_6[0][0]            \n",
      "__________________________________________________________________________________________________\n",
      "max_pooling1d_7 (MaxPooling1D)  (None, 8, 480)       0           tf_op_layer_concat_2[0][0]       \n",
      "__________________________________________________________________________________________________\n",
      "dropout_2 (Dropout)             (None, 8, 480)       0           max_pooling1d_7[0][0]            \n",
      "__________________________________________________________________________________________________\n",
      "flatten_2 (Flatten)             (None, 3840)         0           dropout_2[0][0]                  \n",
      "__________________________________________________________________________________________________\n",
      "dense_4 (Dense)                 (None, 256)          983296      flatten_2[0][0]                  \n",
      "__________________________________________________________________________________________________\n",
      "batch_normalization_2 (BatchNor (None, 256)          1024        dense_4[0][0]                    \n",
      "__________________________________________________________________________________________________\n",
      "activation_2 (Activation)       (None, 256)          0           batch_normalization_2[0][0]      \n",
      "__________________________________________________________________________________________________\n",
      "dense_5 (Dense)                 (None, 12)           3084        activation_2[0][0]               \n",
      "==================================================================================================\n",
      "Total params: 3,190,796\n",
      "Trainable params: 3,190,284\n",
      "Non-trainable params: 512\n",
      "__________________________________________________________________________________________________\n"
     ]
    }
   ],
   "source": [
    "input_tensor = layers.Input(shape=(sr,sc))\n",
    "\n",
    "x = layers.Conv1D(32, 9, padding='same', activation='relu')(input_tensor)\n",
    "x = layers.Conv1D(32, 9, padding='same', activation='relu')(x)\n",
    "skip_1 = layers.MaxPool1D()(x)\n",
    "\n",
    "x = layers.Conv1D(64, 9, padding='same', activation='relu')(skip_1)\n",
    "x = layers.Conv1D(64, 9, padding='same', activation='relu')(x)\n",
    "x = tf.concat([x, skip_1], -1)\n",
    "skip_2 = layers.MaxPool1D()(x)\n",
    "\n",
    "x = layers.Conv1D(128, 9, padding='same', activation='relu')(skip_2)\n",
    "x = layers.Conv1D(128, 9, padding='same', activation='relu')(x)\n",
    "x = layers.Conv1D(128, 9, padding='same', activation='relu')(x)\n",
    "x = tf.concat([x, skip_2], -1)\n",
    "skip_3 = layers.MaxPool1D()(x)\n",
    "\n",
    "x = layers.Conv1D(256, 9, padding='same', activation='relu')(skip_3)\n",
    "x = layers.Conv1D(256, 9, padding='same', activation='relu')(x)\n",
    "x = layers.Conv1D(256, 9, padding='same', activation='relu')(x)\n",
    "x = tf.concat([x, skip_3], -1)\n",
    "x = layers.MaxPool1D()(x)\n",
    "x = layers.Dropout(0.3)(x)\n",
    "\n",
    "x = layers.Flatten()(x)\n",
    "x = layers.Dense(256)(x)\n",
    "x = layers.BatchNormalization()(x)\n",
    "x = layers.Activation('relu')(x)\n",
    "\n",
    "output_tensor = layers.Dense(12)(x)\n",
    "\n",
    "model_spectrogram_skip = tf.keras.Model(input_tensor, output_tensor)\n",
    "\n",
    "model_spectrogram_skip.summary()"
   ]
  },
  {
   "cell_type": "code",
   "execution_count": 40,
   "id": "detected-sculpture",
   "metadata": {
    "scrolled": true
   },
   "outputs": [
    {
     "name": "stdout",
     "output_type": "stream",
     "text": [
      "✅\n"
     ]
    }
   ],
   "source": [
    "optimizer=tf.keras.optimizers.Adam(1e-4)\n",
    "model_spectrogram_skip.compile(loss=tf.keras.losses.CategoricalCrossentropy(from_logits=True),\n",
    "             optimizer=optimizer,\n",
    "             metrics=['accuracy'])\n",
    "print(\"✅\")"
   ]
  },
  {
   "cell_type": "code",
   "execution_count": 41,
   "id": "devoted-classroom",
   "metadata": {},
   "outputs": [
    {
     "name": "stdout",
     "output_type": "stream",
     "text": [
      "✅\n"
     ]
    }
   ],
   "source": [
    "# the save point\n",
    "checkpoint_dir = os.getenv('HOME')+'/aiffel/speech_recognition/models/spectrogram_skip'\n",
    "\n",
    "cp_callback = tf.keras.callbacks.ModelCheckpoint(checkpoint_dir,\n",
    "                                                 save_weights_only=True,\n",
    "                                                 monitor='val_loss',\n",
    "                                                 mode='auto',\n",
    "                                                 save_best_only=True,\n",
    "                                                 verbose=1)\n",
    "print(\"✅\")"
   ]
  },
  {
   "cell_type": "code",
   "execution_count": 42,
   "id": "saved-trading",
   "metadata": {},
   "outputs": [
    {
     "name": "stdout",
     "output_type": "stream",
     "text": [
      "Epoch 1/10\n",
      "705/711 [============================>.] - ETA: 0s - loss: 1.6442 - accuracy: 0.4394\n",
      "Epoch 00001: val_loss improved from inf to 1.14930, saving model to /home/aiffel-dj40/aiffel/speech_recognition/models/spectrogram_skip\n",
      "711/711 [==============================] - 6s 8ms/step - loss: 1.6393 - accuracy: 0.4407 - val_loss: 1.1493 - val_accuracy: 0.6092\n",
      "Epoch 2/10\n",
      "705/711 [============================>.] - ETA: 0s - loss: 0.9686 - accuracy: 0.6673\n",
      "Epoch 00002: val_loss improved from 1.14930 to 0.74765, saving model to /home/aiffel-dj40/aiffel/speech_recognition/models/spectrogram_skip\n",
      "711/711 [==============================] - 5s 7ms/step - loss: 0.9668 - accuracy: 0.6680 - val_loss: 0.7477 - val_accuracy: 0.7413\n",
      "Epoch 3/10\n",
      "705/711 [============================>.] - ETA: 0s - loss: 0.6614 - accuracy: 0.7730\n",
      "Epoch 00003: val_loss improved from 0.74765 to 0.54936, saving model to /home/aiffel-dj40/aiffel/speech_recognition/models/spectrogram_skip\n",
      "711/711 [==============================] - 5s 7ms/step - loss: 0.6597 - accuracy: 0.7737 - val_loss: 0.5494 - val_accuracy: 0.8137\n",
      "Epoch 4/10\n",
      "705/711 [============================>.] - ETA: 0s - loss: 0.4718 - accuracy: 0.8376\n",
      "Epoch 00004: val_loss improved from 0.54936 to 0.46468, saving model to /home/aiffel-dj40/aiffel/speech_recognition/models/spectrogram_skip\n",
      "711/711 [==============================] - 5s 7ms/step - loss: 0.4708 - accuracy: 0.8382 - val_loss: 0.4647 - val_accuracy: 0.8339\n",
      "Epoch 5/10\n",
      "706/711 [============================>.] - ETA: 0s - loss: 0.3609 - accuracy: 0.8767\n",
      "Epoch 00005: val_loss improved from 0.46468 to 0.38958, saving model to /home/aiffel-dj40/aiffel/speech_recognition/models/spectrogram_skip\n",
      "711/711 [==============================] - 5s 7ms/step - loss: 0.3604 - accuracy: 0.8770 - val_loss: 0.3896 - val_accuracy: 0.8675\n",
      "Epoch 6/10\n",
      "707/711 [============================>.] - ETA: 0s - loss: 0.2798 - accuracy: 0.9051\n",
      "Epoch 00006: val_loss improved from 0.38958 to 0.33472, saving model to /home/aiffel-dj40/aiffel/speech_recognition/models/spectrogram_skip\n",
      "711/711 [==============================] - 5s 7ms/step - loss: 0.2796 - accuracy: 0.9052 - val_loss: 0.3347 - val_accuracy: 0.8924\n",
      "Epoch 7/10\n",
      "706/711 [============================>.] - ETA: 0s - loss: 0.2205 - accuracy: 0.9251\n",
      "Epoch 00007: val_loss did not improve from 0.33472\n",
      "711/711 [==============================] - 5s 7ms/step - loss: 0.2202 - accuracy: 0.9253 - val_loss: 0.3707 - val_accuracy: 0.8782\n",
      "Epoch 8/10\n",
      "705/711 [============================>.] - ETA: 0s - loss: 0.1758 - accuracy: 0.9418\n",
      "Epoch 00008: val_loss did not improve from 0.33472\n",
      "711/711 [==============================] - 5s 7ms/step - loss: 0.1755 - accuracy: 0.9419 - val_loss: 0.3383 - val_accuracy: 0.8987\n",
      "Epoch 9/10\n",
      "704/711 [============================>.] - ETA: 0s - loss: 0.1518 - accuracy: 0.9501\n",
      "Epoch 00009: val_loss did not improve from 0.33472\n",
      "711/711 [==============================] - 5s 7ms/step - loss: 0.1518 - accuracy: 0.9501 - val_loss: 0.3912 - val_accuracy: 0.8837\n",
      "Epoch 10/10\n",
      "707/711 [============================>.] - ETA: 0s - loss: 0.1286 - accuracy: 0.9572\n",
      "Epoch 00010: val_loss did not improve from 0.33472\n",
      "711/711 [==============================] - 5s 7ms/step - loss: 0.1284 - accuracy: 0.9573 - val_loss: 0.3466 - val_accuracy: 0.8987\n",
      "✅\n"
     ]
    }
   ],
   "source": [
    "#30분 내외 소요\n",
    "history_spectrogram_skip = model_spectrogram_skip.fit(train_dataset, epochs=max_epochs,\n",
    "                    steps_per_epoch=len(train_spectrogram) // batch_size,\n",
    "                    validation_data=test_dataset,\n",
    "                    validation_steps=len(test_spectrogram) // batch_size,\n",
    "                    callbacks=[cp_callback]\n",
    "                    )\n",
    "print(\"✅\")"
   ]
  },
  {
   "cell_type": "code",
   "execution_count": 43,
   "id": "external-parliament",
   "metadata": {},
   "outputs": [
    {
     "data": {
      "image/png": "[encoded data removed]",
      "text/plain": [
       "<Figure size 576x576 with 2 Axes>"
      ]
     },
     "metadata": {
      "needs_background": "light"
     },
     "output_type": "display_data"
    },
    {
     "name": "stdout",
     "output_type": "stream",
     "text": [
      "✅\n"
     ]
    }
   ],
   "source": [
    "import matplotlib.pyplot as plt\n",
    "\n",
    "acc = history_spectrogram_skip.history['accuracy']\n",
    "val_acc = history_spectrogram_skip.history['val_accuracy']\n",
    "\n",
    "loss=history_spectrogram_skip.history['loss']\n",
    "val_loss=history_spectrogram_skip.history['val_loss']\n",
    "\n",
    "epochs_range = range(len(acc))\n",
    "\n",
    "plt.figure(figsize=(8, 8))\n",
    "plt.subplot(1, 2, 1)\n",
    "plt.plot(epochs_range, acc, label='Training Accuracy')\n",
    "plt.plot(epochs_range, val_acc, label='Validation Accuracy')\n",
    "plt.legend(loc='lower right')\n",
    "plt.title('Training and Validation Accuracy')\n",
    "\n",
    "plt.subplot(1, 2, 2)\n",
    "plt.plot(epochs_range, loss, label='Training Loss')\n",
    "plt.plot(epochs_range, val_loss, label='Validation Loss')\n",
    "plt.legend(loc='upper right')\n",
    "plt.title('Training and Validation Loss')\n",
    "plt.show()\n",
    "print(\"✅\")"
   ]
  },
  {
   "cell_type": "code",
   "execution_count": 44,
   "id": "matched-death",
   "metadata": {},
   "outputs": [
    {
     "name": "stdout",
     "output_type": "stream",
     "text": [
      "80/80 [==============================] - 4s 47ms/step - loss: 0.3347 - accuracy: 0.8925\n",
      "loss value: 0.335\n",
      "accuracy value: 89.2533%\n",
      "✅\n"
     ]
    }
   ],
   "source": [
    "# Evaluation \n",
    "\n",
    "model_spectrogram_skip.load_weights(checkpoint_dir)\n",
    "results = model_spectrogram_skip.evaluate(test_dataset)\n",
    "\n",
    "# loss\n",
    "print(\"loss value: {:.3f}\".format(results[0]))\n",
    "# accuracy\n",
    "print(\"accuracy value: {:.4f}%\".format(results[1]*100))\n",
    "print(\"✅\")"
   ]
  },
  {
   "cell_type": "code",
   "execution_count": 45,
   "id": "indoor-enclosure",
   "metadata": {},
   "outputs": [
    {
     "name": "stdout",
     "output_type": "stream",
     "text": [
      "y_pred: down(Correct!)\n"
     ]
    }
   ],
   "source": [
    "inv_label_value = {v: k for k, v in label_value.items()}\n",
    "batch_index = np.random.choice(len(test_spectrogram), size=1, replace=False)\n",
    "\n",
    "batch_xs = test_spectrogram[batch_index]\n",
    "batch_ys = test_label[batch_index]\n",
    "y_pred_ = model_spectrogram_skip(batch_xs, training=False)\n",
    "\n",
    "if np.argmax(y_pred_) == batch_ys[0]:\n",
    "    print(\"y_pred: \" + str(inv_label_value[np.argmax(y_pred_)]) + '(Correct!)')\n",
    "else:\n",
    "    print(\"y_pred: \" + str(inv_label_value[np.argmax(y_pred_)]) + '(Incorrect!)')"
   ]
  },
  {
   "cell_type": "markdown",
   "id": "engaging-jewelry",
   "metadata": {},
   "source": [
    " \n",
    " \n",
    "  \n",
    "  \n",
    "   \n",
    "    \n",
    "    \n",
    "    \n",
    "    "
   ]
  },
  {
   "cell_type": "markdown",
   "id": "tracked-detection",
   "metadata": {},
   "source": [
    "# 🔥결과🔥"
   ]
  },
  {
   "cell_type": "code",
   "execution_count": 50,
   "id": "quiet-income",
   "metadata": {
    "scrolled": true
   },
   "outputs": [
    {
     "data": {
      "text/html": [
       "<div>\n",
       "<style scoped>\n",
       "    .dataframe tbody tr th:only-of-type {\n",
       "        vertical-align: middle;\n",
       "    }\n",
       "\n",
       "    .dataframe tbody tr th {\n",
       "        vertical-align: top;\n",
       "    }\n",
       "\n",
       "    .dataframe thead th {\n",
       "        text-align: right;\n",
       "    }\n",
       "</style>\n",
       "<table border=\"1\" class=\"dataframe\">\n",
       "  <thead>\n",
       "    <tr style=\"text-align: right;\">\n",
       "      <th></th>\n",
       "      <th>name</th>\n",
       "      <th>loss_val</th>\n",
       "      <th>accuracy_value</th>\n",
       "    </tr>\n",
       "  </thead>\n",
       "  <tbody>\n",
       "    <tr>\n",
       "      <th>0</th>\n",
       "      <td>1D</td>\n",
       "      <td>0.330</td>\n",
       "      <td>0.89</td>\n",
       "    </tr>\n",
       "    <tr>\n",
       "      <th>1</th>\n",
       "      <td>2D</td>\n",
       "      <td>0.126</td>\n",
       "      <td>0.95</td>\n",
       "    </tr>\n",
       "    <tr>\n",
       "      <th>2</th>\n",
       "      <td>1D_skip</td>\n",
       "      <td>0.335</td>\n",
       "      <td>0.89</td>\n",
       "    </tr>\n",
       "  </tbody>\n",
       "</table>\n",
       "</div>"
      ],
      "text/plain": [
       "      name  loss_val  accuracy_value\n",
       "0       1D     0.330            0.89\n",
       "1       2D     0.126            0.95\n",
       "2  1D_skip     0.335            0.89"
      ]
     },
     "execution_count": 50,
     "metadata": {},
     "output_type": "execute_result"
    }
   ],
   "source": [
    "import pandas as pd\n",
    "df = pd.DataFrame(data={'name' : ['1D', '2D', '1D_skip'], \n",
    "                        'loss_val' : [0.33, 0.126, 0.335], \n",
    "                        'accuracy_value' : [0.89, 0.95, 0.89]\n",
    "                       })\n",
    "df"
   ]
  },
  {
   "cell_type": "markdown",
   "id": "assigned-threshold",
   "metadata": {},
   "source": [
    " \n",
    " \n",
    "  \n",
    "  \n",
    "   \n",
    "    \n",
    "    \n",
    "    \n",
    "    "
   ]
  },
  {
   "cell_type": "markdown",
   "id": "ready-springfield",
   "metadata": {},
   "source": [
    "## 7. 루브릭 평가 및 회고"
   ]
  },
  {
   "cell_type": "markdown",
   "id": "driving-porter",
   "metadata": {},
   "source": [
    "## <루브릭 평가>\n",
    "### 1. 음성데이터를 2차원 Spectrogram 으로 변환하여 데이터셋을 구성하였다.\n",
    "### - wav2spec 함수를 이용해 wav 데이터를 for문을 활용해 데이터셋을 구성함\n",
    "\n",
    "### 2. 1,2차원 데이터를 처리하는 음성인식 모델이 정상 작동한다.\n",
    "### - 1,2 차원 처리하는 모델 정상 확인\n",
    "\n",
    "### 3. 테스트셋 수행결과 음성인식 모델의 Accuracy가 일정 수준(75%이상)에 도달하였다.\n",
    "### - 3가지 모델 모두 75%이상 확인"
   ]
  },
  {
   "cell_type": "markdown",
   "id": "later-original",
   "metadata": {},
   "source": [
    "## <회고>\n",
    "### 1) 먼저 오디오 데이터는 인생사 처음이라 당황 + 어려움 + 헷갈림의 연속\n",
    "### 2) 하지만 슬랙을 통해 노드 작성자분의 상세한 답변과 하나하나 채워가는 느낌이 있었다\n",
    "### 3) 물론 과제를 작성하는데 어려움도 많았는데 그 중 새로 배운 내용을 몇 가지 적어보겠다.\n",
    "###  - reshape를 할 때 -1활용: 행렬 모양을 변경하고자 할 때 -1을 사용하면 알아서 형상을 정해준다.\n",
    "###    즉, (4,5) 행렬에 reshape(2,-1)을 해주면 행은 2로 고정이 되고 열은 자동으로 4\\*5 = 20 = 2 \\* <span style=\"color:red\">10</span>이 되어 (2,10) 형상이 된다.\n",
    "###  - 모델에 입력하기 위해 형상 변경을 할 때 (sr, sc,)를 사용했는데 1D 학습시에는 자동으로 2차원으로 입력되고 2D 학습시에는 (sr,sc,1)과 같이 정확히 3개의 입력을 적어야 모델 학습이 진행되었다.\n",
    "###   즉, (x,y,) 이러한 형상을 입력하면 알아서 (x,y)로 입력되는 것 (파이썬은 똑똑하다)\n",
    "### - sr, sc는 spectrogram의 형상인데 여기서는 130과 126이다. 130은 (258+1)=FFT값/2 이고 126은 시간축이라는 사실을 알게 되었다.\n",
    "### 끝으로 작은 부분도 같이 고민하고 함께 알아내느라 힘써준 7조원분들에게 감사함을 표한다!"
   ]
  }
 ],
 "metadata": {
  "kernelspec": {
   "display_name": "aiffel",
   "language": "python",
   "name": "aiffel"
  },
  "language_info": {
   "codemirror_mode": {
    "name": "ipython",
    "version": 3
   },
   "file_extension": ".py",
   "mimetype": "text/x-python",
   "name": "python",
   "nbconvert_exporter": "python",
   "pygments_lexer": "ipython3",
   "version": "3.7.9"
  }
 },
 "nbformat": 4,
 "nbformat_minor": 5
}
